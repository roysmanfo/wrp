{
 "cells": [
  {
   "cell_type": "markdown",
   "id": "62cccb09",
   "metadata": {},
   "source": [
    "# wrp-2\n",
    "`wrp-2` è una modello piu grande e potente di `wrp-1` in grado di individuare dati mancanti e riempirli in modo intelligente, \n",
    "queso è possibile perché `wrp-2` è diviso in 2 parti:\n",
    "- un algoritmo `KNN` che infierisce sui dati riempiendo eventuali buchi\n",
    "- una rete neurale per apprendimento profondo che stima il peso del gatto\n",
    "\n",
    "`wrp-2` è in grado di supportare fino ad 1 dato mancante, stimando quale possa essere il valore basandosi su esperienze passate per scegliere come riempire il buco in modo inteligente ed il più vicino alla realtà possibile"
   ]
  },
  {
   "cell_type": "code",
   "execution_count": 17,
   "id": "967da321",
   "metadata": {},
   "outputs": [],
   "source": [
    "import os\n",
    "from pathlib import Path\n",
    "import joblib\n",
    "\n",
    "import pandas as pd\n",
    "import numpy as np\n",
    "\n",
    "from sklearn.impute import KNNImputer\n",
    "from sklearn.preprocessing import OrdinalEncoder, StandardScaler, OneHotEncoder\n",
    "from sklearn.compose import ColumnTransformer\n",
    "from sklearn.model_selection import train_test_split\n",
    "from sklearn.metrics import r2_score\n",
    "\n",
    "from keras.models import load_model\n",
    "from keras.models import Sequential\n",
    "from keras.layers import Dense, Dropout, Input\n",
    "from keras.optimizers import Adam\n",
    "from keras.callbacks import EarlyStopping, ReduceLROnPlateau"
   ]
  },
  {
   "cell_type": "code",
   "execution_count": 18,
   "id": "a84d2980",
   "metadata": {},
   "outputs": [
    {
     "name": "stdout",
     "output_type": "stream",
     "text": [
      "Trovate 4869 righe complete.\n",
      "Trovate 29 righe con un valore mancante da imputare.\n",
      "Scartate 0 righe con troppi valori mancanti.\n"
     ]
    }
   ],
   "source": [
    "# Carica il dataset completo\n",
    "df = pd.read_csv(\"../data/training_set.csv\")\n",
    "binary_columns = ['pelo_lungo', 'sterilizzato', 'vive_interno']  # valori 0/1\n",
    "\n",
    "\n",
    "\n",
    "# Nelle colonne dove i dati sono binari,\n",
    "# potrebbero essere presenti dei \"Si\" e \"No\"\n",
    "# o il datatype sbagliato, questa funzione si occupa\n",
    "# di assicurare che il valore in queste colonne sia sempre e solo 0/1\n",
    "def ensure_binary(col: pd.Series) -> pd.Series:\n",
    "    binary_map = {\n",
    "        1: 1,\n",
    "        0: 0,\n",
    "        '1': 1,\n",
    "        '0': 0,\n",
    "        'Si': 1,\n",
    "        'No': 0\n",
    "    }\n",
    "    return col.map(binary_map)\n",
    "\n",
    "# Assicurati che binary_columns abbia solo 0 e 1\n",
    "for col in binary_columns:\n",
    "    df[col] = ensure_binary(df[col])\n",
    "\n",
    "\n",
    "# righe senza nessun valore mancante (per addestrare l'imputer)\n",
    "df_complete = df.dropna()\n",
    "\n",
    "# righe con esattamente UN valore mancante (da completare)\n",
    "rows_with_nan = df[df.isnull().sum(axis=1) == 1].copy()\n",
    "\n",
    "# righe con più di un valore mancante (opzionale, per ora le scartiamo)\n",
    "rows_to_discard = df[df.isnull().sum(axis=1) > 1]\n",
    "\n",
    "print(f\"Trovate {len(df_complete)} righe complete.\")\n",
    "print(f\"Trovate {len(rows_with_nan)} righe con un valore mancante da imputare.\")\n",
    "print(f\"Scartate {len(rows_to_discard)} righe con troppi valori mancanti.\")\n",
    "\n",
    "del df_complete, rows_to_discard, rows_with_nan"
   ]
  },
  {
   "cell_type": "code",
   "execution_count": 19,
   "id": "f66b69d0",
   "metadata": {},
   "outputs": [],
   "source": [
    "def create_imputer(df: pd.DataFrame, n_neighbours: int = 5):\n",
    "    features = ['eta_mesi', 'razza', 'sesso', 'peso_nascita_kg', 'lunghezza_cm', \n",
    "                'altezza_spalla_cm', 'attivita_giornaliera', 'quantita_cibo_giorno_g', \n",
    "                'tipo_cibo', 'pelo_lungo', 'sterilizzato', 'temperatura_media_zona', \n",
    "                'vive_interno']\n",
    "    \n",
    "    categorical_cols = ['razza', 'sesso', 'tipo_cibo']\n",
    "    \n",
    "    X_complete = df[features].copy()\n",
    "    X_complete[categorical_cols] = X_complete[categorical_cols].fillna('Unknown')\n",
    "\n",
    "    encoder = OrdinalEncoder(handle_unknown='use_encoded_value', unknown_value=-1)\n",
    "    X_complete[categorical_cols] = encoder.fit_transform(X_complete[categorical_cols])\n",
    "\n",
    "    imputer = KNNImputer(n_neighbors=n_neighbours)\n",
    "    imputer.fit(X_complete)\n",
    "\n",
    "    return imputer, encoder\n"
   ]
  },
  {
   "cell_type": "code",
   "execution_count": 20,
   "id": "e5019add",
   "metadata": {},
   "outputs": [],
   "source": [
    "def crate_preprocessor(df: pd.DataFrame):\n",
    "    categorical_columns = ['razza', 'sesso', 'tipo_cibo'] # puramente stringe di testo\n",
    "    binary_columns = ['pelo_lungo', 'sterilizzato', 'vive_interno']  # valori 0/1\n",
    "    numerical_columns = df.columns.drop(categorical_columns + binary_columns).tolist() # valori numerici\n",
    "\n",
    "\n",
    "    preprocessor = ColumnTransformer(\n",
    "        transformers=[\n",
    "            ('num', StandardScaler(), numerical_columns),\n",
    "            ('bin', 'passthrough', binary_columns),\n",
    "            ('cat', OneHotEncoder(handle_unknown='ignore'), categorical_columns)\n",
    "        ])\n",
    "    preprocessor.fit(df)\n",
    "    return preprocessor"
   ]
  },
  {
   "cell_type": "code",
   "execution_count": 21,
   "id": "03479f0f",
   "metadata": {},
   "outputs": [],
   "source": [
    "class DataEncoder:\n",
    "    def __init__(self, imputer: KNNImputer, ord_encoder: OrdinalEncoder, preprocessor: ColumnTransformer):\n",
    "        self.imputer = imputer\n",
    "        self.ord_encoder = ord_encoder\n",
    "        self.preprocessor = preprocessor\n",
    "\n",
    "    def __call__(self, df: pd.DataFrame):\n",
    "        return self.process(df)\n",
    "\n",
    "    def process(self, df: pd.DataFrame):\n",
    "        df = self._impute_missing_data(df)\n",
    "        df_clean, ids = self._preprocess_data(df)\n",
    "        X_processed = self.preprocessor.transform(df_clean)\n",
    "        return X_processed, ids\n",
    "        \n",
    "\n",
    "    def _impute_missing_data(self, df: pd.DataFrame) -> pd.DataFrame:\n",
    "        # Seleziona solo le feature dal set di dati completo\n",
    "        features = ['eta_mesi', 'razza', 'sesso', 'peso_nascita_kg', 'lunghezza_cm', \n",
    "                    'altezza_spalla_cm', 'attivita_giornaliera', 'quantita_cibo_giorno_g', \n",
    "                    'tipo_cibo', 'pelo_lungo', 'sterilizzato', 'temperatura_media_zona', \n",
    "                    'vive_interno']\n",
    "        categorical_cols = ['razza', 'sesso', 'tipo_cibo']\n",
    "\n",
    "        \n",
    "        df_complete = df.dropna()\n",
    "        rows_with_nan = df[df[features].isnull().any(axis=1)].copy()\n",
    "        \n",
    "        # prepara il set con i dati mancanti\n",
    "        X_to_impute = rows_with_nan[features].copy()\n",
    "        X_to_impute[categorical_cols] = X_to_impute[categorical_cols].fillna('Unknown')\n",
    "        X_to_impute[categorical_cols] = self.ord_encoder.transform(X_to_impute[categorical_cols])\n",
    "\n",
    "        # applica l'imputer per riempire i valori mancanti\n",
    "        X_imputed_array = self.imputer.transform(X_to_impute)\n",
    "        df_imputed = pd.DataFrame(X_imputed_array, columns=features)\n",
    "\n",
    "        # riconverti le colonne categoriche al loro formato originale\n",
    "        for col in categorical_cols:\n",
    "            df_imputed[col] = df_imputed[col].round().astype(int)\n",
    "        df_imputed[categorical_cols] = self.ord_encoder.inverse_transform(df_imputed[categorical_cols])\n",
    "\n",
    "        # Aggiungi di nuovo l'ID del gatto e il peso\n",
    "        df_imputed['id_gatto'] = rows_with_nan['id_gatto'].values\n",
    "        try:\n",
    "            df_imputed['peso_adulto_kg'] = rows_with_nan['peso_adulto_kg'].values\n",
    "        except:\n",
    "            pass\n",
    "        return pd.concat([df_complete, df_imputed], ignore_index=True)\n",
    "    \n",
    "    def _preprocess_data(self, df: pd.DataFrame):\n",
    "        df_clean = df.copy()\n",
    "        \n",
    "        # Rimuovi id_gatto\n",
    "        if 'id_gatto' in df_clean.columns:\n",
    "            ids = df_clean['id_gatto'].astype(int)\n",
    "            df_clean = df_clean.drop(columns=['id_gatto'])\n",
    "        else:\n",
    "            ids = range(len(df_clean))\n",
    "        \n",
    "        # Gestisci valori mancanti numerici\n",
    "        numeric_cols = ['eta_mesi', 'peso_nascita_kg', 'lunghezza_cm', 'altezza_spalla_cm', \n",
    "                    'attivita_giornaliera', 'quantita_cibo_giorno_g', 'temperatura_media_zona']\n",
    "        \n",
    "        for col in numeric_cols:\n",
    "            if col in df_clean.columns:\n",
    "                df_clean[col] = pd.to_numeric(df_clean[col], errors='coerce')\n",
    "                df_clean[col] = df_clean[col].fillna(df_clean[col].median() if not df_clean[col].isna().all() else 0)\n",
    "        \n",
    "        # Gestisci valori mancanti binari\n",
    "        binary_cols = ['pelo_lungo', 'sterilizzato', 'vive_interno']\n",
    "        for col in binary_cols:\n",
    "            if col in df_clean.columns:\n",
    "                df_clean[col] = pd.to_numeric(df_clean[col], errors='coerce')\n",
    "                df_clean[col] = df_clean[col].fillna(0)\n",
    "                df_clean[col] = df_clean[col].apply(lambda x: 1 if x == 1 else 0)\n",
    "        \n",
    "        # Gestisci categorie sconosciute\n",
    "        categorical_cols = ['razza', 'sesso', 'tipo_cibo']\n",
    "        for col in categorical_cols:\n",
    "            if col in df_clean.columns:\n",
    "                df_clean[col] = df_clean[col].fillna('Unknown')\n",
    "                # Converti a stringa per sicurezza\n",
    "                df_clean[col] = df_clean[col].astype(str)\n",
    "        \n",
    "        return df_clean, ids\n",
    "    \n",
    "    def _ensure_binary(col: pd.Series) -> pd.Series:\n",
    "        \"\"\"\n",
    "        Nelle colonne dove i dati sono binari,\n",
    "        potrebbero essere presenti dei \"Si\" e \"No\"\n",
    "        o il datatype sbagliato, questa funzione si occupa\n",
    "        di assicurare che il valore in queste colonne sia sempre e solo 0/1\n",
    "        \"\"\"\n",
    "        binary_map = {\n",
    "            1: 1,       0: 0,\n",
    "            '1': 1,     '0': 0,\n",
    "            'Si': 1,    'No': 0\n",
    "        }\n",
    "        return col.map(binary_map)\n",
    "\n",
    "# usa lo stesso ColumnTransformer di wrp-1\n",
    "preprocessor: ColumnTransformer = joblib.load(\"../models/wrp-1/preprocessor.pkl\")\n",
    "data_encoder = DataEncoder(*create_imputer(df.drop(columns=['id_gatto', 'peso_adulto_kg'])), preprocessor)"
   ]
  },
  {
   "cell_type": "code",
   "execution_count": 22,
   "id": "ba6a87ff",
   "metadata": {},
   "outputs": [
    {
     "data": {
      "application/vnd.microsoft.datawrangler.viewer.v0+json": {
       "columns": [
        {
         "name": "index",
         "rawType": "object",
         "type": "string"
        },
        {
         "name": "0",
         "rawType": "int64",
         "type": "integer"
        }
       ],
       "ref": "957d3f45-76f1-4edc-ac1d-521ec7448311",
       "rows": [
        [
         "id_gatto",
         "0"
        ],
        [
         "eta_mesi",
         "0"
        ],
        [
         "razza",
         "0"
        ],
        [
         "sesso",
         "0"
        ],
        [
         "peso_nascita_kg",
         "0"
        ],
        [
         "lunghezza_cm",
         "0"
        ],
        [
         "altezza_spalla_cm",
         "0"
        ],
        [
         "attivita_giornaliera",
         "0"
        ],
        [
         "quantita_cibo_giorno_g",
         "0"
        ],
        [
         "tipo_cibo",
         "0"
        ],
        [
         "pelo_lungo",
         "0"
        ],
        [
         "sterilizzato",
         "0"
        ],
        [
         "temperatura_media_zona",
         "0"
        ],
        [
         "vive_interno",
         "0"
        ],
        [
         "peso_adulto_kg",
         "0"
        ]
       ],
       "shape": {
        "columns": 1,
        "rows": 15
       }
      },
      "text/plain": [
       "id_gatto                  0\n",
       "eta_mesi                  0\n",
       "razza                     0\n",
       "sesso                     0\n",
       "peso_nascita_kg           0\n",
       "lunghezza_cm              0\n",
       "altezza_spalla_cm         0\n",
       "attivita_giornaliera      0\n",
       "quantita_cibo_giorno_g    0\n",
       "tipo_cibo                 0\n",
       "pelo_lungo                0\n",
       "sterilizzato              0\n",
       "temperatura_media_zona    0\n",
       "vive_interno              0\n",
       "peso_adulto_kg            0\n",
       "dtype: int64"
      ]
     },
     "execution_count": 22,
     "metadata": {},
     "output_type": "execute_result"
    }
   ],
   "source": [
    "data_encoder._impute_missing_data(df).isnull().sum()"
   ]
  },
  {
   "cell_type": "code",
   "execution_count": 23,
   "id": "ecef5f42",
   "metadata": {},
   "outputs": [],
   "source": [
    "def preprocess_training_data(df: pd.DataFrame):\n",
    "    df_clean = df.copy()\n",
    "    \n",
    "    # Rimuovi colonne non necessarie\n",
    "    if 'id_gatto' in df_clean.columns:\n",
    "        df_clean = df_clean.drop(columns=['id_gatto'])\n",
    "    \n",
    "    # Gestisci valori mancanti numerici con la mediana\n",
    "    numeric_cols = ['eta_mesi', 'peso_nascita_kg', 'lunghezza_cm', 'altezza_spalla_cm', \n",
    "                   'attivita_giornaliera', 'quantita_cibo_giorno_g', 'temperatura_media_zona']\n",
    "    for col in numeric_cols:\n",
    "        if col in df_clean.columns:\n",
    "            median_val = df_clean[col].median()\n",
    "            df_clean[col] = df_clean[col].fillna(median_val)\n",
    "            \n",
    "    # Gestisci le altre colonne (categoriche, binarie) come preferisci,\n",
    "    # ad esempio riempiendo con una moda o un valore specifico come 'Unknown' o 0\n",
    "    \n",
    "    X = df_clean.drop(columns=['peso_adulto_kg'])\n",
    "    y = df_clean['peso_adulto_kg']\n",
    "    \n",
    "    return X, y\n",
    "\n",
    "# Applica la pulizia\n",
    "df = data_encoder._impute_missing_data(df)\n",
    "X, y = preprocess_training_data(df)\n"
   ]
  },
  {
   "cell_type": "code",
   "execution_count": 27,
   "id": "8209cf44",
   "metadata": {},
   "outputs": [],
   "source": [
    "del df # non verrà piu usato, quindi possiamo liberare memoria"
   ]
  },
  {
   "cell_type": "code",
   "execution_count": 26,
   "id": "831e2aa2",
   "metadata": {},
   "outputs": [],
   "source": [
    "X_processed = preprocessor.transform(X)\n",
    "y = y.values"
   ]
  },
  {
   "cell_type": "code",
   "execution_count": 28,
   "id": "2ffeb5da",
   "metadata": {},
   "outputs": [
    {
     "data": {
      "text/plain": [
       "(4898, 22)"
      ]
     },
     "execution_count": 28,
     "metadata": {},
     "output_type": "execute_result"
    }
   ],
   "source": [
    "X_processed.shape"
   ]
  },
  {
   "cell_type": "code",
   "execution_count": 29,
   "id": "b5825a22",
   "metadata": {},
   "outputs": [],
   "source": [
    "X_train, X_test, y_train, y_test = train_test_split(X_processed, y, test_size=0.2)"
   ]
  },
  {
   "cell_type": "code",
   "execution_count": 30,
   "id": "08071016",
   "metadata": {},
   "outputs": [
    {
     "name": "stderr",
     "output_type": "stream",
     "text": [
      "2025-07-31 17:40:23.943593: E external/local_xla/xla/stream_executor/cuda/cuda_platform.cc:51] failed call to cuInit: INTERNAL: CUDA error: Failed call to cuInit: UNKNOWN ERROR (303)\n"
     ]
    }
   ],
   "source": [
    "model = Sequential([\n",
    "    Input(shape=(X_processed.shape[1],)),\n",
    "    \n",
    "    Dense(1024, activation='relu'),\n",
    "    Dropout(0.3),\n",
    "\n",
    "    Dense(1024, activation='relu'),\n",
    "    Dropout(0.3),\n",
    "    \n",
    "    Dense(512, activation='relu'),\n",
    "    Dropout(0.2),\n",
    "    \n",
    "    Dense(256, activation='relu'),\n",
    "    Dropout(0.2),\n",
    "    \n",
    "    Dense(128, activation='relu'),\n",
    "    Dropout(0.1),\n",
    "    \n",
    "    Dense(68, activation='relu'),\n",
    "    Dropout(0.1),\n",
    "    \n",
    "    Dense(16, activation='relu'),\n",
    "    Dropout(0.1),\n",
    "    Dense(1),\n",
    "], name='wrp-2')\n",
    "\n",
    "model.compile(\n",
    "    optimizer=Adam(learning_rate=1e-3),\n",
    "    loss='mse',\n",
    "    metrics=['mae']\n",
    ")"
   ]
  },
  {
   "cell_type": "markdown",
   "id": "d4f169bb",
   "metadata": {},
   "source": [
    "#### Architettura alternativa\n",
    "```py\n",
    "model = Sequential([\n",
    "    Input(shape=(X_processed.shape[1],)),\n",
    "\n",
    "    Dense(1024, activation='relu'),\n",
    "    BatchNormalization(),\n",
    "    Dropout(0.2),\n",
    "\n",
    "    Dense(1024, activation='relu'),\n",
    "    BatchNormalization(),\n",
    "    Dropout(0.2),\n",
    "    \n",
    "    Dense(512, activation='relu'),\n",
    "    BatchNormalization(),\n",
    "    Dropout(0.2),\n",
    "    \n",
    "    Dense(256, activation='relu'),\n",
    "    Dropout(0.2),\n",
    "    \n",
    "    Dense(128, activation='relu'),\n",
    "    BatchNormalization(),\n",
    "    Dropout(0.1),\n",
    "    \n",
    "    Dense(68, activation='relu'),\n",
    "    BatchNormalization(),\n",
    "    Dropout(0.1),\n",
    "    \n",
    "    Dense(16, activation='relu'),\n",
    "    Dense(1),\n",
    "])\n",
    "\n",
    "model.compile(\n",
    "optimizer=Adam(learning_rate=1e-3),\n",
    "    loss='mse',\n",
    "    metrics=['mae']\n",
    ")\n",
    "```"
   ]
  },
  {
   "cell_type": "code",
   "execution_count": 31,
   "id": "55fd46b4",
   "metadata": {},
   "outputs": [
    {
     "name": "stdout",
     "output_type": "stream",
     "text": [
      "Epoch 1/200\n",
      "\u001b[1m245/245\u001b[0m \u001b[32m━━━━━━━━━━━━━━━━━━━━\u001b[0m\u001b[37m\u001b[0m \u001b[1m14s\u001b[0m 47ms/step - loss: 5.4865 - mae: 1.4219 - val_loss: 0.9787 - val_mae: 0.4356 - learning_rate: 0.0010\n",
      "Epoch 2/200\n",
      "\u001b[1m245/245\u001b[0m \u001b[32m━━━━━━━━━━━━━━━━━━━━\u001b[0m\u001b[37m\u001b[0m \u001b[1m11s\u001b[0m 44ms/step - loss: 4.5235 - mae: 1.2027 - val_loss: 0.6878 - val_mae: 0.4380 - learning_rate: 0.0010\n",
      "Epoch 3/200\n",
      "\u001b[1m245/245\u001b[0m \u001b[32m━━━━━━━━━━━━━━━━━━━━\u001b[0m\u001b[37m\u001b[0m \u001b[1m8s\u001b[0m 33ms/step - loss: 2.7912 - mae: 1.0729 - val_loss: 0.6784 - val_mae: 0.5147 - learning_rate: 0.0010\n",
      "Epoch 4/200\n",
      "\u001b[1m245/245\u001b[0m \u001b[32m━━━━━━━━━━━━━━━━━━━━\u001b[0m\u001b[37m\u001b[0m \u001b[1m9s\u001b[0m 35ms/step - loss: 2.3366 - mae: 0.9804 - val_loss: 0.7164 - val_mae: 0.6559 - learning_rate: 0.0010\n",
      "Epoch 5/200\n",
      "\u001b[1m245/245\u001b[0m \u001b[32m━━━━━━━━━━━━━━━━━━━━\u001b[0m\u001b[37m\u001b[0m \u001b[1m13s\u001b[0m 45ms/step - loss: 1.9765 - mae: 0.9755 - val_loss: 0.3772 - val_mae: 0.5182 - learning_rate: 0.0010\n",
      "Epoch 6/200\n",
      "\u001b[1m245/245\u001b[0m \u001b[32m━━━━━━━━━━━━━━━━━━━━\u001b[0m\u001b[37m\u001b[0m \u001b[1m9s\u001b[0m 37ms/step - loss: 1.3221 - mae: 0.8467 - val_loss: 0.8529 - val_mae: 0.8248 - learning_rate: 0.0010\n",
      "Epoch 7/200\n",
      "\u001b[1m245/245\u001b[0m \u001b[32m━━━━━━━━━━━━━━━━━━━━\u001b[0m\u001b[37m\u001b[0m \u001b[1m9s\u001b[0m 37ms/step - loss: 0.8952 - mae: 0.7392 - val_loss: 0.1633 - val_mae: 0.3243 - learning_rate: 0.0010\n",
      "Epoch 8/200\n",
      "\u001b[1m245/245\u001b[0m \u001b[32m━━━━━━━━━━━━━━━━━━━━\u001b[0m\u001b[37m\u001b[0m \u001b[1m9s\u001b[0m 38ms/step - loss: 0.7994 - mae: 0.6788 - val_loss: 0.1882 - val_mae: 0.3436 - learning_rate: 0.0010\n",
      "Epoch 9/200\n",
      "\u001b[1m245/245\u001b[0m \u001b[32m━━━━━━━━━━━━━━━━━━━━\u001b[0m\u001b[37m\u001b[0m \u001b[1m8s\u001b[0m 30ms/step - loss: 0.6822 - mae: 0.6380 - val_loss: 0.2289 - val_mae: 0.3867 - learning_rate: 0.0010\n",
      "Epoch 10/200\n",
      "\u001b[1m245/245\u001b[0m \u001b[32m━━━━━━━━━━━━━━━━━━━━\u001b[0m\u001b[37m\u001b[0m \u001b[1m8s\u001b[0m 34ms/step - loss: 0.6112 - mae: 0.6084 - val_loss: 0.2098 - val_mae: 0.3710 - learning_rate: 0.0010\n",
      "Epoch 11/200\n",
      "\u001b[1m245/245\u001b[0m \u001b[32m━━━━━━━━━━━━━━━━━━━━\u001b[0m\u001b[37m\u001b[0m \u001b[1m8s\u001b[0m 33ms/step - loss: 0.6405 - mae: 0.6047 - val_loss: 0.1165 - val_mae: 0.2684 - learning_rate: 0.0010\n",
      "Epoch 12/200\n",
      "\u001b[1m245/245\u001b[0m \u001b[32m━━━━━━━━━━━━━━━━━━━━\u001b[0m\u001b[37m\u001b[0m \u001b[1m9s\u001b[0m 37ms/step - loss: 0.6013 - mae: 0.5752 - val_loss: 0.2523 - val_mae: 0.4017 - learning_rate: 0.0010\n",
      "Epoch 13/200\n",
      "\u001b[1m245/245\u001b[0m \u001b[32m━━━━━━━━━━━━━━━━━━━━\u001b[0m\u001b[37m\u001b[0m \u001b[1m9s\u001b[0m 37ms/step - loss: 0.5362 - mae: 0.5705 - val_loss: 0.1608 - val_mae: 0.3197 - learning_rate: 0.0010\n",
      "Epoch 14/200\n",
      "\u001b[1m245/245\u001b[0m \u001b[32m━━━━━━━━━━━━━━━━━━━━\u001b[0m\u001b[37m\u001b[0m \u001b[1m10s\u001b[0m 38ms/step - loss: 0.5080 - mae: 0.5533 - val_loss: 0.1439 - val_mae: 0.3015 - learning_rate: 0.0010\n",
      "Epoch 15/200\n",
      "\u001b[1m245/245\u001b[0m \u001b[32m━━━━━━━━━━━━━━━━━━━━\u001b[0m\u001b[37m\u001b[0m \u001b[1m9s\u001b[0m 36ms/step - loss: 0.4912 - mae: 0.5469 - val_loss: 0.1056 - val_mae: 0.2600 - learning_rate: 0.0010\n",
      "Epoch 16/200\n",
      "\u001b[1m245/245\u001b[0m \u001b[32m━━━━━━━━━━━━━━━━━━━━\u001b[0m\u001b[37m\u001b[0m \u001b[1m9s\u001b[0m 36ms/step - loss: 0.4829 - mae: 0.5417 - val_loss: 0.0949 - val_mae: 0.2414 - learning_rate: 0.0010\n",
      "Epoch 17/200\n",
      "\u001b[1m245/245\u001b[0m \u001b[32m━━━━━━━━━━━━━━━━━━━━\u001b[0m\u001b[37m\u001b[0m \u001b[1m11s\u001b[0m 38ms/step - loss: 0.4992 - mae: 0.5362 - val_loss: 0.1487 - val_mae: 0.3072 - learning_rate: 0.0010\n",
      "Epoch 18/200\n",
      "\u001b[1m245/245\u001b[0m \u001b[32m━━━━━━━━━━━━━━━━━━━━\u001b[0m\u001b[37m\u001b[0m \u001b[1m10s\u001b[0m 38ms/step - loss: 0.4648 - mae: 0.5325 - val_loss: 0.1173 - val_mae: 0.2715 - learning_rate: 0.0010\n",
      "Epoch 19/200\n",
      "\u001b[1m245/245\u001b[0m \u001b[32m━━━━━━━━━━━━━━━━━━━━\u001b[0m\u001b[37m\u001b[0m \u001b[1m11s\u001b[0m 39ms/step - loss: 0.4411 - mae: 0.5164 - val_loss: 0.1152 - val_mae: 0.2723 - learning_rate: 0.0010\n",
      "Epoch 20/200\n",
      "\u001b[1m245/245\u001b[0m \u001b[32m━━━━━━━━━━━━━━━━━━━━\u001b[0m\u001b[37m\u001b[0m \u001b[1m9s\u001b[0m 33ms/step - loss: 0.4296 - mae: 0.5120 - val_loss: 0.1225 - val_mae: 0.2786 - learning_rate: 0.0010\n",
      "Epoch 21/200\n",
      "\u001b[1m245/245\u001b[0m \u001b[32m━━━━━━━━━━━━━━━━━━━━\u001b[0m\u001b[37m\u001b[0m \u001b[1m9s\u001b[0m 37ms/step - loss: 0.4224 - mae: 0.5062 - val_loss: 0.1144 - val_mae: 0.2656 - learning_rate: 0.0010\n",
      "Epoch 22/200\n",
      "\u001b[1m245/245\u001b[0m \u001b[32m━━━━━━━━━━━━━━━━━━━━\u001b[0m\u001b[37m\u001b[0m \u001b[1m9s\u001b[0m 38ms/step - loss: 0.4017 - mae: 0.4906 - val_loss: 0.1246 - val_mae: 0.2801 - learning_rate: 0.0010\n",
      "Epoch 23/200\n",
      "\u001b[1m245/245\u001b[0m \u001b[32m━━━━━━━━━━━━━━━━━━━━\u001b[0m\u001b[37m\u001b[0m \u001b[1m10s\u001b[0m 37ms/step - loss: 0.3681 - mae: 0.4807 - val_loss: 0.1247 - val_mae: 0.2803 - learning_rate: 0.0010\n",
      "Epoch 24/200\n",
      "\u001b[1m245/245\u001b[0m \u001b[32m━━━━━━━━━━━━━━━━━━━━\u001b[0m\u001b[37m\u001b[0m \u001b[1m9s\u001b[0m 36ms/step - loss: 0.3651 - mae: 0.4738 - val_loss: 0.1007 - val_mae: 0.2517 - learning_rate: 0.0010\n",
      "Epoch 25/200\n",
      "\u001b[1m245/245\u001b[0m \u001b[32m━━━━━━━━━━━━━━━━━━━━\u001b[0m\u001b[37m\u001b[0m \u001b[1m9s\u001b[0m 37ms/step - loss: 0.3764 - mae: 0.4836 - val_loss: 0.1188 - val_mae: 0.2778 - learning_rate: 0.0010\n",
      "Epoch 26/200\n",
      "\u001b[1m245/245\u001b[0m \u001b[32m━━━━━━━━━━━━━━━━━━━━\u001b[0m\u001b[37m\u001b[0m \u001b[1m9s\u001b[0m 36ms/step - loss: 0.3708 - mae: 0.4755 - val_loss: 0.1021 - val_mae: 0.2543 - learning_rate: 0.0010\n",
      "Epoch 27/200\n",
      "\u001b[1m245/245\u001b[0m \u001b[32m━━━━━━━━━━━━━━━━━━━━\u001b[0m\u001b[37m\u001b[0m \u001b[1m10s\u001b[0m 36ms/step - loss: 0.3699 - mae: 0.4683 - val_loss: 0.1019 - val_mae: 0.2549 - learning_rate: 1.0000e-04\n",
      "Epoch 28/200\n",
      "\u001b[1m245/245\u001b[0m \u001b[32m━━━━━━━━━━━━━━━━━━━━\u001b[0m\u001b[37m\u001b[0m \u001b[1m9s\u001b[0m 36ms/step - loss: 0.3323 - mae: 0.4501 - val_loss: 0.0962 - val_mae: 0.2472 - learning_rate: 1.0000e-04\n",
      "Epoch 29/200\n",
      "\u001b[1m245/245\u001b[0m \u001b[32m━━━━━━━━━━━━━━━━━━━━\u001b[0m\u001b[37m\u001b[0m \u001b[1m11s\u001b[0m 37ms/step - loss: 0.3347 - mae: 0.4530 - val_loss: 0.0997 - val_mae: 0.2515 - learning_rate: 1.0000e-04\n",
      "Epoch 30/200\n",
      "\u001b[1m245/245\u001b[0m \u001b[32m━━━━━━━━━━━━━━━━━━━━\u001b[0m\u001b[37m\u001b[0m \u001b[1m9s\u001b[0m 36ms/step - loss: 0.3381 - mae: 0.4540 - val_loss: 0.0993 - val_mae: 0.2510 - learning_rate: 1.0000e-04\n",
      "Epoch 31/200\n",
      "\u001b[1m245/245\u001b[0m \u001b[32m━━━━━━━━━━━━━━━━━━━━\u001b[0m\u001b[37m\u001b[0m \u001b[1m11s\u001b[0m 37ms/step - loss: 0.3330 - mae: 0.4497 - val_loss: 0.0962 - val_mae: 0.2466 - learning_rate: 1.0000e-04\n",
      "Epoch 32/200\n",
      "\u001b[1m245/245\u001b[0m \u001b[32m━━━━━━━━━━━━━━━━━━━━\u001b[0m\u001b[37m\u001b[0m \u001b[1m9s\u001b[0m 35ms/step - loss: 0.3331 - mae: 0.4460 - val_loss: 0.0959 - val_mae: 0.2459 - learning_rate: 1.0000e-04\n",
      "Epoch 33/200\n",
      "\u001b[1m245/245\u001b[0m \u001b[32m━━━━━━━━━━━━━━━━━━━━\u001b[0m\u001b[37m\u001b[0m \u001b[1m9s\u001b[0m 36ms/step - loss: 0.3145 - mae: 0.4428 - val_loss: 0.1041 - val_mae: 0.2563 - learning_rate: 1.0000e-04\n",
      "Epoch 34/200\n",
      "\u001b[1m245/245\u001b[0m \u001b[32m━━━━━━━━━━━━━━━━━━━━\u001b[0m\u001b[37m\u001b[0m \u001b[1m9s\u001b[0m 36ms/step - loss: 0.3370 - mae: 0.4515 - val_loss: 0.1021 - val_mae: 0.2535 - learning_rate: 1.0000e-04\n",
      "Epoch 35/200\n",
      "\u001b[1m245/245\u001b[0m \u001b[32m━━━━━━━━━━━━━━━━━━━━\u001b[0m\u001b[37m\u001b[0m \u001b[1m10s\u001b[0m 36ms/step - loss: 0.3333 - mae: 0.4486 - val_loss: 0.0987 - val_mae: 0.2492 - learning_rate: 1.0000e-04\n",
      "Epoch 36/200\n",
      "\u001b[1m245/245\u001b[0m \u001b[32m━━━━━━━━━━━━━━━━━━━━\u001b[0m\u001b[37m\u001b[0m \u001b[1m9s\u001b[0m 36ms/step - loss: 0.3288 - mae: 0.4486 - val_loss: 0.0973 - val_mae: 0.2479 - learning_rate: 1.0000e-04\n"
     ]
    }
   ],
   "source": [
    "history = model.fit(\n",
    "    x=X_train,\n",
    "    y=y_train,\n",
    "    validation_data=(X_test, y_test),\n",
    "    epochs=200,\n",
    "    batch_size=16,\n",
    "    validation_split=0.2,\n",
    "    verbose=1,\n",
    "    callbacks=[\n",
    "        EarlyStopping(\n",
    "            monitor='val_loss',\n",
    "            patience=20,\n",
    "            restore_best_weights=True\n",
    "        ),\n",
    "        ReduceLROnPlateau(\n",
    "            monitor='val_loss',\n",
    "            factor=1e-1,\n",
    "            patience=10,\n",
    "            min_lr=1e-6\n",
    "        )\n",
    "    ],\n",
    ")"
   ]
  },
  {
   "cell_type": "code",
   "execution_count": 32,
   "id": "bc1254c0",
   "metadata": {},
   "outputs": [
    {
     "name": "stdout",
     "output_type": "stream",
     "text": [
      "Test Loss (MSE): 0.0949\n",
      "Test MAE: 0.2414\n"
     ]
    }
   ],
   "source": [
    "# valutazione \n",
    "loss, mae = model.evaluate(X_test, y_test, verbose=0)\n",
    "print(f\"Test Loss (MSE): {loss:.4f}\")\n",
    "print(f\"Test MAE: {mae:.4f}\")"
   ]
  },
  {
   "cell_type": "code",
   "execution_count": 33,
   "id": "2ff7609e",
   "metadata": {},
   "outputs": [
    {
     "name": "stdout",
     "output_type": "stream",
     "text": [
      "\u001b[1m1/1\u001b[0m \u001b[32m━━━━━━━━━━━━━━━━━━━━\u001b[0m\u001b[37m\u001b[0m \u001b[1m0s\u001b[0m 209ms/step\n",
      "Predizioni vs Valori reali:\n",
      "Predetto: 4.86 kg, Reale: 5.01 kg\n",
      "Predetto: 6.33 kg, Reale: 6.55 kg\n",
      "Predetto: 5.79 kg, Reale: 5.55 kg\n",
      "Predetto: 4.93 kg, Reale: 5.32 kg\n",
      "Predetto: 5.54 kg, Reale: 5.12 kg\n"
     ]
    }
   ],
   "source": [
    "# Predizione di esempio\n",
    "predictions = model.predict(X_test[:5])\n",
    "print(\"Predizioni vs Valori reali:\")\n",
    "for i in range(5):\n",
    "    print(f\"Predetto: {predictions[i][0]:.2f} kg, Reale: {y_test[i]:.2f} kg\")"
   ]
  },
  {
   "cell_type": "code",
   "execution_count": 34,
   "id": "d5bd1a48",
   "metadata": {},
   "outputs": [
    {
     "data": {
      "image/png": "[encoded data removed]",
      "text/plain": [
       "<Figure size 1200x400 with 2 Axes>"
      ]
     },
     "metadata": {},
     "output_type": "display_data"
    }
   ],
   "source": [
    "import matplotlib.pyplot as plt\n",
    "\n",
    "plt.figure(figsize=(12, 4))\n",
    "\n",
    "plt.subplot(1, 2, 1)\n",
    "plt.plot(history.history['loss'], label='Training Loss')\n",
    "plt.plot(history.history['val_loss'], label='Validation Loss')\n",
    "plt.title('Model Loss')\n",
    "plt.xlabel('Epoch')\n",
    "plt.ylabel('Loss')\n",
    "plt.legend()\n",
    "\n",
    "plt.subplot(1, 2, 2)\n",
    "plt.plot(history.history['mae'], label='Training MAE')\n",
    "plt.plot(history.history['val_mae'], label='Validation MAE')\n",
    "plt.title('Model MAE')\n",
    "plt.xlabel('Epoch')\n",
    "plt.ylabel('MAE')\n",
    "plt.legend()\n",
    "\n",
    "plt.tight_layout()\n",
    "plt.show()"
   ]
  },
  {
   "cell_type": "markdown",
   "id": "bf0a30eb",
   "metadata": {},
   "source": [
    "### R² score\n",
    "L'R² Score del modello è molto alto (quasi 1.0) il che vuol dire che è riuscito a generalizzare bene i dati in input\n",
    "\n",
    "> R² score è una metrica spesso usata per determinare quanto un modello di regressione sia performante.  \n",
    ">\n",
    "> Un R² score > 0,85 è gia un risultato buono per un modello, con risultato pari 1.0 a rappresentare un modello perfetto (100% giusto, 0 di errore, estremamente difficile per una rete neurale non andata in overfitting)"
   ]
  },
  {
   "cell_type": "code",
   "execution_count": 35,
   "id": "a5c0d181",
   "metadata": {},
   "outputs": [
    {
     "name": "stdout",
     "output_type": "stream",
     "text": [
      "\u001b[1m31/31\u001b[0m \u001b[32m━━━━━━━━━━━━━━━━━━━━\u001b[0m\u001b[37m\u001b[0m \u001b[1m0s\u001b[0m 8ms/step\n",
      "R² Score: 0.9227\n"
     ]
    }
   ],
   "source": [
    "y_pred = model.predict(X_test)\n",
    "r2 = r2_score(y_test, y_pred)\n",
    "print(f\"R² Score: {r2:.4f}\")"
   ]
  },
  {
   "cell_type": "code",
   "execution_count": 36,
   "id": "83bd97f6",
   "metadata": {},
   "outputs": [
    {
     "data": {
      "image/png": "[encoded data removed]",
      "text/plain": [
       "<Figure size 640x480 with 1 Axes>"
      ]
     },
     "metadata": {},
     "output_type": "display_data"
    }
   ],
   "source": [
    "import matplotlib.pyplot as plt\n",
    "\n",
    "errors = y_pred.flatten() - y_test\n",
    "plt.hist(errors, bins=30)\n",
    "plt.title(\"Distribuzione degli errori (Pred - Reale)\")\n",
    "plt.xlabel(\"Errore (kg)\")\n",
    "plt.ylabel(\"Frequenza\")\n",
    "plt.grid(True)\n",
    "plt.show()\n"
   ]
  },
  {
   "cell_type": "markdown",
   "id": "5d002031",
   "metadata": {},
   "source": [
    "Dal grafico possiamo vedere che la maggior parte della distribuzione dell'errore sta attorno a 0,25-0,30 dallo 0 (anche questo un risultato molto buono)"
   ]
  },
  {
   "cell_type": "code",
   "execution_count": 37,
   "id": "c63d3838",
   "metadata": {},
   "outputs": [
    {
     "data": {
      "text/html": [
       "<pre style=\"white-space:pre;overflow-x:auto;line-height:normal;font-family:Menlo,'DejaVu Sans Mono',consolas,'Courier New',monospace\"><span style=\"font-weight: bold\">Model: \"wrp-2\"</span>\n",
       "</pre>\n"
      ],
      "text/plain": [
       "\u001b[1mModel: \"wrp-2\"\u001b[0m\n"
      ]
     },
     "metadata": {},
     "output_type": "display_data"
    },
    {
     "data": {
      "text/html": [
       "<pre style=\"white-space:pre;overflow-x:auto;line-height:normal;font-family:Menlo,'DejaVu Sans Mono',consolas,'Courier New',monospace\">┏━━━━━━━━━━━━━━━━━━━━━━━━━━━━━━━━━┳━━━━━━━━━━━━━━━━━━━━━━━━┳━━━━━━━━━━━━━━━┓\n",
       "┃<span style=\"font-weight: bold\"> Layer (type)                    </span>┃<span style=\"font-weight: bold\"> Output Shape           </span>┃<span style=\"font-weight: bold\">       Param # </span>┃\n",
       "┡━━━━━━━━━━━━━━━━━━━━━━━━━━━━━━━━━╇━━━━━━━━━━━━━━━━━━━━━━━━╇━━━━━━━━━━━━━━━┩\n",
       "│ dense (<span style=\"color: #0087ff; text-decoration-color: #0087ff\">Dense</span>)                   │ (<span style=\"color: #00d7ff; text-decoration-color: #00d7ff\">None</span>, <span style=\"color: #00af00; text-decoration-color: #00af00\">1024</span>)           │        <span style=\"color: #00af00; text-decoration-color: #00af00\">23,552</span> │\n",
       "├─────────────────────────────────┼────────────────────────┼───────────────┤\n",
       "│ dropout (<span style=\"color: #0087ff; text-decoration-color: #0087ff\">Dropout</span>)               │ (<span style=\"color: #00d7ff; text-decoration-color: #00d7ff\">None</span>, <span style=\"color: #00af00; text-decoration-color: #00af00\">1024</span>)           │             <span style=\"color: #00af00; text-decoration-color: #00af00\">0</span> │\n",
       "├─────────────────────────────────┼────────────────────────┼───────────────┤\n",
       "│ dense_1 (<span style=\"color: #0087ff; text-decoration-color: #0087ff\">Dense</span>)                 │ (<span style=\"color: #00d7ff; text-decoration-color: #00d7ff\">None</span>, <span style=\"color: #00af00; text-decoration-color: #00af00\">1024</span>)           │     <span style=\"color: #00af00; text-decoration-color: #00af00\">1,049,600</span> │\n",
       "├─────────────────────────────────┼────────────────────────┼───────────────┤\n",
       "│ dropout_1 (<span style=\"color: #0087ff; text-decoration-color: #0087ff\">Dropout</span>)             │ (<span style=\"color: #00d7ff; text-decoration-color: #00d7ff\">None</span>, <span style=\"color: #00af00; text-decoration-color: #00af00\">1024</span>)           │             <span style=\"color: #00af00; text-decoration-color: #00af00\">0</span> │\n",
       "├─────────────────────────────────┼────────────────────────┼───────────────┤\n",
       "│ dense_2 (<span style=\"color: #0087ff; text-decoration-color: #0087ff\">Dense</span>)                 │ (<span style=\"color: #00d7ff; text-decoration-color: #00d7ff\">None</span>, <span style=\"color: #00af00; text-decoration-color: #00af00\">512</span>)            │       <span style=\"color: #00af00; text-decoration-color: #00af00\">524,800</span> │\n",
       "├─────────────────────────────────┼────────────────────────┼───────────────┤\n",
       "│ dropout_2 (<span style=\"color: #0087ff; text-decoration-color: #0087ff\">Dropout</span>)             │ (<span style=\"color: #00d7ff; text-decoration-color: #00d7ff\">None</span>, <span style=\"color: #00af00; text-decoration-color: #00af00\">512</span>)            │             <span style=\"color: #00af00; text-decoration-color: #00af00\">0</span> │\n",
       "├─────────────────────────────────┼────────────────────────┼───────────────┤\n",
       "│ dense_3 (<span style=\"color: #0087ff; text-decoration-color: #0087ff\">Dense</span>)                 │ (<span style=\"color: #00d7ff; text-decoration-color: #00d7ff\">None</span>, <span style=\"color: #00af00; text-decoration-color: #00af00\">256</span>)            │       <span style=\"color: #00af00; text-decoration-color: #00af00\">131,328</span> │\n",
       "├─────────────────────────────────┼────────────────────────┼───────────────┤\n",
       "│ dropout_3 (<span style=\"color: #0087ff; text-decoration-color: #0087ff\">Dropout</span>)             │ (<span style=\"color: #00d7ff; text-decoration-color: #00d7ff\">None</span>, <span style=\"color: #00af00; text-decoration-color: #00af00\">256</span>)            │             <span style=\"color: #00af00; text-decoration-color: #00af00\">0</span> │\n",
       "├─────────────────────────────────┼────────────────────────┼───────────────┤\n",
       "│ dense_4 (<span style=\"color: #0087ff; text-decoration-color: #0087ff\">Dense</span>)                 │ (<span style=\"color: #00d7ff; text-decoration-color: #00d7ff\">None</span>, <span style=\"color: #00af00; text-decoration-color: #00af00\">128</span>)            │        <span style=\"color: #00af00; text-decoration-color: #00af00\">32,896</span> │\n",
       "├─────────────────────────────────┼────────────────────────┼───────────────┤\n",
       "│ dropout_4 (<span style=\"color: #0087ff; text-decoration-color: #0087ff\">Dropout</span>)             │ (<span style=\"color: #00d7ff; text-decoration-color: #00d7ff\">None</span>, <span style=\"color: #00af00; text-decoration-color: #00af00\">128</span>)            │             <span style=\"color: #00af00; text-decoration-color: #00af00\">0</span> │\n",
       "├─────────────────────────────────┼────────────────────────┼───────────────┤\n",
       "│ dense_5 (<span style=\"color: #0087ff; text-decoration-color: #0087ff\">Dense</span>)                 │ (<span style=\"color: #00d7ff; text-decoration-color: #00d7ff\">None</span>, <span style=\"color: #00af00; text-decoration-color: #00af00\">68</span>)             │         <span style=\"color: #00af00; text-decoration-color: #00af00\">8,772</span> │\n",
       "├─────────────────────────────────┼────────────────────────┼───────────────┤\n",
       "│ dropout_5 (<span style=\"color: #0087ff; text-decoration-color: #0087ff\">Dropout</span>)             │ (<span style=\"color: #00d7ff; text-decoration-color: #00d7ff\">None</span>, <span style=\"color: #00af00; text-decoration-color: #00af00\">68</span>)             │             <span style=\"color: #00af00; text-decoration-color: #00af00\">0</span> │\n",
       "├─────────────────────────────────┼────────────────────────┼───────────────┤\n",
       "│ dense_6 (<span style=\"color: #0087ff; text-decoration-color: #0087ff\">Dense</span>)                 │ (<span style=\"color: #00d7ff; text-decoration-color: #00d7ff\">None</span>, <span style=\"color: #00af00; text-decoration-color: #00af00\">16</span>)             │         <span style=\"color: #00af00; text-decoration-color: #00af00\">1,104</span> │\n",
       "├─────────────────────────────────┼────────────────────────┼───────────────┤\n",
       "│ dropout_6 (<span style=\"color: #0087ff; text-decoration-color: #0087ff\">Dropout</span>)             │ (<span style=\"color: #00d7ff; text-decoration-color: #00d7ff\">None</span>, <span style=\"color: #00af00; text-decoration-color: #00af00\">16</span>)             │             <span style=\"color: #00af00; text-decoration-color: #00af00\">0</span> │\n",
       "├─────────────────────────────────┼────────────────────────┼───────────────┤\n",
       "│ dense_7 (<span style=\"color: #0087ff; text-decoration-color: #0087ff\">Dense</span>)                 │ (<span style=\"color: #00d7ff; text-decoration-color: #00d7ff\">None</span>, <span style=\"color: #00af00; text-decoration-color: #00af00\">1</span>)              │            <span style=\"color: #00af00; text-decoration-color: #00af00\">17</span> │\n",
       "└─────────────────────────────────┴────────────────────────┴───────────────┘\n",
       "</pre>\n"
      ],
      "text/plain": [
       "┏━━━━━━━━━━━━━━━━━━━━━━━━━━━━━━━━━┳━━━━━━━━━━━━━━━━━━━━━━━━┳━━━━━━━━━━━━━━━┓\n",
       "┃\u001b[1m \u001b[0m\u001b[1mLayer (type)                   \u001b[0m\u001b[1m \u001b[0m┃\u001b[1m \u001b[0m\u001b[1mOutput Shape          \u001b[0m\u001b[1m \u001b[0m┃\u001b[1m \u001b[0m\u001b[1m      Param #\u001b[0m\u001b[1m \u001b[0m┃\n",
       "┡━━━━━━━━━━━━━━━━━━━━━━━━━━━━━━━━━╇━━━━━━━━━━━━━━━━━━━━━━━━╇━━━━━━━━━━━━━━━┩\n",
       "│ dense (\u001b[38;5;33mDense\u001b[0m)                   │ (\u001b[38;5;45mNone\u001b[0m, \u001b[38;5;34m1024\u001b[0m)           │        \u001b[38;5;34m23,552\u001b[0m │\n",
       "├─────────────────────────────────┼────────────────────────┼───────────────┤\n",
       "│ dropout (\u001b[38;5;33mDropout\u001b[0m)               │ (\u001b[38;5;45mNone\u001b[0m, \u001b[38;5;34m1024\u001b[0m)           │             \u001b[38;5;34m0\u001b[0m │\n",
       "├─────────────────────────────────┼────────────────────────┼───────────────┤\n",
       "│ dense_1 (\u001b[38;5;33mDense\u001b[0m)                 │ (\u001b[38;5;45mNone\u001b[0m, \u001b[38;5;34m1024\u001b[0m)           │     \u001b[38;5;34m1,049,600\u001b[0m │\n",
       "├─────────────────────────────────┼────────────────────────┼───────────────┤\n",
       "│ dropout_1 (\u001b[38;5;33mDropout\u001b[0m)             │ (\u001b[38;5;45mNone\u001b[0m, \u001b[38;5;34m1024\u001b[0m)           │             \u001b[38;5;34m0\u001b[0m │\n",
       "├─────────────────────────────────┼────────────────────────┼───────────────┤\n",
       "│ dense_2 (\u001b[38;5;33mDense\u001b[0m)                 │ (\u001b[38;5;45mNone\u001b[0m, \u001b[38;5;34m512\u001b[0m)            │       \u001b[38;5;34m524,800\u001b[0m │\n",
       "├─────────────────────────────────┼────────────────────────┼───────────────┤\n",
       "│ dropout_2 (\u001b[38;5;33mDropout\u001b[0m)             │ (\u001b[38;5;45mNone\u001b[0m, \u001b[38;5;34m512\u001b[0m)            │             \u001b[38;5;34m0\u001b[0m │\n",
       "├─────────────────────────────────┼────────────────────────┼───────────────┤\n",
       "│ dense_3 (\u001b[38;5;33mDense\u001b[0m)                 │ (\u001b[38;5;45mNone\u001b[0m, \u001b[38;5;34m256\u001b[0m)            │       \u001b[38;5;34m131,328\u001b[0m │\n",
       "├─────────────────────────────────┼────────────────────────┼───────────────┤\n",
       "│ dropout_3 (\u001b[38;5;33mDropout\u001b[0m)             │ (\u001b[38;5;45mNone\u001b[0m, \u001b[38;5;34m256\u001b[0m)            │             \u001b[38;5;34m0\u001b[0m │\n",
       "├─────────────────────────────────┼────────────────────────┼───────────────┤\n",
       "│ dense_4 (\u001b[38;5;33mDense\u001b[0m)                 │ (\u001b[38;5;45mNone\u001b[0m, \u001b[38;5;34m128\u001b[0m)            │        \u001b[38;5;34m32,896\u001b[0m │\n",
       "├─────────────────────────────────┼────────────────────────┼───────────────┤\n",
       "│ dropout_4 (\u001b[38;5;33mDropout\u001b[0m)             │ (\u001b[38;5;45mNone\u001b[0m, \u001b[38;5;34m128\u001b[0m)            │             \u001b[38;5;34m0\u001b[0m │\n",
       "├─────────────────────────────────┼────────────────────────┼───────────────┤\n",
       "│ dense_5 (\u001b[38;5;33mDense\u001b[0m)                 │ (\u001b[38;5;45mNone\u001b[0m, \u001b[38;5;34m68\u001b[0m)             │         \u001b[38;5;34m8,772\u001b[0m │\n",
       "├─────────────────────────────────┼────────────────────────┼───────────────┤\n",
       "│ dropout_5 (\u001b[38;5;33mDropout\u001b[0m)             │ (\u001b[38;5;45mNone\u001b[0m, \u001b[38;5;34m68\u001b[0m)             │             \u001b[38;5;34m0\u001b[0m │\n",
       "├─────────────────────────────────┼────────────────────────┼───────────────┤\n",
       "│ dense_6 (\u001b[38;5;33mDense\u001b[0m)                 │ (\u001b[38;5;45mNone\u001b[0m, \u001b[38;5;34m16\u001b[0m)             │         \u001b[38;5;34m1,104\u001b[0m │\n",
       "├─────────────────────────────────┼────────────────────────┼───────────────┤\n",
       "│ dropout_6 (\u001b[38;5;33mDropout\u001b[0m)             │ (\u001b[38;5;45mNone\u001b[0m, \u001b[38;5;34m16\u001b[0m)             │             \u001b[38;5;34m0\u001b[0m │\n",
       "├─────────────────────────────────┼────────────────────────┼───────────────┤\n",
       "│ dense_7 (\u001b[38;5;33mDense\u001b[0m)                 │ (\u001b[38;5;45mNone\u001b[0m, \u001b[38;5;34m1\u001b[0m)              │            \u001b[38;5;34m17\u001b[0m │\n",
       "└─────────────────────────────────┴────────────────────────┴───────────────┘\n"
      ]
     },
     "metadata": {},
     "output_type": "display_data"
    },
    {
     "data": {
      "text/html": [
       "<pre style=\"white-space:pre;overflow-x:auto;line-height:normal;font-family:Menlo,'DejaVu Sans Mono',consolas,'Courier New',monospace\"><span style=\"font-weight: bold\"> Total params: </span><span style=\"color: #00af00; text-decoration-color: #00af00\">5,316,209</span> (20.28 MB)\n",
       "</pre>\n"
      ],
      "text/plain": [
       "\u001b[1m Total params: \u001b[0m\u001b[38;5;34m5,316,209\u001b[0m (20.28 MB)\n"
      ]
     },
     "metadata": {},
     "output_type": "display_data"
    },
    {
     "data": {
      "text/html": [
       "<pre style=\"white-space:pre;overflow-x:auto;line-height:normal;font-family:Menlo,'DejaVu Sans Mono',consolas,'Courier New',monospace\"><span style=\"font-weight: bold\"> Trainable params: </span><span style=\"color: #00af00; text-decoration-color: #00af00\">1,772,069</span> (6.76 MB)\n",
       "</pre>\n"
      ],
      "text/plain": [
       "\u001b[1m Trainable params: \u001b[0m\u001b[38;5;34m1,772,069\u001b[0m (6.76 MB)\n"
      ]
     },
     "metadata": {},
     "output_type": "display_data"
    },
    {
     "data": {
      "text/html": [
       "<pre style=\"white-space:pre;overflow-x:auto;line-height:normal;font-family:Menlo,'DejaVu Sans Mono',consolas,'Courier New',monospace\"><span style=\"font-weight: bold\"> Non-trainable params: </span><span style=\"color: #00af00; text-decoration-color: #00af00\">0</span> (0.00 B)\n",
       "</pre>\n"
      ],
      "text/plain": [
       "\u001b[1m Non-trainable params: \u001b[0m\u001b[38;5;34m0\u001b[0m (0.00 B)\n"
      ]
     },
     "metadata": {},
     "output_type": "display_data"
    },
    {
     "data": {
      "text/html": [
       "<pre style=\"white-space:pre;overflow-x:auto;line-height:normal;font-family:Menlo,'DejaVu Sans Mono',consolas,'Courier New',monospace\"><span style=\"font-weight: bold\"> Optimizer params: </span><span style=\"color: #00af00; text-decoration-color: #00af00\">3,544,140</span> (13.52 MB)\n",
       "</pre>\n"
      ],
      "text/plain": [
       "\u001b[1m Optimizer params: \u001b[0m\u001b[38;5;34m3,544,140\u001b[0m (13.52 MB)\n"
      ]
     },
     "metadata": {},
     "output_type": "display_data"
    }
   ],
   "source": [
    "# Architettura del modello\n",
    "model.summary()"
   ]
  },
  {
   "cell_type": "code",
   "execution_count": 38,
   "id": "28351bd3",
   "metadata": {},
   "outputs": [],
   "source": [
    "\n",
    "def save_model(model: Sequential, preprocessor: ColumnTransformer, data_encoder: DataEncoder):\n",
    "    model_name: str = str(model.name)\n",
    "    dir_path = Path(\"..\") / \"models\" / model_name\n",
    "    model_path = dir_path / (model_name + \".keras\")\n",
    "    preprocessor_path = dir_path / \"preprocessor.pkl\"\n",
    "    encoder_path = dir_path / (model_name + \"-encoder.pkl\")\n",
    "\n",
    "    os.makedirs(model_path.parent, exist_ok=True)\n",
    "\n",
    "    model.save(model_path)\n",
    "    joblib.dump(preprocessor, preprocessor_path)\n",
    "    joblib.dump(data_encoder,encoder_path)\n",
    "\n",
    "save_model(model, preprocessor, data_encoder)"
   ]
  },
  {
   "cell_type": "code",
   "execution_count": null,
   "id": "65436bfa",
   "metadata": {},
   "outputs": [
    {
     "name": "stdout",
     "output_type": "stream",
     "text": [
      "\u001b[1m4/4\u001b[0m \u001b[32m━━━━━━━━━━━━━━━━━━━━\u001b[0m\u001b[37m\u001b[0m \u001b[1m0s\u001b[0m 35ms/step\n",
      "✅ Predizioni completate!\n"
     ]
    }
   ],
   "source": [
    "model: Sequential = load_model(\"../models/wrp-2/wrp-2.keras\")\n",
    "encoder: DataEncoder = joblib.load(\"../models/wrp-2/wrp-2-encoder.pkl\")\n",
    "\n",
    "# Carica test set\n",
    "test_df = pd.read_csv(\"../data/test_set.csv\")\n",
    "\n",
    "\n",
    "# processa i dati\n",
    "X_processed, ids = encoder(test_df)\n",
    "\n",
    "# determina il peso del gatto\n",
    "predictions = model.predict(X_processed)\n",
    "\n",
    "# Salva risultati\n",
    "os.makedirs(\"../out\", exist_ok=True)\n",
    "with open(\"../out/risultati-wrp-2.csv\", \"w\") as out:\n",
    "    out.write(\"id_gatto,peso_adulto_kg_previsto\\n\")\n",
    "    for id_gatto, peso in zip(ids, predictions):\n",
    "        out.write(f\"{id_gatto},{peso[0]:.2f}\\n\")\n",
    "\n",
    "print(\"✅ Predizioni completate!\")\n"
   ]
  },
  {
   "cell_type": "code",
   "execution_count": 40,
   "id": "b4a59e5d",
   "metadata": {},
   "outputs": [
    {
     "name": "stdout",
     "output_type": "stream",
     "text": [
      "\u001b[1m31/31\u001b[0m \u001b[32m━━━━━━━━━━━━━━━━━━━━\u001b[0m\u001b[37m\u001b[0m \u001b[1m0s\u001b[0m 9ms/step\n",
      "Test MAPE: 4.22%\n"
     ]
    }
   ],
   "source": [
    "def mean_absolute_percentage_error(y_true: np.ndarray, y_pred: np.ndarray):\n",
    "    \"\"\"\n",
    "    Computes MAPE — Mean Absolute Percentage Error.\n",
    "\n",
    "    Returns the average absolute error as a percentage of the true values.\n",
    "    Ignores zero values in y_true to avoid division by zero.\n",
    "    \"\"\"\n",
    "    y_true, y_pred = np.array(y_true), np.array(y_pred)\n",
    "    non_zero = y_true != 0\n",
    "    return np.mean(np.abs((y_true[non_zero] - y_pred[non_zero]) / y_true[non_zero])) * 100\n",
    "\n",
    "predictions = model.predict(X_test)\n",
    "mape = mean_absolute_percentage_error(y_test, predictions.flatten())\n",
    "print(f\"Test MAPE: {mape:.2f}%\")\n"
   ]
  }
 ],
 "metadata": {
  "kernelspec": {
   "display_name": "project15",
   "language": "python",
   "name": "python3"
  },
  "language_info": {
   "codemirror_mode": {
    "name": "ipython",
    "version": 3
   },
   "file_extension": ".py",
   "mimetype": "text/x-python",
   "name": "python",
   "nbconvert_exporter": "python",
   "pygments_lexer": "ipython3",
   "version": "3.13.5"
  }
 },
 "nbformat": 4,
 "nbformat_minor": 5
}
