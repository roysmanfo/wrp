{
 "cells": [
  {
   "cell_type": "markdown",
   "id": "62cccb09",
   "metadata": {},
   "source": [
    "# wrp-2\n",
    "`wrp-2` è una modello piu grande e potente di `wrp-1` in grado di individuare dati mancanti e riempirli in modo intelligente, \n",
    "queso è possibile perché `wrp-2` è diviso in 2 parti:\n",
    "- un algoritmo `KNN` che infierisce sui dati riempiendo eventuali buchi\n",
    "- una rete neurale per apprendimento profondo che stima il peso del gatto\n",
    "\n",
    "`wrp-2` è in grado di supportare fino ad 1 dato mancante, stimando quale possa essere il valore basandosi su esperienze passate per scegliere come riempire il buco in modo inteligente ed il più vicino alla realtà possibile"
   ]
  },
  {
   "cell_type": "code",
   "execution_count": 134,
   "id": "967da321",
   "metadata": {},
   "outputs": [],
   "source": [
    "import os\n",
    "from pathlib import Path\n",
    "import joblib\n",
    "\n",
    "import pandas as pd\n",
    "from sklearn.impute import KNNImputer\n",
    "from sklearn.preprocessing import OrdinalEncoder, StandardScaler, OneHotEncoder\n",
    "from sklearn.compose import ColumnTransformer\n",
    "from sklearn.model_selection import train_test_split\n",
    "from sklearn.metrics import r2_score\n",
    "\n",
    "from keras.models import load_model\n",
    "from keras.models import Sequential\n",
    "from keras.layers import Dense, Dropout, Input\n",
    "from keras.optimizers import Adam\n",
    "from keras.callbacks import EarlyStopping, ReduceLROnPlateau"
   ]
  },
  {
   "cell_type": "code",
   "execution_count": 116,
   "id": "a84d2980",
   "metadata": {},
   "outputs": [
    {
     "name": "stdout",
     "output_type": "stream",
     "text": [
      "Trovate 4869 righe complete.\n",
      "Trovate 29 righe con un valore mancante da imputare.\n",
      "Scartate 0 righe con troppi valori mancanti.\n"
     ]
    }
   ],
   "source": [
    "# Carica il dataset completo\n",
    "df = pd.read_csv(\"../data/training_set.csv\")\n",
    "binary_columns = ['pelo_lungo', 'sterilizzato', 'vive_interno']  # valori 0/1\n",
    "\n",
    "\n",
    "\n",
    "# Nelle colonne dove i dati sono binari,\n",
    "# potrebbero essere presenti dei \"Si\" e \"No\"\n",
    "# o il datatype sbagliato, questa funzione si occupa\n",
    "# di assicurare che il valore in queste colonne sia sempre e solo 0/1\n",
    "def ensure_binary(col: pd.Series) -> pd.Series:\n",
    "    binary_map = {\n",
    "        1: 1,\n",
    "        0: 0,\n",
    "        '1': 1,\n",
    "        '0': 0,\n",
    "        'Si': 1,\n",
    "        'No': 0\n",
    "    }\n",
    "    return col.map(binary_map)\n",
    "\n",
    "# Assicurati che binary_columns abbia solo 0 e 1\n",
    "for col in binary_columns:\n",
    "    df[col] = ensure_binary(df[col])\n",
    "\n",
    "\n",
    "# righe senza nessun valore mancante (per addestrare l'imputer)\n",
    "df_complete = df.dropna()\n",
    "\n",
    "# righe con esattamente UN valore mancante (da completare)\n",
    "rows_with_nan = df[df.isnull().sum(axis=1) == 1].copy()\n",
    "\n",
    "# righe con più di un valore mancante (opzionale, per ora le scartiamo)\n",
    "rows_to_discard = df[df.isnull().sum(axis=1) > 1]\n",
    "\n",
    "print(f\"Trovate {len(df_complete)} righe complete.\")\n",
    "print(f\"Trovate {len(rows_with_nan)} righe con un valore mancante da imputare.\")\n",
    "print(f\"Scartate {len(rows_to_discard)} righe con troppi valori mancanti.\")\n",
    "\n",
    "del df_complete, rows_to_discard, rows_with_nan"
   ]
  },
  {
   "cell_type": "code",
   "execution_count": 111,
   "id": "f66b69d0",
   "metadata": {},
   "outputs": [],
   "source": [
    "def create_imputer(df: pd.DataFrame, n_neighbours: int = 5):\n",
    "    features = ['eta_mesi', 'razza', 'sesso', 'peso_nascita_kg', 'lunghezza_cm', \n",
    "                'altezza_spalla_cm', 'attivita_giornaliera', 'quantita_cibo_giorno_g', \n",
    "                'tipo_cibo', 'pelo_lungo', 'sterilizzato', 'temperatura_media_zona', \n",
    "                'vive_interno']\n",
    "    \n",
    "    categorical_cols = ['razza', 'sesso', 'tipo_cibo']\n",
    "    \n",
    "    X_complete = df[features].copy()\n",
    "    X_complete[categorical_cols] = X_complete[categorical_cols].fillna('Unknown')\n",
    "\n",
    "    encoder = OrdinalEncoder(handle_unknown='use_encoded_value', unknown_value=-1)\n",
    "    X_complete[categorical_cols] = encoder.fit_transform(X_complete[categorical_cols])\n",
    "\n",
    "    imputer = KNNImputer(n_neighbors=n_neighbours)\n",
    "    imputer.fit(X_complete)\n",
    "\n",
    "    return imputer, encoder\n"
   ]
  },
  {
   "cell_type": "code",
   "execution_count": null,
   "id": "e5019add",
   "metadata": {},
   "outputs": [],
   "source": [
    "def crate_preprocessor(df: pd.DataFrame):\n",
    "    categorical_columns = ['razza', 'sesso', 'tipo_cibo'] # puramente stringe di testo\n",
    "    binary_columns = ['pelo_lungo', 'sterilizzato', 'vive_interno']  # valori 0/1\n",
    "    numerical_columns = df.columns.drop(categorical_columns + binary_columns).tolist() # valori numerici\n",
    "\n",
    "\n",
    "    preprocessor = ColumnTransformer(\n",
    "        transformers=[\n",
    "            ('num', StandardScaler(), numerical_columns),\n",
    "            ('bin', 'passthrough', binary_columns),\n",
    "            ('cat', OneHotEncoder(handle_unknown='ignore'), categorical_columns)\n",
    "        ])\n",
    "    preprocessor.fit(df)\n",
    "    return preprocessor"
   ]
  },
  {
   "cell_type": "code",
   "execution_count": null,
   "id": "03479f0f",
   "metadata": {},
   "outputs": [],
   "source": [
    "class DataEncoder:\n",
    "    def __init__(self, imputer: KNNImputer, ord_encoder: OrdinalEncoder, preprocessor: ColumnTransformer):\n",
    "        self.imputer = imputer\n",
    "        self.ord_encoder = ord_encoder\n",
    "        self.preprocessor = preprocessor\n",
    "\n",
    "    def __call__(self, df: pd.DataFrame):\n",
    "        return self.process(df)\n",
    "\n",
    "    def process(self, df: pd.DataFrame):\n",
    "        df = self._impute_missing_data(df)\n",
    "        df_clean, ids = self._preprocess_data(df)\n",
    "        X_processed = self.preprocessor.transform(df_clean)\n",
    "        return X_processed, ids\n",
    "        \n",
    "\n",
    "    def _impute_missing_data(self, df: pd.DataFrame) -> pd.DataFrame:\n",
    "        # Seleziona solo le feature dal set di dati completo\n",
    "        features = ['eta_mesi', 'razza', 'sesso', 'peso_nascita_kg', 'lunghezza_cm', \n",
    "                    'altezza_spalla_cm', 'attivita_giornaliera', 'quantita_cibo_giorno_g', \n",
    "                    'tipo_cibo', 'pelo_lungo', 'sterilizzato', 'temperatura_media_zona', \n",
    "                    'vive_interno']\n",
    "        categorical_cols = ['razza', 'sesso', 'tipo_cibo']\n",
    "\n",
    "        \n",
    "        df_complete = df.dropna()\n",
    "        rows_with_nan = df[df[features].isnull().any(axis=1)].copy()\n",
    "        \n",
    "        # prepara il set con i dati mancanti\n",
    "        X_to_impute = rows_with_nan[features].copy()\n",
    "        X_to_impute[categorical_cols] = X_to_impute[categorical_cols].fillna('Unknown')\n",
    "        X_to_impute[categorical_cols] = self.ord_encoder.transform(X_to_impute[categorical_cols])\n",
    "\n",
    "        # applica l'imputer per riempire i valori mancanti\n",
    "        X_imputed_array = self.imputer.transform(X_to_impute)\n",
    "        df_imputed = pd.DataFrame(X_imputed_array, columns=features)\n",
    "\n",
    "        # riconverti le colonne categoriche al loro formato originale\n",
    "        for col in categorical_cols:\n",
    "            df_imputed[col] = df_imputed[col].round().astype(int)\n",
    "        df_imputed[categorical_cols] = self.ord_encoder.inverse_transform(df_imputed[categorical_cols])\n",
    "\n",
    "        # Aggiungi di nuovo l'ID del gatto e il peso\n",
    "        df_imputed['id_gatto'] = rows_with_nan['id_gatto'].values\n",
    "        try:\n",
    "            df_imputed['peso_adulto_kg'] = rows_with_nan['peso_adulto_kg'].values\n",
    "        except:\n",
    "            pass\n",
    "        return pd.concat([df_complete, df_imputed], ignore_index=True)\n",
    "    \n",
    "    def _preprocess_data(self, df: pd.DataFrame):\n",
    "        df_clean = df.copy()\n",
    "        \n",
    "        # Rimuovi id_gatto\n",
    "        if 'id_gatto' in df_clean.columns:\n",
    "            ids = df_clean['id_gatto'].astype(int)\n",
    "            df_clean = df_clean.drop(columns=['id_gatto'])\n",
    "        else:\n",
    "            ids = range(len(df_clean))\n",
    "        \n",
    "        # Gestisci valori mancanti numerici\n",
    "        numeric_cols = ['eta_mesi', 'peso_nascita_kg', 'lunghezza_cm', 'altezza_spalla_cm', \n",
    "                    'attivita_giornaliera', 'quantita_cibo_giorno_g', 'temperatura_media_zona']\n",
    "        \n",
    "        for col in numeric_cols:\n",
    "            if col in df_clean.columns:\n",
    "                df_clean[col] = pd.to_numeric(df_clean[col], errors='coerce')\n",
    "                df_clean[col] = df_clean[col].fillna(df_clean[col].median() if not df_clean[col].isna().all() else 0)\n",
    "        \n",
    "        # Gestisci valori mancanti binari\n",
    "        binary_cols = ['pelo_lungo', 'sterilizzato', 'vive_interno']\n",
    "        for col in binary_cols:\n",
    "            if col in df_clean.columns:\n",
    "                df_clean[col] = pd.to_numeric(df_clean[col], errors='coerce')\n",
    "                df_clean[col] = df_clean[col].fillna(0)\n",
    "                df_clean[col] = df_clean[col].apply(lambda x: 1 if x == 1 else 0)\n",
    "        \n",
    "        # Gestisci categorie sconosciute\n",
    "        categorical_cols = ['razza', 'sesso', 'tipo_cibo']\n",
    "        for col in categorical_cols:\n",
    "            if col in df_clean.columns:\n",
    "                df_clean[col] = df_clean[col].fillna('Unknown')\n",
    "                # Converti a stringa per sicurezza\n",
    "                df_clean[col] = df_clean[col].astype(str)\n",
    "        \n",
    "        return df_clean, ids\n",
    "    \n",
    "    def _ensure_binary(col: pd.Series) -> pd.Series:\n",
    "        \"\"\"\n",
    "        Nelle colonne dove i dati sono binari,\n",
    "        potrebbero essere presenti dei \"Si\" e \"No\"\n",
    "        o il datatype sbagliato, questa funzione si occupa\n",
    "        di assicurare che il valore in queste colonne sia sempre e solo 0/1\n",
    "        \"\"\"\n",
    "        binary_map = {\n",
    "            1: 1,       0: 0,\n",
    "            '1': 1,     '0': 0,\n",
    "            'Si': 1,    'No': 0\n",
    "        }\n",
    "        return col.map(binary_map)\n",
    "\n",
    "# usa lo stesso ColumnTransformer di wrp-1\n",
    "preprocessor: ColumnTransformer = joblib.load(\"../models/wrp-1/preprocessor.pkl\")\n",
    "data_encoder = DataEncoder(*create_imputer(df), preprocessor)"
   ]
  },
  {
   "cell_type": "code",
   "execution_count": 86,
   "id": "ba6a87ff",
   "metadata": {},
   "outputs": [
    {
     "data": {
      "application/vnd.microsoft.datawrangler.viewer.v0+json": {
       "columns": [
        {
         "name": "index",
         "rawType": "object",
         "type": "string"
        },
        {
         "name": "0",
         "rawType": "int64",
         "type": "integer"
        }
       ],
       "ref": "69cc2934-661e-4e6a-b296-6ad6bf9ae30d",
       "rows": [
        [
         "id_gatto",
         "0"
        ],
        [
         "eta_mesi",
         "0"
        ],
        [
         "razza",
         "0"
        ],
        [
         "sesso",
         "0"
        ],
        [
         "peso_nascita_kg",
         "0"
        ],
        [
         "lunghezza_cm",
         "0"
        ],
        [
         "altezza_spalla_cm",
         "0"
        ],
        [
         "attivita_giornaliera",
         "0"
        ],
        [
         "quantita_cibo_giorno_g",
         "0"
        ],
        [
         "tipo_cibo",
         "0"
        ],
        [
         "pelo_lungo",
         "0"
        ],
        [
         "sterilizzato",
         "0"
        ],
        [
         "temperatura_media_zona",
         "0"
        ],
        [
         "vive_interno",
         "0"
        ],
        [
         "peso_adulto_kg",
         "0"
        ]
       ],
       "shape": {
        "columns": 1,
        "rows": 15
       }
      },
      "text/plain": [
       "id_gatto                  0\n",
       "eta_mesi                  0\n",
       "razza                     0\n",
       "sesso                     0\n",
       "peso_nascita_kg           0\n",
       "lunghezza_cm              0\n",
       "altezza_spalla_cm         0\n",
       "attivita_giornaliera      0\n",
       "quantita_cibo_giorno_g    0\n",
       "tipo_cibo                 0\n",
       "pelo_lungo                0\n",
       "sterilizzato              0\n",
       "temperatura_media_zona    0\n",
       "vive_interno              0\n",
       "peso_adulto_kg            0\n",
       "dtype: int64"
      ]
     },
     "execution_count": 86,
     "metadata": {},
     "output_type": "execute_result"
    }
   ],
   "source": [
    "data_encoder._impute_missing_data(df).isnull().sum()"
   ]
  },
  {
   "cell_type": "code",
   "execution_count": 87,
   "id": "ecef5f42",
   "metadata": {},
   "outputs": [],
   "source": [
    "def preprocess_training_data(df: pd.DataFrame):\n",
    "    df_clean = df.copy()\n",
    "    \n",
    "    # Rimuovi colonne non necessarie\n",
    "    if 'id_gatto' in df_clean.columns:\n",
    "        df_clean = df_clean.drop(columns=['id_gatto'])\n",
    "    \n",
    "    # Gestisci valori mancanti numerici con la mediana\n",
    "    numeric_cols = ['eta_mesi', 'peso_nascita_kg', 'lunghezza_cm', 'altezza_spalla_cm', \n",
    "                   'attivita_giornaliera', 'quantita_cibo_giorno_g', 'temperatura_media_zona']\n",
    "    for col in numeric_cols:\n",
    "        if col in df_clean.columns:\n",
    "            median_val = df_clean[col].median()\n",
    "            df_clean[col] = df_clean[col].fillna(median_val)\n",
    "            \n",
    "    # Gestisci le altre colonne (categoriche, binarie) come preferisci,\n",
    "    # ad esempio riempiendo con una moda o un valore specifico come 'Unknown' o 0\n",
    "    \n",
    "    X = df_clean.drop(columns=['peso_adulto_kg'])\n",
    "    y = df_clean['peso_adulto_kg']\n",
    "    \n",
    "    return X, y\n",
    "\n",
    "# Applica la pulizia\n",
    "df = data_encoder._impute_missing_data(df)\n",
    "X, y = preprocess_training_data(df)\n",
    "del df # non verrà piu usato, quindi possiamo liberare memoria"
   ]
  },
  {
   "cell_type": "code",
   "execution_count": 89,
   "id": "831e2aa2",
   "metadata": {},
   "outputs": [],
   "source": [
    "X_processed = preprocessor.fit_transform(X)\n",
    "y = y.values"
   ]
  },
  {
   "cell_type": "code",
   "execution_count": 90,
   "id": "2ffeb5da",
   "metadata": {},
   "outputs": [
    {
     "data": {
      "text/plain": [
       "(4898, 24)"
      ]
     },
     "execution_count": 90,
     "metadata": {},
     "output_type": "execute_result"
    }
   ],
   "source": [
    "X_processed.shape"
   ]
  },
  {
   "cell_type": "code",
   "execution_count": 91,
   "id": "b5825a22",
   "metadata": {},
   "outputs": [],
   "source": [
    "X_train, X_test, y_train, y_test = train_test_split(X_processed, y, test_size=0.2)"
   ]
  },
  {
   "cell_type": "code",
   "execution_count": null,
   "id": "08071016",
   "metadata": {},
   "outputs": [],
   "source": [
    "model = Sequential([\n",
    "    Input(shape=(X_processed.shape[1],)),\n",
    "    \n",
    "    Dense(1024, activation='relu'),\n",
    "    Dropout(0.3),\n",
    "\n",
    "    Dense(1024, activation='relu'),\n",
    "    Dropout(0.3),\n",
    "    \n",
    "    Dense(512, activation='relu'),\n",
    "    Dropout(0.2),\n",
    "    \n",
    "    Dense(256, activation='relu'),\n",
    "    Dropout(0.2),\n",
    "    \n",
    "    Dense(128, activation='relu'),\n",
    "    Dropout(0.1),\n",
    "    \n",
    "    Dense(68, activation='relu'),\n",
    "    Dropout(0.1),\n",
    "    \n",
    "    Dense(16, activation='relu'),\n",
    "    Dropout(0.1),\n",
    "    Dense(1),\n",
    "], name='wrp-2')\n",
    "\n",
    "model.compile(\n",
    "    optimizer=Adam(learning_rate=1e-3),\n",
    "    loss='mse',\n",
    "    metrics=['mae']\n",
    ")"
   ]
  },
  {
   "cell_type": "markdown",
   "id": "d4f169bb",
   "metadata": {},
   "source": [
    "#### Architettura alternativa\n",
    "```py\n",
    "model = Sequential([\n",
    "    Input(shape=(X_processed.shape[1],)),\n",
    "\n",
    "    Dense(1024, activation='relu'),\n",
    "    BatchNormalization(),\n",
    "    Dropout(0.2),\n",
    "\n",
    "    Dense(1024, activation='relu'),\n",
    "    BatchNormalization(),\n",
    "    Dropout(0.2),\n",
    "    \n",
    "    Dense(512, activation='relu'),\n",
    "    BatchNormalization(),\n",
    "    Dropout(0.2),\n",
    "    \n",
    "    Dense(256, activation='relu'),\n",
    "    Dropout(0.2),\n",
    "    \n",
    "    Dense(128, activation='relu'),\n",
    "    BatchNormalization(),\n",
    "    Dropout(0.1),\n",
    "    \n",
    "    Dense(68, activation='relu'),\n",
    "    BatchNormalization(),\n",
    "    Dropout(0.1),\n",
    "    \n",
    "    Dense(16, activation='relu'),\n",
    "    Dense(1),\n",
    "])\n",
    "\n",
    "model.compile(\n",
    "optimizer=Adam(learning_rate=1e-3),\n",
    "    loss='mse',\n",
    "    metrics=['mae']\n",
    ")\n",
    "```"
   ]
  },
  {
   "cell_type": "code",
   "execution_count": null,
   "id": "55fd46b4",
   "metadata": {},
   "outputs": [
    {
     "name": "stdout",
     "output_type": "stream",
     "text": [
      "Epoch 1/200\n",
      "\u001b[1m245/245\u001b[0m \u001b[32m━━━━━━━━━━━━━━━━━━━━\u001b[0m\u001b[37m\u001b[0m \u001b[1m12s\u001b[0m 36ms/step - loss: 8.6428 - mae: 1.4414 - val_loss: 1.1091 - val_mae: 0.7483 - learning_rate: 0.0010\n",
      "Epoch 2/200\n",
      "\u001b[1m245/245\u001b[0m \u001b[32m━━━━━━━━━━━━━━━━━━━━\u001b[0m\u001b[37m\u001b[0m \u001b[1m12s\u001b[0m 42ms/step - loss: 4.5111 - mae: 1.1199 - val_loss: 1.4269 - val_mae: 1.0311 - learning_rate: 0.0010\n",
      "Epoch 3/200\n",
      "\u001b[1m245/245\u001b[0m \u001b[32m━━━━━━━━━━━━━━━━━━━━\u001b[0m\u001b[37m\u001b[0m \u001b[1m9s\u001b[0m 36ms/step - loss: 2.8246 - mae: 1.0694 - val_loss: 0.9115 - val_mae: 0.7978 - learning_rate: 0.0010\n",
      "Epoch 4/200\n",
      "\u001b[1m245/245\u001b[0m \u001b[32m━━━━━━━━━━━━━━━━━━━━\u001b[0m\u001b[37m\u001b[0m \u001b[1m16s\u001b[0m 59ms/step - loss: 2.2290 - mae: 1.0157 - val_loss: 0.2793 - val_mae: 0.3145 - learning_rate: 0.0010\n",
      "Epoch 5/200\n",
      "\u001b[1m245/245\u001b[0m \u001b[32m━━━━━━━━━━━━━━━━━━━━\u001b[0m\u001b[37m\u001b[0m \u001b[1m14s\u001b[0m 58ms/step - loss: 2.2301 - mae: 1.0372 - val_loss: 0.6893 - val_mae: 0.7109 - learning_rate: 0.0010\n",
      "Epoch 6/200\n",
      "\u001b[1m245/245\u001b[0m \u001b[32m━━━━━━━━━━━━━━━━━━━━\u001b[0m\u001b[37m\u001b[0m \u001b[1m24s\u001b[0m 72ms/step - loss: 1.2653 - mae: 0.8373 - val_loss: 0.5171 - val_mae: 0.6123 - learning_rate: 0.0010\n",
      "Epoch 7/200\n",
      "\u001b[1m245/245\u001b[0m \u001b[32m━━━━━━━━━━━━━━━━━━━━\u001b[0m\u001b[37m\u001b[0m \u001b[1m15s\u001b[0m 50ms/step - loss: 1.0562 - mae: 0.7928 - val_loss: 0.4074 - val_mae: 0.5290 - learning_rate: 0.0010\n",
      "Epoch 8/200\n",
      "\u001b[1m245/245\u001b[0m \u001b[32m━━━━━━━━━━━━━━━━━━━━\u001b[0m\u001b[37m\u001b[0m \u001b[1m17s\u001b[0m 37ms/step - loss: 0.9357 - mae: 0.7387 - val_loss: 0.2696 - val_mae: 0.4159 - learning_rate: 0.0010\n",
      "Epoch 9/200\n",
      "\u001b[1m245/245\u001b[0m \u001b[32m━━━━━━━━━━━━━━━━━━━━\u001b[0m\u001b[37m\u001b[0m \u001b[1m9s\u001b[0m 37ms/step - loss: 0.7384 - mae: 0.6634 - val_loss: 0.1163 - val_mae: 0.2720 - learning_rate: 0.0010\n",
      "Epoch 10/200\n",
      "\u001b[1m245/245\u001b[0m \u001b[32m━━━━━━━━━━━━━━━━━━━━\u001b[0m\u001b[37m\u001b[0m \u001b[1m9s\u001b[0m 35ms/step - loss: 0.6628 - mae: 0.6272 - val_loss: 0.4422 - val_mae: 0.5485 - learning_rate: 0.0010\n",
      "Epoch 11/200\n",
      "\u001b[1m245/245\u001b[0m \u001b[32m━━━━━━━━━━━━━━━━━━━━\u001b[0m\u001b[37m\u001b[0m \u001b[1m10s\u001b[0m 40ms/step - loss: 0.6692 - mae: 0.6030 - val_loss: 0.1436 - val_mae: 0.3007 - learning_rate: 0.0010\n",
      "Epoch 12/200\n",
      "\u001b[1m245/245\u001b[0m \u001b[32m━━━━━━━━━━━━━━━━━━━━\u001b[0m\u001b[37m\u001b[0m \u001b[1m9s\u001b[0m 38ms/step - loss: 0.5858 - mae: 0.5922 - val_loss: 0.1379 - val_mae: 0.2937 - learning_rate: 0.0010\n",
      "Epoch 13/200\n",
      "\u001b[1m245/245\u001b[0m \u001b[32m━━━━━━━━━━━━━━━━━━━━\u001b[0m\u001b[37m\u001b[0m \u001b[1m9s\u001b[0m 36ms/step - loss: 0.6420 - mae: 0.5904 - val_loss: 0.2903 - val_mae: 0.4318 - learning_rate: 0.0010\n",
      "Epoch 14/200\n",
      "\u001b[1m245/245\u001b[0m \u001b[32m━━━━━━━━━━━━━━━━━━━━\u001b[0m\u001b[37m\u001b[0m \u001b[1m11s\u001b[0m 38ms/step - loss: 0.5706 - mae: 0.5890 - val_loss: 0.1222 - val_mae: 0.2796 - learning_rate: 0.0010\n",
      "Epoch 15/200\n",
      "\u001b[1m245/245\u001b[0m \u001b[32m━━━━━━━━━━━━━━━━━━━━\u001b[0m\u001b[37m\u001b[0m \u001b[1m9s\u001b[0m 38ms/step - loss: 0.5213 - mae: 0.5679 - val_loss: 0.1202 - val_mae: 0.2749 - learning_rate: 0.0010\n",
      "Epoch 16/200\n",
      "\u001b[1m245/245\u001b[0m \u001b[32m━━━━━━━━━━━━━━━━━━━━\u001b[0m\u001b[37m\u001b[0m \u001b[1m10s\u001b[0m 37ms/step - loss: 0.4820 - mae: 0.5445 - val_loss: 0.1318 - val_mae: 0.2881 - learning_rate: 0.0010\n",
      "Epoch 17/200\n",
      "\u001b[1m245/245\u001b[0m \u001b[32m━━━━━━━━━━━━━━━━━━━━\u001b[0m\u001b[37m\u001b[0m \u001b[1m11s\u001b[0m 39ms/step - loss: 0.4817 - mae: 0.5423 - val_loss: 0.1310 - val_mae: 0.2847 - learning_rate: 0.0010\n",
      "Epoch 18/200\n",
      "\u001b[1m245/245\u001b[0m \u001b[32m━━━━━━━━━━━━━━━━━━━━\u001b[0m\u001b[37m\u001b[0m \u001b[1m10s\u001b[0m 39ms/step - loss: 0.4607 - mae: 0.5314 - val_loss: 0.1085 - val_mae: 0.2643 - learning_rate: 0.0010\n",
      "Epoch 19/200\n",
      "\u001b[1m245/245\u001b[0m \u001b[32m━━━━━━━━━━━━━━━━━━━━\u001b[0m\u001b[37m\u001b[0m \u001b[1m12s\u001b[0m 46ms/step - loss: 0.4329 - mae: 0.5165 - val_loss: 0.1007 - val_mae: 0.2515 - learning_rate: 0.0010\n",
      "Epoch 20/200\n",
      "\u001b[1m245/245\u001b[0m \u001b[32m━━━━━━━━━━━━━━━━━━━━\u001b[0m\u001b[37m\u001b[0m \u001b[1m10s\u001b[0m 40ms/step - loss: 0.4427 - mae: 0.5188 - val_loss: 0.1395 - val_mae: 0.2962 - learning_rate: 0.0010\n",
      "Epoch 21/200\n",
      "\u001b[1m245/245\u001b[0m \u001b[32m━━━━━━━━━━━━━━━━━━━━\u001b[0m\u001b[37m\u001b[0m \u001b[1m10s\u001b[0m 38ms/step - loss: 0.4308 - mae: 0.5081 - val_loss: 0.1075 - val_mae: 0.2630 - learning_rate: 0.0010\n",
      "Epoch 22/200\n",
      "\u001b[1m245/245\u001b[0m \u001b[32m━━━━━━━━━━━━━━━━━━━━\u001b[0m\u001b[37m\u001b[0m \u001b[1m10s\u001b[0m 37ms/step - loss: 0.4112 - mae: 0.4997 - val_loss: 0.1975 - val_mae: 0.3527 - learning_rate: 0.0010\n",
      "Epoch 23/200\n",
      "\u001b[1m245/245\u001b[0m \u001b[32m━━━━━━━━━━━━━━━━━━━━\u001b[0m\u001b[37m\u001b[0m \u001b[1m9s\u001b[0m 37ms/step - loss: 0.3967 - mae: 0.4860 - val_loss: 0.1076 - val_mae: 0.2617 - learning_rate: 0.0010\n",
      "Epoch 24/200\n",
      "\u001b[1m245/245\u001b[0m \u001b[32m━━━━━━━━━━━━━━━━━━━━\u001b[0m\u001b[37m\u001b[0m \u001b[1m10s\u001b[0m 37ms/step - loss: 0.3870 - mae: 0.4824 - val_loss: 0.1314 - val_mae: 0.2908 - learning_rate: 0.0010\n",
      "Epoch 25/200\n",
      "\u001b[1m245/245\u001b[0m \u001b[32m━━━━━━━━━━━━━━━━━━━━\u001b[0m\u001b[37m\u001b[0m \u001b[1m9s\u001b[0m 38ms/step - loss: 0.3639 - mae: 0.4772 - val_loss: 0.1121 - val_mae: 0.2631 - learning_rate: 0.0010\n",
      "Epoch 26/200\n",
      "\u001b[1m245/245\u001b[0m \u001b[32m━━━━━━━━━━━━━━━━━━━━\u001b[0m\u001b[37m\u001b[0m \u001b[1m9s\u001b[0m 38ms/step - loss: 0.3683 - mae: 0.4714 - val_loss: 0.1189 - val_mae: 0.2727 - learning_rate: 0.0010\n",
      "Epoch 27/200\n",
      "\u001b[1m245/245\u001b[0m \u001b[32m━━━━━━━━━━━━━━━━━━━━\u001b[0m\u001b[37m\u001b[0m \u001b[1m9s\u001b[0m 37ms/step - loss: 0.3555 - mae: 0.4662 - val_loss: 0.1210 - val_mae: 0.2738 - learning_rate: 0.0010\n",
      "Epoch 28/200\n",
      "\u001b[1m245/245\u001b[0m \u001b[32m━━━━━━━━━━━━━━━━━━━━\u001b[0m\u001b[37m\u001b[0m \u001b[1m9s\u001b[0m 35ms/step - loss: 0.3446 - mae: 0.4626 - val_loss: 0.1112 - val_mae: 0.2670 - learning_rate: 0.0010\n",
      "Epoch 29/200\n",
      "\u001b[1m245/245\u001b[0m \u001b[32m━━━━━━━━━━━━━━━━━━━━\u001b[0m\u001b[37m\u001b[0m \u001b[1m11s\u001b[0m 37ms/step - loss: 0.3493 - mae: 0.4612 - val_loss: 0.1173 - val_mae: 0.2749 - learning_rate: 0.0010\n",
      "Epoch 30/200\n",
      "\u001b[1m245/245\u001b[0m \u001b[32m━━━━━━━━━━━━━━━━━━━━\u001b[0m\u001b[37m\u001b[0m \u001b[1m9s\u001b[0m 38ms/step - loss: 0.3008 - mae: 0.4290 - val_loss: 0.1015 - val_mae: 0.2556 - learning_rate: 1.0000e-04\n",
      "Epoch 31/200\n",
      "\u001b[1m245/245\u001b[0m \u001b[32m━━━━━━━━━━━━━━━━━━━━\u001b[0m\u001b[37m\u001b[0m \u001b[1m10s\u001b[0m 35ms/step - loss: 0.3227 - mae: 0.4451 - val_loss: 0.0969 - val_mae: 0.2487 - learning_rate: 1.0000e-04\n",
      "Epoch 32/200\n",
      "\u001b[1m245/245\u001b[0m \u001b[32m━━━━━━━━━━━━━━━━━━━━\u001b[0m\u001b[37m\u001b[0m \u001b[1m11s\u001b[0m 37ms/step - loss: 0.3180 - mae: 0.4412 - val_loss: 0.1029 - val_mae: 0.2555 - learning_rate: 1.0000e-04\n",
      "Epoch 33/200\n",
      "\u001b[1m245/245\u001b[0m \u001b[32m━━━━━━━━━━━━━━━━━━━━\u001b[0m\u001b[37m\u001b[0m \u001b[1m9s\u001b[0m 37ms/step - loss: 0.3197 - mae: 0.4355 - val_loss: 0.0984 - val_mae: 0.2502 - learning_rate: 1.0000e-04\n",
      "Epoch 34/200\n",
      "\u001b[1m245/245\u001b[0m \u001b[32m━━━━━━━━━━━━━━━━━━━━\u001b[0m\u001b[37m\u001b[0m \u001b[1m9s\u001b[0m 38ms/step - loss: 0.3116 - mae: 0.4330 - val_loss: 0.0993 - val_mae: 0.2507 - learning_rate: 1.0000e-04\n",
      "Epoch 35/200\n",
      "\u001b[1m245/245\u001b[0m \u001b[32m━━━━━━━━━━━━━━━━━━━━\u001b[0m\u001b[37m\u001b[0m \u001b[1m9s\u001b[0m 37ms/step - loss: 0.3009 - mae: 0.4217 - val_loss: 0.1006 - val_mae: 0.2536 - learning_rate: 1.0000e-04\n",
      "Epoch 36/200\n",
      "\u001b[1m245/245\u001b[0m \u001b[32m━━━━━━━━━━━━━━━━━━━━\u001b[0m\u001b[37m\u001b[0m \u001b[1m9s\u001b[0m 38ms/step - loss: 0.3153 - mae: 0.4358 - val_loss: 0.1001 - val_mae: 0.2528 - learning_rate: 1.0000e-04\n",
      "Epoch 37/200\n",
      "\u001b[1m245/245\u001b[0m \u001b[32m━━━━━━━━━━━━━━━━━━━━\u001b[0m\u001b[37m\u001b[0m \u001b[1m9s\u001b[0m 38ms/step - loss: 0.2953 - mae: 0.4259 - val_loss: 0.1069 - val_mae: 0.2604 - learning_rate: 1.0000e-04\n",
      "Epoch 38/200\n",
      "\u001b[1m245/245\u001b[0m \u001b[32m━━━━━━━━━━━━━━━━━━━━\u001b[0m\u001b[37m\u001b[0m \u001b[1m10s\u001b[0m 38ms/step - loss: 0.2949 - mae: 0.4254 - val_loss: 0.1019 - val_mae: 0.2548 - learning_rate: 1.0000e-04\n",
      "Epoch 39/200\n",
      "\u001b[1m245/245\u001b[0m \u001b[32m━━━━━━━━━━━━━━━━━━━━\u001b[0m\u001b[37m\u001b[0m \u001b[1m10s\u001b[0m 40ms/step - loss: 0.2899 - mae: 0.4196 - val_loss: 0.0987 - val_mae: 0.2505 - learning_rate: 1.0000e-04\n",
      "Epoch 40/200\n",
      "\u001b[1m245/245\u001b[0m \u001b[32m━━━━━━━━━━━━━━━━━━━━\u001b[0m\u001b[37m\u001b[0m \u001b[1m9s\u001b[0m 38ms/step - loss: 0.2933 - mae: 0.4214 - val_loss: 0.1064 - val_mae: 0.2613 - learning_rate: 1.0000e-04\n",
      "Epoch 41/200\n",
      "\u001b[1m245/245\u001b[0m \u001b[32m━━━━━━━━━━━━━━━━━━━━\u001b[0m\u001b[37m\u001b[0m \u001b[1m9s\u001b[0m 38ms/step - loss: 0.3019 - mae: 0.4248 - val_loss: 0.1010 - val_mae: 0.2526 - learning_rate: 1.0000e-04\n",
      "Epoch 42/200\n",
      "\u001b[1m245/245\u001b[0m \u001b[32m━━━━━━━━━━━━━━━━━━━━\u001b[0m\u001b[37m\u001b[0m \u001b[1m9s\u001b[0m 38ms/step - loss: 0.3006 - mae: 0.4283 - val_loss: 0.1020 - val_mae: 0.2539 - learning_rate: 1.0000e-05\n",
      "Epoch 43/200\n",
      "\u001b[1m245/245\u001b[0m \u001b[32m━━━━━━━━━━━━━━━━━━━━\u001b[0m\u001b[37m\u001b[0m \u001b[1m10s\u001b[0m 39ms/step - loss: 0.2924 - mae: 0.4235 - val_loss: 0.1011 - val_mae: 0.2527 - learning_rate: 1.0000e-05\n",
      "Epoch 44/200\n",
      "\u001b[1m245/245\u001b[0m \u001b[32m━━━━━━━━━━━━━━━━━━━━\u001b[0m\u001b[37m\u001b[0m \u001b[1m10s\u001b[0m 39ms/step - loss: 0.2861 - mae: 0.4159 - val_loss: 0.1036 - val_mae: 0.2558 - learning_rate: 1.0000e-05\n",
      "Epoch 45/200\n",
      "\u001b[1m245/245\u001b[0m \u001b[32m━━━━━━━━━━━━━━━━━━━━\u001b[0m\u001b[37m\u001b[0m \u001b[1m9s\u001b[0m 38ms/step - loss: 0.2956 - mae: 0.4220 - val_loss: 0.1038 - val_mae: 0.2563 - learning_rate: 1.0000e-05\n",
      "Epoch 46/200\n",
      "\u001b[1m245/245\u001b[0m \u001b[32m━━━━━━━━━━━━━━━━━━━━\u001b[0m\u001b[37m\u001b[0m \u001b[1m9s\u001b[0m 37ms/step - loss: 0.2923 - mae: 0.4179 - val_loss: 0.1035 - val_mae: 0.2559 - learning_rate: 1.0000e-05\n",
      "Epoch 47/200\n",
      "\u001b[1m245/245\u001b[0m \u001b[32m━━━━━━━━━━━━━━━━━━━━\u001b[0m\u001b[37m\u001b[0m \u001b[1m9s\u001b[0m 38ms/step - loss: 0.2918 - mae: 0.4213 - val_loss: 0.1023 - val_mae: 0.2542 - learning_rate: 1.0000e-05\n",
      "Epoch 48/200\n",
      "\u001b[1m245/245\u001b[0m \u001b[32m━━━━━━━━━━━━━━━━━━━━\u001b[0m\u001b[37m\u001b[0m \u001b[1m10s\u001b[0m 37ms/step - loss: 0.2976 - mae: 0.4221 - val_loss: 0.1029 - val_mae: 0.2552 - learning_rate: 1.0000e-05\n",
      "Epoch 49/200\n",
      "\u001b[1m245/245\u001b[0m \u001b[32m━━━━━━━━━━━━━━━━━━━━\u001b[0m\u001b[37m\u001b[0m \u001b[1m11s\u001b[0m 40ms/step - loss: 0.2893 - mae: 0.4180 - val_loss: 0.1034 - val_mae: 0.2561 - learning_rate: 1.0000e-05\n",
      "Epoch 50/200\n",
      "\u001b[1m245/245\u001b[0m \u001b[32m━━━━━━━━━━━━━━━━━━━━\u001b[0m\u001b[37m\u001b[0m \u001b[1m9s\u001b[0m 36ms/step - loss: 0.2897 - mae: 0.4204 - val_loss: 0.1024 - val_mae: 0.2546 - learning_rate: 1.0000e-05\n",
      "Epoch 51/200\n",
      "\u001b[1m245/245\u001b[0m \u001b[32m━━━━━━━━━━━━━━━━━━━━\u001b[0m\u001b[37m\u001b[0m \u001b[1m10s\u001b[0m 40ms/step - loss: 0.2990 - mae: 0.4241 - val_loss: 0.1025 - val_mae: 0.2549 - learning_rate: 1.0000e-05\n"
     ]
    }
   ],
   "source": [
    "history = model.fit(\n",
    "    x=X_train,\n",
    "    y=y_train,\n",
    "    validation_data=(X_test, y_test),\n",
    "    epochs=200,\n",
    "    batch_size=16,\n",
    "    validation_split=0.2,\n",
    "    verbose=1,\n",
    "    callbacks=[\n",
    "        EarlyStopping(\n",
    "            monitor='val_loss',\n",
    "            patience=20,\n",
    "            restore_best_weights=True\n",
    "        ),\n",
    "        ReduceLROnPlateau(\n",
    "            monitor='val_loss',\n",
    "            factor=1e-1,\n",
    "            patience=10,\n",
    "            min_lr=1e-6\n",
    "        )\n",
    "    ],\n",
    ")"
   ]
  },
  {
   "cell_type": "code",
   "execution_count": 94,
   "id": "bc1254c0",
   "metadata": {},
   "outputs": [
    {
     "name": "stdout",
     "output_type": "stream",
     "text": [
      "Test Loss (MSE): 0.0969\n",
      "Test MAE: 0.2487\n"
     ]
    }
   ],
   "source": [
    "# valutazione \n",
    "loss, mae = model.evaluate(X_test, y_test, verbose=0)\n",
    "print(f\"Test Loss (MSE): {loss:.4f}\")\n",
    "print(f\"Test MAE: {mae:.4f}\")"
   ]
  },
  {
   "cell_type": "code",
   "execution_count": 95,
   "id": "2ff7609e",
   "metadata": {},
   "outputs": [
    {
     "name": "stdout",
     "output_type": "stream",
     "text": [
      "\u001b[1m1/1\u001b[0m \u001b[32m━━━━━━━━━━━━━━━━━━━━\u001b[0m\u001b[37m\u001b[0m \u001b[1m0s\u001b[0m 148ms/step\n",
      "Predizioni vs Valori reali:\n",
      "Predetto: 7.39 kg, Reale: 7.23 kg\n",
      "Predetto: 5.71 kg, Reale: 5.43 kg\n",
      "Predetto: 7.46 kg, Reale: 7.19 kg\n",
      "Predetto: 6.45 kg, Reale: 6.38 kg\n",
      "Predetto: 4.44 kg, Reale: 4.46 kg\n"
     ]
    }
   ],
   "source": [
    "# Predizione di esempio\n",
    "predictions = model.predict(X_test[:5])\n",
    "print(\"Predizioni vs Valori reali:\")\n",
    "for i in range(5):\n",
    "    print(f\"Predetto: {predictions[i][0]:.2f} kg, Reale: {y_test[i]:.2f} kg\")"
   ]
  },
  {
   "cell_type": "code",
   "execution_count": 96,
   "id": "d5bd1a48",
   "metadata": {},
   "outputs": [
    {
     "data": {
      "image/png": "[encoded data removed]",
      "text/plain": [
       "<Figure size 1200x400 with 2 Axes>"
      ]
     },
     "metadata": {},
     "output_type": "display_data"
    }
   ],
   "source": [
    "import matplotlib.pyplot as plt\n",
    "\n",
    "plt.figure(figsize=(12, 4))\n",
    "\n",
    "plt.subplot(1, 2, 1)\n",
    "plt.plot(history.history['loss'], label='Training Loss')\n",
    "plt.plot(history.history['val_loss'], label='Validation Loss')\n",
    "plt.title('Model Loss')\n",
    "plt.xlabel('Epoch')\n",
    "plt.ylabel('Loss')\n",
    "plt.legend()\n",
    "\n",
    "plt.subplot(1, 2, 2)\n",
    "plt.plot(history.history['mae'], label='Training MAE')\n",
    "plt.plot(history.history['val_mae'], label='Validation MAE')\n",
    "plt.title('Model MAE')\n",
    "plt.xlabel('Epoch')\n",
    "plt.ylabel('MAE')\n",
    "plt.legend()\n",
    "\n",
    "plt.tight_layout()\n",
    "plt.show()"
   ]
  },
  {
   "cell_type": "code",
   "execution_count": 120,
   "id": "a5c0d181",
   "metadata": {},
   "outputs": [
    {
     "name": "stdout",
     "output_type": "stream",
     "text": [
      "\u001b[1m31/31\u001b[0m \u001b[32m━━━━━━━━━━━━━━━━━━━━\u001b[0m\u001b[37m\u001b[0m \u001b[1m0s\u001b[0m 9ms/step\n",
      "R² Score: 0.9254\n"
     ]
    }
   ],
   "source": [
    "y_pred = model.predict(X_test)\n",
    "r2 = r2_score(y_test, y_pred)\n",
    "print(f\"R² Score: {r2:.4f}\")"
   ]
  },
  {
   "cell_type": "markdown",
   "id": "bf0a30eb",
   "metadata": {},
   "source": [
    "### R² score\n",
    "L'R² Score del modello è molto alto (quasi 1.0) il che vuol dire che è riuscito a generalizzare bene i dati in input\n",
    "\n",
    "> R² score è una metrica spesso usata per determinare quanto un modello di regressione sia performante.  \n",
    ">\n",
    "> Un R² score > 0,85 è gia un risultato buono per un modello, con risultato pari 1.0 a rappresentare un modello perfetto (100% giusto, 0 di errore, estremamente difficile per una rete neurale non andata in overfitting)"
   ]
  },
  {
   "cell_type": "code",
   "execution_count": 121,
   "id": "83bd97f6",
   "metadata": {},
   "outputs": [
    {
     "data": {
      "image/png": "[encoded data removed]",
      "text/plain": [
       "<Figure size 640x480 with 1 Axes>"
      ]
     },
     "metadata": {},
     "output_type": "display_data"
    }
   ],
   "source": [
    "import matplotlib.pyplot as plt\n",
    "\n",
    "errors = y_pred.flatten() - y_test\n",
    "plt.hist(errors, bins=30)\n",
    "plt.title(\"Distribuzione degli errori (Pred - Reale)\")\n",
    "plt.xlabel(\"Errore (kg)\")\n",
    "plt.ylabel(\"Frequenza\")\n",
    "plt.grid(True)\n",
    "plt.show()\n"
   ]
  },
  {
   "cell_type": "markdown",
   "id": "5d002031",
   "metadata": {},
   "source": [
    "Dal grafico possiamo vedere che la maggior parte della distribuzione dell'errore sta attorno a 0,25-0,30 dallo 0 (anche questo un risultato molto buono)"
   ]
  },
  {
   "cell_type": "code",
   "execution_count": 97,
   "id": "c63d3838",
   "metadata": {},
   "outputs": [
    {
     "data": {
      "text/html": [
       "<pre style=\"white-space:pre;overflow-x:auto;line-height:normal;font-family:Menlo,'DejaVu Sans Mono',consolas,'Courier New',monospace\"><span style=\"font-weight: bold\">Model: \"wrp-2\"</span>\n",
       "</pre>\n"
      ],
      "text/plain": [
       "\u001b[1mModel: \"wrp-2\"\u001b[0m\n"
      ]
     },
     "metadata": {},
     "output_type": "display_data"
    },
    {
     "data": {
      "text/html": [
       "<pre style=\"white-space:pre;overflow-x:auto;line-height:normal;font-family:Menlo,'DejaVu Sans Mono',consolas,'Courier New',monospace\">┏━━━━━━━━━━━━━━━━━━━━━━━━━━━━━━━━━┳━━━━━━━━━━━━━━━━━━━━━━━━┳━━━━━━━━━━━━━━━┓\n",
       "┃<span style=\"font-weight: bold\"> Layer (type)                    </span>┃<span style=\"font-weight: bold\"> Output Shape           </span>┃<span style=\"font-weight: bold\">       Param # </span>┃\n",
       "┡━━━━━━━━━━━━━━━━━━━━━━━━━━━━━━━━━╇━━━━━━━━━━━━━━━━━━━━━━━━╇━━━━━━━━━━━━━━━┩\n",
       "│ dense_24 (<span style=\"color: #0087ff; text-decoration-color: #0087ff\">Dense</span>)                │ (<span style=\"color: #00d7ff; text-decoration-color: #00d7ff\">None</span>, <span style=\"color: #00af00; text-decoration-color: #00af00\">1024</span>)           │        <span style=\"color: #00af00; text-decoration-color: #00af00\">25,600</span> │\n",
       "├─────────────────────────────────┼────────────────────────┼───────────────┤\n",
       "│ dropout_21 (<span style=\"color: #0087ff; text-decoration-color: #0087ff\">Dropout</span>)            │ (<span style=\"color: #00d7ff; text-decoration-color: #00d7ff\">None</span>, <span style=\"color: #00af00; text-decoration-color: #00af00\">1024</span>)           │             <span style=\"color: #00af00; text-decoration-color: #00af00\">0</span> │\n",
       "├─────────────────────────────────┼────────────────────────┼───────────────┤\n",
       "│ dense_25 (<span style=\"color: #0087ff; text-decoration-color: #0087ff\">Dense</span>)                │ (<span style=\"color: #00d7ff; text-decoration-color: #00d7ff\">None</span>, <span style=\"color: #00af00; text-decoration-color: #00af00\">1024</span>)           │     <span style=\"color: #00af00; text-decoration-color: #00af00\">1,049,600</span> │\n",
       "├─────────────────────────────────┼────────────────────────┼───────────────┤\n",
       "│ dropout_22 (<span style=\"color: #0087ff; text-decoration-color: #0087ff\">Dropout</span>)            │ (<span style=\"color: #00d7ff; text-decoration-color: #00d7ff\">None</span>, <span style=\"color: #00af00; text-decoration-color: #00af00\">1024</span>)           │             <span style=\"color: #00af00; text-decoration-color: #00af00\">0</span> │\n",
       "├─────────────────────────────────┼────────────────────────┼───────────────┤\n",
       "│ dense_26 (<span style=\"color: #0087ff; text-decoration-color: #0087ff\">Dense</span>)                │ (<span style=\"color: #00d7ff; text-decoration-color: #00d7ff\">None</span>, <span style=\"color: #00af00; text-decoration-color: #00af00\">512</span>)            │       <span style=\"color: #00af00; text-decoration-color: #00af00\">524,800</span> │\n",
       "├─────────────────────────────────┼────────────────────────┼───────────────┤\n",
       "│ dropout_23 (<span style=\"color: #0087ff; text-decoration-color: #0087ff\">Dropout</span>)            │ (<span style=\"color: #00d7ff; text-decoration-color: #00d7ff\">None</span>, <span style=\"color: #00af00; text-decoration-color: #00af00\">512</span>)            │             <span style=\"color: #00af00; text-decoration-color: #00af00\">0</span> │\n",
       "├─────────────────────────────────┼────────────────────────┼───────────────┤\n",
       "│ dense_27 (<span style=\"color: #0087ff; text-decoration-color: #0087ff\">Dense</span>)                │ (<span style=\"color: #00d7ff; text-decoration-color: #00d7ff\">None</span>, <span style=\"color: #00af00; text-decoration-color: #00af00\">256</span>)            │       <span style=\"color: #00af00; text-decoration-color: #00af00\">131,328</span> │\n",
       "├─────────────────────────────────┼────────────────────────┼───────────────┤\n",
       "│ dropout_24 (<span style=\"color: #0087ff; text-decoration-color: #0087ff\">Dropout</span>)            │ (<span style=\"color: #00d7ff; text-decoration-color: #00d7ff\">None</span>, <span style=\"color: #00af00; text-decoration-color: #00af00\">256</span>)            │             <span style=\"color: #00af00; text-decoration-color: #00af00\">0</span> │\n",
       "├─────────────────────────────────┼────────────────────────┼───────────────┤\n",
       "│ dense_28 (<span style=\"color: #0087ff; text-decoration-color: #0087ff\">Dense</span>)                │ (<span style=\"color: #00d7ff; text-decoration-color: #00d7ff\">None</span>, <span style=\"color: #00af00; text-decoration-color: #00af00\">128</span>)            │        <span style=\"color: #00af00; text-decoration-color: #00af00\">32,896</span> │\n",
       "├─────────────────────────────────┼────────────────────────┼───────────────┤\n",
       "│ dropout_25 (<span style=\"color: #0087ff; text-decoration-color: #0087ff\">Dropout</span>)            │ (<span style=\"color: #00d7ff; text-decoration-color: #00d7ff\">None</span>, <span style=\"color: #00af00; text-decoration-color: #00af00\">128</span>)            │             <span style=\"color: #00af00; text-decoration-color: #00af00\">0</span> │\n",
       "├─────────────────────────────────┼────────────────────────┼───────────────┤\n",
       "│ dense_29 (<span style=\"color: #0087ff; text-decoration-color: #0087ff\">Dense</span>)                │ (<span style=\"color: #00d7ff; text-decoration-color: #00d7ff\">None</span>, <span style=\"color: #00af00; text-decoration-color: #00af00\">68</span>)             │         <span style=\"color: #00af00; text-decoration-color: #00af00\">8,772</span> │\n",
       "├─────────────────────────────────┼────────────────────────┼───────────────┤\n",
       "│ dropout_26 (<span style=\"color: #0087ff; text-decoration-color: #0087ff\">Dropout</span>)            │ (<span style=\"color: #00d7ff; text-decoration-color: #00d7ff\">None</span>, <span style=\"color: #00af00; text-decoration-color: #00af00\">68</span>)             │             <span style=\"color: #00af00; text-decoration-color: #00af00\">0</span> │\n",
       "├─────────────────────────────────┼────────────────────────┼───────────────┤\n",
       "│ dense_30 (<span style=\"color: #0087ff; text-decoration-color: #0087ff\">Dense</span>)                │ (<span style=\"color: #00d7ff; text-decoration-color: #00d7ff\">None</span>, <span style=\"color: #00af00; text-decoration-color: #00af00\">16</span>)             │         <span style=\"color: #00af00; text-decoration-color: #00af00\">1,104</span> │\n",
       "├─────────────────────────────────┼────────────────────────┼───────────────┤\n",
       "│ dropout_27 (<span style=\"color: #0087ff; text-decoration-color: #0087ff\">Dropout</span>)            │ (<span style=\"color: #00d7ff; text-decoration-color: #00d7ff\">None</span>, <span style=\"color: #00af00; text-decoration-color: #00af00\">16</span>)             │             <span style=\"color: #00af00; text-decoration-color: #00af00\">0</span> │\n",
       "├─────────────────────────────────┼────────────────────────┼───────────────┤\n",
       "│ dense_31 (<span style=\"color: #0087ff; text-decoration-color: #0087ff\">Dense</span>)                │ (<span style=\"color: #00d7ff; text-decoration-color: #00d7ff\">None</span>, <span style=\"color: #00af00; text-decoration-color: #00af00\">1</span>)              │            <span style=\"color: #00af00; text-decoration-color: #00af00\">17</span> │\n",
       "└─────────────────────────────────┴────────────────────────┴───────────────┘\n",
       "</pre>\n"
      ],
      "text/plain": [
       "┏━━━━━━━━━━━━━━━━━━━━━━━━━━━━━━━━━┳━━━━━━━━━━━━━━━━━━━━━━━━┳━━━━━━━━━━━━━━━┓\n",
       "┃\u001b[1m \u001b[0m\u001b[1mLayer (type)                   \u001b[0m\u001b[1m \u001b[0m┃\u001b[1m \u001b[0m\u001b[1mOutput Shape          \u001b[0m\u001b[1m \u001b[0m┃\u001b[1m \u001b[0m\u001b[1m      Param #\u001b[0m\u001b[1m \u001b[0m┃\n",
       "┡━━━━━━━━━━━━━━━━━━━━━━━━━━━━━━━━━╇━━━━━━━━━━━━━━━━━━━━━━━━╇━━━━━━━━━━━━━━━┩\n",
       "│ dense_24 (\u001b[38;5;33mDense\u001b[0m)                │ (\u001b[38;5;45mNone\u001b[0m, \u001b[38;5;34m1024\u001b[0m)           │        \u001b[38;5;34m25,600\u001b[0m │\n",
       "├─────────────────────────────────┼────────────────────────┼───────────────┤\n",
       "│ dropout_21 (\u001b[38;5;33mDropout\u001b[0m)            │ (\u001b[38;5;45mNone\u001b[0m, \u001b[38;5;34m1024\u001b[0m)           │             \u001b[38;5;34m0\u001b[0m │\n",
       "├─────────────────────────────────┼────────────────────────┼───────────────┤\n",
       "│ dense_25 (\u001b[38;5;33mDense\u001b[0m)                │ (\u001b[38;5;45mNone\u001b[0m, \u001b[38;5;34m1024\u001b[0m)           │     \u001b[38;5;34m1,049,600\u001b[0m │\n",
       "├─────────────────────────────────┼────────────────────────┼───────────────┤\n",
       "│ dropout_22 (\u001b[38;5;33mDropout\u001b[0m)            │ (\u001b[38;5;45mNone\u001b[0m, \u001b[38;5;34m1024\u001b[0m)           │             \u001b[38;5;34m0\u001b[0m │\n",
       "├─────────────────────────────────┼────────────────────────┼───────────────┤\n",
       "│ dense_26 (\u001b[38;5;33mDense\u001b[0m)                │ (\u001b[38;5;45mNone\u001b[0m, \u001b[38;5;34m512\u001b[0m)            │       \u001b[38;5;34m524,800\u001b[0m │\n",
       "├─────────────────────────────────┼────────────────────────┼───────────────┤\n",
       "│ dropout_23 (\u001b[38;5;33mDropout\u001b[0m)            │ (\u001b[38;5;45mNone\u001b[0m, \u001b[38;5;34m512\u001b[0m)            │             \u001b[38;5;34m0\u001b[0m │\n",
       "├─────────────────────────────────┼────────────────────────┼───────────────┤\n",
       "│ dense_27 (\u001b[38;5;33mDense\u001b[0m)                │ (\u001b[38;5;45mNone\u001b[0m, \u001b[38;5;34m256\u001b[0m)            │       \u001b[38;5;34m131,328\u001b[0m │\n",
       "├─────────────────────────────────┼────────────────────────┼───────────────┤\n",
       "│ dropout_24 (\u001b[38;5;33mDropout\u001b[0m)            │ (\u001b[38;5;45mNone\u001b[0m, \u001b[38;5;34m256\u001b[0m)            │             \u001b[38;5;34m0\u001b[0m │\n",
       "├─────────────────────────────────┼────────────────────────┼───────────────┤\n",
       "│ dense_28 (\u001b[38;5;33mDense\u001b[0m)                │ (\u001b[38;5;45mNone\u001b[0m, \u001b[38;5;34m128\u001b[0m)            │        \u001b[38;5;34m32,896\u001b[0m │\n",
       "├─────────────────────────────────┼────────────────────────┼───────────────┤\n",
       "│ dropout_25 (\u001b[38;5;33mDropout\u001b[0m)            │ (\u001b[38;5;45mNone\u001b[0m, \u001b[38;5;34m128\u001b[0m)            │             \u001b[38;5;34m0\u001b[0m │\n",
       "├─────────────────────────────────┼────────────────────────┼───────────────┤\n",
       "│ dense_29 (\u001b[38;5;33mDense\u001b[0m)                │ (\u001b[38;5;45mNone\u001b[0m, \u001b[38;5;34m68\u001b[0m)             │         \u001b[38;5;34m8,772\u001b[0m │\n",
       "├─────────────────────────────────┼────────────────────────┼───────────────┤\n",
       "│ dropout_26 (\u001b[38;5;33mDropout\u001b[0m)            │ (\u001b[38;5;45mNone\u001b[0m, \u001b[38;5;34m68\u001b[0m)             │             \u001b[38;5;34m0\u001b[0m │\n",
       "├─────────────────────────────────┼────────────────────────┼───────────────┤\n",
       "│ dense_30 (\u001b[38;5;33mDense\u001b[0m)                │ (\u001b[38;5;45mNone\u001b[0m, \u001b[38;5;34m16\u001b[0m)             │         \u001b[38;5;34m1,104\u001b[0m │\n",
       "├─────────────────────────────────┼────────────────────────┼───────────────┤\n",
       "│ dropout_27 (\u001b[38;5;33mDropout\u001b[0m)            │ (\u001b[38;5;45mNone\u001b[0m, \u001b[38;5;34m16\u001b[0m)             │             \u001b[38;5;34m0\u001b[0m │\n",
       "├─────────────────────────────────┼────────────────────────┼───────────────┤\n",
       "│ dense_31 (\u001b[38;5;33mDense\u001b[0m)                │ (\u001b[38;5;45mNone\u001b[0m, \u001b[38;5;34m1\u001b[0m)              │            \u001b[38;5;34m17\u001b[0m │\n",
       "└─────────────────────────────────┴────────────────────────┴───────────────┘\n"
      ]
     },
     "metadata": {},
     "output_type": "display_data"
    },
    {
     "data": {
      "text/html": [
       "<pre style=\"white-space:pre;overflow-x:auto;line-height:normal;font-family:Menlo,'DejaVu Sans Mono',consolas,'Courier New',monospace\"><span style=\"font-weight: bold\"> Total params: </span><span style=\"color: #00af00; text-decoration-color: #00af00\">5,322,353</span> (20.30 MB)\n",
       "</pre>\n"
      ],
      "text/plain": [
       "\u001b[1m Total params: \u001b[0m\u001b[38;5;34m5,322,353\u001b[0m (20.30 MB)\n"
      ]
     },
     "metadata": {},
     "output_type": "display_data"
    },
    {
     "data": {
      "text/html": [
       "<pre style=\"white-space:pre;overflow-x:auto;line-height:normal;font-family:Menlo,'DejaVu Sans Mono',consolas,'Courier New',monospace\"><span style=\"font-weight: bold\"> Trainable params: </span><span style=\"color: #00af00; text-decoration-color: #00af00\">1,774,117</span> (6.77 MB)\n",
       "</pre>\n"
      ],
      "text/plain": [
       "\u001b[1m Trainable params: \u001b[0m\u001b[38;5;34m1,774,117\u001b[0m (6.77 MB)\n"
      ]
     },
     "metadata": {},
     "output_type": "display_data"
    },
    {
     "data": {
      "text/html": [
       "<pre style=\"white-space:pre;overflow-x:auto;line-height:normal;font-family:Menlo,'DejaVu Sans Mono',consolas,'Courier New',monospace\"><span style=\"font-weight: bold\"> Non-trainable params: </span><span style=\"color: #00af00; text-decoration-color: #00af00\">0</span> (0.00 B)\n",
       "</pre>\n"
      ],
      "text/plain": [
       "\u001b[1m Non-trainable params: \u001b[0m\u001b[38;5;34m0\u001b[0m (0.00 B)\n"
      ]
     },
     "metadata": {},
     "output_type": "display_data"
    },
    {
     "data": {
      "text/html": [
       "<pre style=\"white-space:pre;overflow-x:auto;line-height:normal;font-family:Menlo,'DejaVu Sans Mono',consolas,'Courier New',monospace\"><span style=\"font-weight: bold\"> Optimizer params: </span><span style=\"color: #00af00; text-decoration-color: #00af00\">3,548,236</span> (13.54 MB)\n",
       "</pre>\n"
      ],
      "text/plain": [
       "\u001b[1m Optimizer params: \u001b[0m\u001b[38;5;34m3,548,236\u001b[0m (13.54 MB)\n"
      ]
     },
     "metadata": {},
     "output_type": "display_data"
    }
   ],
   "source": [
    "# Architettura del modello\n",
    "model.summary()"
   ]
  },
  {
   "cell_type": "code",
   "execution_count": 128,
   "id": "28351bd3",
   "metadata": {},
   "outputs": [],
   "source": [
    "\n",
    "def save_model(model: Sequential, preprocessor: ColumnTransformer, data_encoder: DataEncoder):\n",
    "    model_name: str = str(model.name)\n",
    "    dir_path = Path(\"..\") / \"models\" / model_name\n",
    "    model_path = dir_path / (model_name + \".keras\")\n",
    "    preprocessor_path = dir_path / \"preprocessor.pkl\"\n",
    "    encoder_path = dir_path / (model_name + \"-encoder.pkl\")\n",
    "\n",
    "    os.makedirs(model_path.parent, exist_ok=True)\n",
    "\n",
    "    model.save(model_path)\n",
    "    joblib.dump(preprocessor, preprocessor_path)\n",
    "    joblib.dump(data_encoder,encoder_path)\n",
    "\n",
    "save_model(model, preprocessor, data_encoder)"
   ]
  },
  {
   "cell_type": "code",
   "execution_count": 130,
   "id": "65436bfa",
   "metadata": {},
   "outputs": [
    {
     "ename": "ValueError",
     "evalue": "Exception encountered when calling Sequential.call().\n\n\u001b[1mInput 0 of layer \"dense_24\" is incompatible with the layer: expected axis -1 of input shape to have value 24, but received input with shape (32, 22)\u001b[0m\n\nArguments received by Sequential.call():\n  • inputs=tf.Tensor(shape=(32, 22), dtype=float32)\n  • training=False\n  • mask=None\n  • kwargs=<class 'inspect._empty'>",
     "output_type": "error",
     "traceback": [
      "\u001b[31m---------------------------------------------------------------------------\u001b[39m",
      "\u001b[31mValueError\u001b[39m                                Traceback (most recent call last)",
      "\u001b[36mCell\u001b[39m\u001b[36m \u001b[39m\u001b[32mIn[130]\u001b[39m\u001b[32m, line 12\u001b[39m\n\u001b[32m      9\u001b[39m X_processed, ids = encoder(test_df)\n\u001b[32m     11\u001b[39m \u001b[38;5;66;03m# determina il peso del gatto\u001b[39;00m\n\u001b[32m---> \u001b[39m\u001b[32m12\u001b[39m predictions = \u001b[43mmodel\u001b[49m\u001b[43m.\u001b[49m\u001b[43mpredict\u001b[49m\u001b[43m(\u001b[49m\u001b[43mX_processed\u001b[49m\u001b[43m)\u001b[49m\n\u001b[32m     14\u001b[39m \u001b[38;5;66;03m# Salva risultati\u001b[39;00m\n\u001b[32m     15\u001b[39m os.makedirs(\u001b[33m\"\u001b[39m\u001b[33mout\u001b[39m\u001b[33m\"\u001b[39m, exist_ok=\u001b[38;5;28;01mTrue\u001b[39;00m)\n",
      "\u001b[36mFile \u001b[39m\u001b[32m~/ai_research/wrp/.venv/lib/python3.13/site-packages/keras/src/utils/traceback_utils.py:122\u001b[39m, in \u001b[36mfilter_traceback.<locals>.error_handler\u001b[39m\u001b[34m(*args, **kwargs)\u001b[39m\n\u001b[32m    119\u001b[39m     filtered_tb = _process_traceback_frames(e.__traceback__)\n\u001b[32m    120\u001b[39m     \u001b[38;5;66;03m# To get the full stack trace, call:\u001b[39;00m\n\u001b[32m    121\u001b[39m     \u001b[38;5;66;03m# `keras.config.disable_traceback_filtering()`\u001b[39;00m\n\u001b[32m--> \u001b[39m\u001b[32m122\u001b[39m     \u001b[38;5;28;01mraise\u001b[39;00m e.with_traceback(filtered_tb) \u001b[38;5;28;01mfrom\u001b[39;00m\u001b[38;5;250m \u001b[39m\u001b[38;5;28;01mNone\u001b[39;00m\n\u001b[32m    123\u001b[39m \u001b[38;5;28;01mfinally\u001b[39;00m:\n\u001b[32m    124\u001b[39m     \u001b[38;5;28;01mdel\u001b[39;00m filtered_tb\n",
      "\u001b[36mFile \u001b[39m\u001b[32m~/ai_research/wrp/.venv/lib/python3.13/site-packages/keras/src/layers/input_spec.py:227\u001b[39m, in \u001b[36massert_input_compatibility\u001b[39m\u001b[34m(input_spec, inputs, layer_name)\u001b[39m\n\u001b[32m    222\u001b[39m     \u001b[38;5;28;01mfor\u001b[39;00m axis, value \u001b[38;5;129;01min\u001b[39;00m spec.axes.items():\n\u001b[32m    223\u001b[39m         \u001b[38;5;28;01mif\u001b[39;00m value \u001b[38;5;129;01mis\u001b[39;00m \u001b[38;5;129;01mnot\u001b[39;00m \u001b[38;5;28;01mNone\u001b[39;00m \u001b[38;5;129;01mand\u001b[39;00m shape[axis] \u001b[38;5;129;01mnot\u001b[39;00m \u001b[38;5;129;01min\u001b[39;00m {\n\u001b[32m    224\u001b[39m             value,\n\u001b[32m    225\u001b[39m             \u001b[38;5;28;01mNone\u001b[39;00m,\n\u001b[32m    226\u001b[39m         }:\n\u001b[32m--> \u001b[39m\u001b[32m227\u001b[39m             \u001b[38;5;28;01mraise\u001b[39;00m \u001b[38;5;167;01mValueError\u001b[39;00m(\n\u001b[32m    228\u001b[39m                 \u001b[33mf\u001b[39m\u001b[33m'\u001b[39m\u001b[33mInput \u001b[39m\u001b[38;5;132;01m{\u001b[39;00minput_index\u001b[38;5;132;01m}\u001b[39;00m\u001b[33m of layer \u001b[39m\u001b[33m\"\u001b[39m\u001b[38;5;132;01m{\u001b[39;00mlayer_name\u001b[38;5;132;01m}\u001b[39;00m\u001b[33m\"\u001b[39m\u001b[33m is \u001b[39m\u001b[33m'\u001b[39m\n\u001b[32m    229\u001b[39m                 \u001b[33mf\u001b[39m\u001b[33m\"\u001b[39m\u001b[33mincompatible with the layer: expected axis \u001b[39m\u001b[38;5;132;01m{\u001b[39;00maxis\u001b[38;5;132;01m}\u001b[39;00m\u001b[33m \u001b[39m\u001b[33m\"\u001b[39m\n\u001b[32m    230\u001b[39m                 \u001b[33mf\u001b[39m\u001b[33m\"\u001b[39m\u001b[33mof input shape to have value \u001b[39m\u001b[38;5;132;01m{\u001b[39;00mvalue\u001b[38;5;132;01m}\u001b[39;00m\u001b[33m, \u001b[39m\u001b[33m\"\u001b[39m\n\u001b[32m    231\u001b[39m                 \u001b[33m\"\u001b[39m\u001b[33mbut received input with \u001b[39m\u001b[33m\"\u001b[39m\n\u001b[32m    232\u001b[39m                 \u001b[33mf\u001b[39m\u001b[33m\"\u001b[39m\u001b[33mshape \u001b[39m\u001b[38;5;132;01m{\u001b[39;00mshape\u001b[38;5;132;01m}\u001b[39;00m\u001b[33m\"\u001b[39m\n\u001b[32m    233\u001b[39m             )\n\u001b[32m    234\u001b[39m \u001b[38;5;66;03m# Check shape.\u001b[39;00m\n\u001b[32m    235\u001b[39m \u001b[38;5;28;01mif\u001b[39;00m spec.shape \u001b[38;5;129;01mis\u001b[39;00m \u001b[38;5;129;01mnot\u001b[39;00m \u001b[38;5;28;01mNone\u001b[39;00m:\n",
      "\u001b[31mValueError\u001b[39m: Exception encountered when calling Sequential.call().\n\n\u001b[1mInput 0 of layer \"dense_24\" is incompatible with the layer: expected axis -1 of input shape to have value 24, but received input with shape (32, 22)\u001b[0m\n\nArguments received by Sequential.call():\n  • inputs=tf.Tensor(shape=(32, 22), dtype=float32)\n  • training=False\n  • mask=None\n  • kwargs=<class 'inspect._empty'>"
     ]
    }
   ],
   "source": [
    "model: Sequential = load_model(\"../models/wrp-2/wrp-2.keras\")\n",
    "encoder: DataEncoder = joblib.load(\"../models/wrp-2/wrp-2-encoder.pkl\")\n",
    "\n",
    "# Carica test set\n",
    "test_df = pd.read_csv(\"../data/test_set.csv\")\n",
    "\n",
    "\n",
    "# processa i dati\n",
    "X_processed, ids = encoder(test_df)\n",
    "\n",
    "# determina il peso del gatto\n",
    "predictions = model.predict(X_processed)\n",
    "\n",
    "# Salva risultati\n",
    "os.makedirs(\"out\", exist_ok=True)\n",
    "with open(\"../out/risultati-wrp-2.csv\", \"w\") as out:\n",
    "    out.write(\"id_gatto,peso_previsto_kg\\n\")\n",
    "    for id_gatto, peso in zip(ids, predictions):\n",
    "        out.write(f\"{id_gatto},{peso[0]:.2f}\\n\")\n",
    "\n",
    "print(\"✅ Predizioni completate!\")\n"
   ]
  }
 ],
 "metadata": {
  "kernelspec": {
   "display_name": "project15",
   "language": "python",
   "name": "python3"
  },
  "language_info": {
   "codemirror_mode": {
    "name": "ipython",
    "version": 3
   },
   "file_extension": ".py",
   "mimetype": "text/x-python",
   "name": "python",
   "nbconvert_exporter": "python",
   "pygments_lexer": "ipython3",
   "version": "3.13.5"
  }
 },
 "nbformat": 4,
 "nbformat_minor": 5
}
