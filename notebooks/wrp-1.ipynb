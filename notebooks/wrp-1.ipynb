{
 "cells": [
  {
   "cell_type": "markdown",
   "id": "693ebae8",
   "metadata": {},
   "source": [
    "# WRP - Weight from Regression based Prediction\n",
    "WRP (pronunciato \"WARP\") è un modello in grado di predirre il peso di un gatto basandosi su diversi dati come il tipo di alimentazione, dimensioni, sesso, razza e molto altro.\n",
    "\n",
    "WRP-1 in particolare è una rete neurale molto leggera ed in grado di funzionare senza problemi su sistemi embedded (per es. un Raspberry PI) o su computer con caratteristiiche harware molto limitate.\n",
    "\n",
    "> [!Come lo sappiamo?]  \n",
    "> Lo abbiamo **allenato** in una macchina virtuale con solo 3GB di ram disponibili,\n",
    "> e wrp-1 durante la vase di valutazione ci ha restituito diversi risultati in pochi millisecondi\n",
    "\n",
    " \n"
   ]
  },
  {
   "cell_type": "code",
   "execution_count": 18,
   "id": "10bed91b",
   "metadata": {},
   "outputs": [],
   "source": [
    "import os\n",
    "from pathlib import Path\n",
    "import pandas as pd\n",
    "import joblib\n",
    "import numpy as np\n",
    "from sklearn.model_selection import train_test_split\n",
    "from sklearn.preprocessing import OneHotEncoder, StandardScaler\n",
    "from sklearn.compose import ColumnTransformer\n",
    "import keras\n",
    "from keras.models import Sequential\n",
    "from keras.layers import Dense, Dropout, Input\n",
    "from keras.optimizers import Adam\n",
    "from keras.callbacks import EarlyStopping, ReduceLROnPlateau"
   ]
  },
  {
   "cell_type": "code",
   "execution_count": null,
   "id": "ad833284",
   "metadata": {},
   "outputs": [],
   "source": [
    "\n",
    "# wrp-1 non accetterà l'input se i dati non sono completi,\n",
    "# quindi carichiamo tutto il dataset e ignoriamo le righe con dati incompleti\n",
    "df = pd.read_csv(\"../data/training_set.csv\").dropna()"
   ]
  },
  {
   "cell_type": "code",
   "execution_count": 3,
   "id": "f5572628",
   "metadata": {},
   "outputs": [
    {
     "data": {
      "application/vnd.microsoft.datawrangler.viewer.v0+json": {
       "columns": [
        {
         "name": "index",
         "rawType": "int64",
         "type": "integer"
        },
        {
         "name": "id_gatto",
         "rawType": "int64",
         "type": "integer"
        },
        {
         "name": "eta_mesi",
         "rawType": "float64",
         "type": "float"
        },
        {
         "name": "razza",
         "rawType": "object",
         "type": "string"
        },
        {
         "name": "sesso",
         "rawType": "object",
         "type": "string"
        },
        {
         "name": "peso_nascita_kg",
         "rawType": "float64",
         "type": "float"
        },
        {
         "name": "lunghezza_cm",
         "rawType": "float64",
         "type": "float"
        },
        {
         "name": "altezza_spalla_cm",
         "rawType": "float64",
         "type": "float"
        },
        {
         "name": "attivita_giornaliera",
         "rawType": "float64",
         "type": "float"
        },
        {
         "name": "quantita_cibo_giorno_g",
         "rawType": "float64",
         "type": "float"
        },
        {
         "name": "tipo_cibo",
         "rawType": "object",
         "type": "string"
        },
        {
         "name": "pelo_lungo",
         "rawType": "object",
         "type": "string"
        },
        {
         "name": "sterilizzato",
         "rawType": "object",
         "type": "string"
        },
        {
         "name": "temperatura_media_zona",
         "rawType": "float64",
         "type": "float"
        },
        {
         "name": "vive_interno",
         "rawType": "int64",
         "type": "integer"
        },
        {
         "name": "peso_adulto_kg",
         "rawType": "float64",
         "type": "float"
        }
       ],
       "ref": "d36e6d75-4bee-41bd-9efe-2c5afd1b74fd",
       "rows": [
        [
         "0",
         "1",
         "108.0",
         "Siamese",
         "Maschio",
         "0.15",
         "52.9",
         "26.1",
         "3.8",
         "126.3",
         "Umido",
         "0",
         "0",
         "27.4",
         "1",
         "7.47"
        ],
        [
         "1",
         "2",
         "57.0",
         "Europeo",
         "Maschio",
         "0.09",
         "48.7",
         "24.1",
         "2.0",
         "90.2",
         "Secco",
         "0",
         "1",
         "19.8",
         "1",
         "6.32"
        ],
        [
         "2",
         "3",
         "98.0",
         "Persiano",
         "Femmina",
         "0.1",
         "55.8",
         "25.9",
         "5.8",
         "93.4",
         "Misto",
         "1",
         "1",
         "8.8",
         "0",
         "7.15"
        ],
        [
         "3",
         "4",
         "20.0",
         "Europeo",
         "Femmina",
         "0.13",
         "43.0",
         "27.6",
         "6.4",
         "83.1",
         "Umido",
         "0",
         "1",
         "20.3",
         "0",
         "4.47"
        ],
        [
         "4",
         "5",
         "112.0",
         "Persiano",
         "Femmina",
         "0.13",
         "50.3",
         "38.4",
         "5.5",
         "108.7",
         "Misto",
         "1",
         "1",
         "16.9",
         "0",
         "7.14"
        ]
       ],
       "shape": {
        "columns": 15,
        "rows": 5
       }
      },
      "text/html": [
       "<div>\n",
       "<style scoped>\n",
       "    .dataframe tbody tr th:only-of-type {\n",
       "        vertical-align: middle;\n",
       "    }\n",
       "\n",
       "    .dataframe tbody tr th {\n",
       "        vertical-align: top;\n",
       "    }\n",
       "\n",
       "    .dataframe thead th {\n",
       "        text-align: right;\n",
       "    }\n",
       "</style>\n",
       "<table border=\"1\" class=\"dataframe\">\n",
       "  <thead>\n",
       "    <tr style=\"text-align: right;\">\n",
       "      <th></th>\n",
       "      <th>id_gatto</th>\n",
       "      <th>eta_mesi</th>\n",
       "      <th>razza</th>\n",
       "      <th>sesso</th>\n",
       "      <th>peso_nascita_kg</th>\n",
       "      <th>lunghezza_cm</th>\n",
       "      <th>altezza_spalla_cm</th>\n",
       "      <th>attivita_giornaliera</th>\n",
       "      <th>quantita_cibo_giorno_g</th>\n",
       "      <th>tipo_cibo</th>\n",
       "      <th>pelo_lungo</th>\n",
       "      <th>sterilizzato</th>\n",
       "      <th>temperatura_media_zona</th>\n",
       "      <th>vive_interno</th>\n",
       "      <th>peso_adulto_kg</th>\n",
       "    </tr>\n",
       "  </thead>\n",
       "  <tbody>\n",
       "    <tr>\n",
       "      <th>0</th>\n",
       "      <td>1</td>\n",
       "      <td>108.0</td>\n",
       "      <td>Siamese</td>\n",
       "      <td>Maschio</td>\n",
       "      <td>0.15</td>\n",
       "      <td>52.9</td>\n",
       "      <td>26.1</td>\n",
       "      <td>3.8</td>\n",
       "      <td>126.3</td>\n",
       "      <td>Umido</td>\n",
       "      <td>0</td>\n",
       "      <td>0</td>\n",
       "      <td>27.4</td>\n",
       "      <td>1</td>\n",
       "      <td>7.47</td>\n",
       "    </tr>\n",
       "    <tr>\n",
       "      <th>1</th>\n",
       "      <td>2</td>\n",
       "      <td>57.0</td>\n",
       "      <td>Europeo</td>\n",
       "      <td>Maschio</td>\n",
       "      <td>0.09</td>\n",
       "      <td>48.7</td>\n",
       "      <td>24.1</td>\n",
       "      <td>2.0</td>\n",
       "      <td>90.2</td>\n",
       "      <td>Secco</td>\n",
       "      <td>0</td>\n",
       "      <td>1</td>\n",
       "      <td>19.8</td>\n",
       "      <td>1</td>\n",
       "      <td>6.32</td>\n",
       "    </tr>\n",
       "    <tr>\n",
       "      <th>2</th>\n",
       "      <td>3</td>\n",
       "      <td>98.0</td>\n",
       "      <td>Persiano</td>\n",
       "      <td>Femmina</td>\n",
       "      <td>0.10</td>\n",
       "      <td>55.8</td>\n",
       "      <td>25.9</td>\n",
       "      <td>5.8</td>\n",
       "      <td>93.4</td>\n",
       "      <td>Misto</td>\n",
       "      <td>1</td>\n",
       "      <td>1</td>\n",
       "      <td>8.8</td>\n",
       "      <td>0</td>\n",
       "      <td>7.15</td>\n",
       "    </tr>\n",
       "    <tr>\n",
       "      <th>3</th>\n",
       "      <td>4</td>\n",
       "      <td>20.0</td>\n",
       "      <td>Europeo</td>\n",
       "      <td>Femmina</td>\n",
       "      <td>0.13</td>\n",
       "      <td>43.0</td>\n",
       "      <td>27.6</td>\n",
       "      <td>6.4</td>\n",
       "      <td>83.1</td>\n",
       "      <td>Umido</td>\n",
       "      <td>0</td>\n",
       "      <td>1</td>\n",
       "      <td>20.3</td>\n",
       "      <td>0</td>\n",
       "      <td>4.47</td>\n",
       "    </tr>\n",
       "    <tr>\n",
       "      <th>4</th>\n",
       "      <td>5</td>\n",
       "      <td>112.0</td>\n",
       "      <td>Persiano</td>\n",
       "      <td>Femmina</td>\n",
       "      <td>0.13</td>\n",
       "      <td>50.3</td>\n",
       "      <td>38.4</td>\n",
       "      <td>5.5</td>\n",
       "      <td>108.7</td>\n",
       "      <td>Misto</td>\n",
       "      <td>1</td>\n",
       "      <td>1</td>\n",
       "      <td>16.9</td>\n",
       "      <td>0</td>\n",
       "      <td>7.14</td>\n",
       "    </tr>\n",
       "  </tbody>\n",
       "</table>\n",
       "</div>"
      ],
      "text/plain": [
       "   id_gatto  eta_mesi     razza    sesso  peso_nascita_kg  lunghezza_cm  \\\n",
       "0         1     108.0   Siamese  Maschio             0.15          52.9   \n",
       "1         2      57.0   Europeo  Maschio             0.09          48.7   \n",
       "2         3      98.0  Persiano  Femmina             0.10          55.8   \n",
       "3         4      20.0   Europeo  Femmina             0.13          43.0   \n",
       "4         5     112.0  Persiano  Femmina             0.13          50.3   \n",
       "\n",
       "   altezza_spalla_cm  attivita_giornaliera  quantita_cibo_giorno_g tipo_cibo  \\\n",
       "0               26.1                   3.8                   126.3     Umido   \n",
       "1               24.1                   2.0                    90.2     Secco   \n",
       "2               25.9                   5.8                    93.4     Misto   \n",
       "3               27.6                   6.4                    83.1     Umido   \n",
       "4               38.4                   5.5                   108.7     Misto   \n",
       "\n",
       "  pelo_lungo sterilizzato  temperatura_media_zona  vive_interno  \\\n",
       "0          0            0                    27.4             1   \n",
       "1          0            1                    19.8             1   \n",
       "2          1            1                     8.8             0   \n",
       "3          0            1                    20.3             0   \n",
       "4          1            1                    16.9             0   \n",
       "\n",
       "   peso_adulto_kg  \n",
       "0            7.47  \n",
       "1            6.32  \n",
       "2            7.15  \n",
       "3            4.47  \n",
       "4            7.14  "
      ]
     },
     "execution_count": 3,
     "metadata": {},
     "output_type": "execute_result"
    }
   ],
   "source": [
    "df.head()"
   ]
  },
  {
   "cell_type": "code",
   "execution_count": 4,
   "id": "c332aec5",
   "metadata": {},
   "outputs": [],
   "source": [
    "def preprocess_training_data(df: pd.DataFrame):\n",
    "    df_clean = df.copy()\n",
    "    \n",
    "    # Rimuovi colonne non necessarie\n",
    "    if 'id_gatto' in df_clean.columns:\n",
    "        df_clean = df_clean.drop(columns=['id_gatto'])\n",
    "    \n",
    "    # Gestisci valori mancanti numerici con la mediana\n",
    "    numeric_cols = ['eta_mesi', 'peso_nascita_kg', 'lunghezza_cm', 'altezza_spalla_cm', \n",
    "                   'attivita_giornaliera', 'quantita_cibo_giorno_g', 'temperatura_media_zona']\n",
    "    for col in numeric_cols:\n",
    "        if col in df_clean.columns:\n",
    "            median_val = df_clean[col].median()\n",
    "            df_clean[col] = df_clean[col].fillna(median_val)\n",
    "            \n",
    "    # Gestisci le altre colonne (categoriche, binarie) come preferisci,\n",
    "    # ad esempio riempiendo con una moda o un valore specifico come 'Unknown' o 0\n",
    "    \n",
    "    # Separa le feature (X) dal target (y)\n",
    "    X = df_clean.drop(columns=['peso_adulto_kg'])\n",
    "    y = df_clean['peso_adulto_kg']\n",
    "    \n",
    "    return X, y\n",
    "\n",
    "# Applica la pulizia\n",
    "X, y = preprocess_training_data(df)\n",
    "del df # non verrà piu usato, quindi possiamo liberare memoria"
   ]
  },
  {
   "cell_type": "code",
   "execution_count": 5,
   "id": "f500dfcb",
   "metadata": {},
   "outputs": [],
   "source": [
    "\n",
    "# Nelle colonne dove i dati sono binari,\n",
    "# potrebbero essere presenti dei \"Si\" e \"No\"\n",
    "# o il datatype sbagliato, questa funzione si occupa\n",
    "# di assicurare che il valore in queste colonne sia sempre e solo 0/1\n",
    "def ensure_binary(col: pd.Series) -> pd.Series:\n",
    "    binary_map = {\n",
    "        1: 1,\n",
    "        0: 0,\n",
    "        '1': 1,\n",
    "        '0': 0,\n",
    "        'Si': 1,\n",
    "        'No': 0\n",
    "    }\n",
    "    return col.map(binary_map)"
   ]
  },
  {
   "cell_type": "code",
   "execution_count": 6,
   "id": "41c97841",
   "metadata": {},
   "outputs": [],
   "source": [
    "# Definizione colonne\n",
    "categorical_columns = ['razza', 'sesso', 'tipo_cibo'] # puramente stringe di testo\n",
    "binary_columns = ['pelo_lungo', 'sterilizzato', 'vive_interno']  # valori 0/1\n",
    "numerical_columns = X.columns.drop(categorical_columns + binary_columns).tolist() # valori numerici\n",
    "\n",
    "# Assicurati che binary_columns abbia solo 0 e 1\n",
    "for col in binary_columns:\n",
    "    X[col] = ensure_binary(X[col])\n",
    "\n"
   ]
  },
  {
   "cell_type": "markdown",
   "id": "d00415e5",
   "metadata": {},
   "source": [
    "### Preprocessing\n",
    "I dati da dare in pasto alla rete neurale **DEVONO** essere tutti numerici.  \n",
    "Questo perchè una rete neurale, sotto sotto è una funzione matematica molto complicata, \n",
    "possiamo pensarla come se fosse `y = f(x)` dove `x` è il nostro input e `y` è il valore che volgiamo prevedere.\n",
    "Siccome calcolando il valore della funzione non possiamo determinare `y` se non sappiamo `x`, dobbiamo trovare il modo di rendere le nostre parole delle coordinate (trasformarle in numeri) per poi metterle nella funzione al posto di `x` e calcolare il valore di `y`.\n",
    "\n",
    "Per trasformare questi dati possiamo usare diverse tecniche per i diversi tipi di dati che ci troviamo:\n",
    "\n",
    "tipo di dato | funzione di trasformazione | come funziona\n",
    "--- | --- | ---\n",
    "numerici | StandardScaler() | Normalizza tutti i dati in un formato standard facile da processare per il modello\n",
    "binari | 'passthrough' | I dati binari sono gia stati processati quando li caricavamo, quindi `passthrough` fa si che rimangano intatti\n",
    "parole (categorical data) | OneHotEncoder() | Questo espande i nostri dati in ingresso aggiungendo 1 colonna per ogni valore possibile (es per ogni razza), e mette true e false (1 e 0) nelle colonne corrispettive (quindi se un gatto è Siamese, avrà 1 sulla colonna `Siamese` e 0 su tutte le altre colonne che rappresentano la razza del gatto) \n"
   ]
  },
  {
   "cell_type": "code",
   "execution_count": 7,
   "id": "35762da3",
   "metadata": {},
   "outputs": [],
   "source": [
    "preprocessor = ColumnTransformer(\n",
    "    transformers=[\n",
    "        ('num', StandardScaler(), numerical_columns),\n",
    "        ('bin', 'passthrough', binary_columns),\n",
    "        ('cat', OneHotEncoder(handle_unknown='ignore'), categorical_columns)\n",
    "    ])\n",
    "\n",
    "X_processed = preprocessor.fit_transform(X)\n",
    "y = y.values"
   ]
  },
  {
   "cell_type": "code",
   "execution_count": 8,
   "id": "1811017e",
   "metadata": {},
   "outputs": [
    {
     "data": {
      "text/plain": [
       "(4869, 22)"
      ]
     },
     "execution_count": 8,
     "metadata": {},
     "output_type": "execute_result"
    }
   ],
   "source": [
    "X_processed.shape # 4869 gatti, con 22 colonne (dati processati) per ogni gatto"
   ]
  },
  {
   "cell_type": "code",
   "execution_count": 9,
   "id": "8fc85e53",
   "metadata": {},
   "outputs": [],
   "source": [
    "X_train, X_test, y_train, y_test = train_test_split(X_processed, y, test_size=0.2)"
   ]
  },
  {
   "cell_type": "code",
   "execution_count": 10,
   "id": "e2780dbf",
   "metadata": {},
   "outputs": [
    {
     "name": "stderr",
     "output_type": "stream",
     "text": [
      "2025-07-30 12:25:17.795996: E external/local_xla/xla/stream_executor/cuda/cuda_platform.cc:51] failed call to cuInit: INTERNAL: CUDA error: Failed call to cuInit: UNKNOWN ERROR (303)\n"
     ]
    }
   ],
   "source": [
    "# Costruzione della rete neurale\n",
    "model = Sequential([\n",
    "    Input(shape=(X_processed.shape[1],)),\n",
    "    Dense(256, activation='relu'),\n",
    "    Dropout(0.4),\n",
    "    Dense(128, activation='relu'),\n",
    "    Dropout(0.3),\n",
    "    Dense(64, activation='relu'),\n",
    "    Dropout(0.2),\n",
    "    Dense(32, activation='relu'),\n",
    "    Dropout(0.1),\n",
    "    Dense(16, activation='relu'),\n",
    "    Dense(1)  # peso del gatto)\n",
    "], name=\"wrp-1\")\n",
    "\n",
    "model.compile(\n",
    "    optimizer=Adam(learning_rate=1e-3),\n",
    "    loss = 'mse',\n",
    "    metrics = ['mae']\n",
    ")"
   ]
  },
  {
   "cell_type": "code",
   "execution_count": 11,
   "id": "65fd1d89",
   "metadata": {},
   "outputs": [
    {
     "name": "stdout",
     "output_type": "stream",
     "text": [
      "Epoch 1/200\n",
      "\u001b[1m244/244\u001b[0m \u001b[32m━━━━━━━━━━━━━━━━━━━━\u001b[0m\u001b[37m\u001b[0m \u001b[1m4s\u001b[0m 5ms/step - loss: 9.2341 - mae: 1.6318 - val_loss: 0.5062 - val_mae: 0.6043 - learning_rate: 0.0010\n",
      "Epoch 2/200\n",
      "\u001b[1m244/244\u001b[0m \u001b[32m━━━━━━━━━━━━━━━━━━━━\u001b[0m\u001b[37m\u001b[0m \u001b[1m1s\u001b[0m 5ms/step - loss: 4.4457 - mae: 0.9983 - val_loss: 0.6569 - val_mae: 0.6895 - learning_rate: 0.0010\n",
      "Epoch 3/200\n",
      "\u001b[1m244/244\u001b[0m \u001b[32m━━━━━━━━━━━━━━━━━━━━\u001b[0m\u001b[37m\u001b[0m \u001b[1m1s\u001b[0m 5ms/step - loss: 2.6202 - mae: 0.9363 - val_loss: 0.6513 - val_mae: 0.7248 - learning_rate: 0.0010\n",
      "Epoch 4/200\n",
      "\u001b[1m244/244\u001b[0m \u001b[32m━━━━━━━━━━━━━━━━━━━━\u001b[0m\u001b[37m\u001b[0m \u001b[1m1s\u001b[0m 5ms/step - loss: 3.6242 - mae: 0.8797 - val_loss: 0.4538 - val_mae: 0.5571 - learning_rate: 0.0010\n",
      "Epoch 5/200\n",
      "\u001b[1m244/244\u001b[0m \u001b[32m━━━━━━━━━━━━━━━━━━━━\u001b[0m\u001b[37m\u001b[0m \u001b[1m1s\u001b[0m 5ms/step - loss: 2.5838 - mae: 0.9946 - val_loss: 0.7353 - val_mae: 0.7550 - learning_rate: 0.0010\n",
      "Epoch 6/200\n",
      "\u001b[1m244/244\u001b[0m \u001b[32m━━━━━━━━━━━━━━━━━━━━\u001b[0m\u001b[37m\u001b[0m \u001b[1m1s\u001b[0m 5ms/step - loss: 2.9804 - mae: 0.9367 - val_loss: 0.4374 - val_mae: 0.5576 - learning_rate: 0.0010\n",
      "Epoch 7/200\n",
      "\u001b[1m244/244\u001b[0m \u001b[32m━━━━━━━━━━━━━━━━━━━━\u001b[0m\u001b[37m\u001b[0m \u001b[1m1s\u001b[0m 5ms/step - loss: 1.5755 - mae: 0.8389 - val_loss: 0.3237 - val_mae: 0.4716 - learning_rate: 0.0010\n",
      "Epoch 8/200\n",
      "\u001b[1m244/244\u001b[0m \u001b[32m━━━━━━━━━━━━━━━━━━━━\u001b[0m\u001b[37m\u001b[0m \u001b[1m3s\u001b[0m 5ms/step - loss: 1.2011 - mae: 0.7269 - val_loss: 0.6799 - val_mae: 0.6854 - learning_rate: 0.0010\n",
      "Epoch 9/200\n",
      "\u001b[1m244/244\u001b[0m \u001b[32m━━━━━━━━━━━━━━━━━━━━\u001b[0m\u001b[37m\u001b[0m \u001b[1m1s\u001b[0m 5ms/step - loss: 0.9278 - mae: 0.6928 - val_loss: 0.2748 - val_mae: 0.4300 - learning_rate: 0.0010\n",
      "Epoch 10/200\n",
      "\u001b[1m244/244\u001b[0m \u001b[32m━━━━━━━━━━━━━━━━━━━━\u001b[0m\u001b[37m\u001b[0m \u001b[1m1s\u001b[0m 6ms/step - loss: 0.7664 - mae: 0.6445 - val_loss: 0.2569 - val_mae: 0.4186 - learning_rate: 0.0010\n",
      "Epoch 11/200\n",
      "\u001b[1m244/244\u001b[0m \u001b[32m━━━━━━━━━━━━━━━━━━━━\u001b[0m\u001b[37m\u001b[0m \u001b[1m1s\u001b[0m 5ms/step - loss: 0.6791 - mae: 0.5837 - val_loss: 0.4312 - val_mae: 0.5557 - learning_rate: 0.0010\n",
      "Epoch 12/200\n",
      "\u001b[1m244/244\u001b[0m \u001b[32m━━━━━━━━━━━━━━━━━━━━\u001b[0m\u001b[37m\u001b[0m \u001b[1m1s\u001b[0m 5ms/step - loss: 0.6130 - mae: 0.5716 - val_loss: 0.2705 - val_mae: 0.4395 - learning_rate: 0.0010\n",
      "Epoch 13/200\n",
      "\u001b[1m244/244\u001b[0m \u001b[32m━━━━━━━━━━━━━━━━━━━━\u001b[0m\u001b[37m\u001b[0m \u001b[1m1s\u001b[0m 5ms/step - loss: 0.4839 - mae: 0.5168 - val_loss: 0.3644 - val_mae: 0.5190 - learning_rate: 0.0010\n",
      "Epoch 14/200\n",
      "\u001b[1m244/244\u001b[0m \u001b[32m━━━━━━━━━━━━━━━━━━━━\u001b[0m\u001b[37m\u001b[0m \u001b[1m3s\u001b[0m 6ms/step - loss: 0.3979 - mae: 0.4856 - val_loss: 0.3672 - val_mae: 0.5227 - learning_rate: 0.0010\n",
      "Epoch 15/200\n",
      "\u001b[1m244/244\u001b[0m \u001b[32m━━━━━━━━━━━━━━━━━━━━\u001b[0m\u001b[37m\u001b[0m \u001b[1m2s\u001b[0m 5ms/step - loss: 0.3647 - mae: 0.4694 - val_loss: 0.1884 - val_mae: 0.3550 - learning_rate: 0.0010\n",
      "Epoch 16/200\n",
      "\u001b[1m244/244\u001b[0m \u001b[32m━━━━━━━━━━━━━━━━━━━━\u001b[0m\u001b[37m\u001b[0m \u001b[1m2s\u001b[0m 6ms/step - loss: 0.3251 - mae: 0.4413 - val_loss: 0.2644 - val_mae: 0.4352 - learning_rate: 0.0010\n",
      "Epoch 17/200\n",
      "\u001b[1m244/244\u001b[0m \u001b[32m━━━━━━━━━━━━━━━━━━━━\u001b[0m\u001b[37m\u001b[0m \u001b[1m1s\u001b[0m 6ms/step - loss: 0.3068 - mae: 0.4307 - val_loss: 0.2085 - val_mae: 0.3804 - learning_rate: 0.0010\n",
      "Epoch 18/200\n",
      "\u001b[1m244/244\u001b[0m \u001b[32m━━━━━━━━━━━━━━━━━━━━\u001b[0m\u001b[37m\u001b[0m \u001b[1m1s\u001b[0m 5ms/step - loss: 0.2853 - mae: 0.4185 - val_loss: 0.2319 - val_mae: 0.4038 - learning_rate: 0.0010\n",
      "Epoch 19/200\n",
      "\u001b[1m244/244\u001b[0m \u001b[32m━━━━━━━━━━━━━━━━━━━━\u001b[0m\u001b[37m\u001b[0m \u001b[1m1s\u001b[0m 6ms/step - loss: 0.2927 - mae: 0.4043 - val_loss: 0.2288 - val_mae: 0.4030 - learning_rate: 0.0010\n",
      "Epoch 20/200\n",
      "\u001b[1m244/244\u001b[0m \u001b[32m━━━━━━━━━━━━━━━━━━━━\u001b[0m\u001b[37m\u001b[0m \u001b[1m3s\u001b[0m 6ms/step - loss: 0.2432 - mae: 0.3835 - val_loss: 0.2752 - val_mae: 0.4471 - learning_rate: 0.0010\n",
      "Epoch 21/200\n",
      "\u001b[1m244/244\u001b[0m \u001b[32m━━━━━━━━━━━━━━━━━━━━\u001b[0m\u001b[37m\u001b[0m \u001b[1m1s\u001b[0m 6ms/step - loss: 0.2341 - mae: 0.3763 - val_loss: 0.1533 - val_mae: 0.3164 - learning_rate: 0.0010\n",
      "Epoch 22/200\n",
      "\u001b[1m244/244\u001b[0m \u001b[32m━━━━━━━━━━━━━━━━━━━━\u001b[0m\u001b[37m\u001b[0m \u001b[1m3s\u001b[0m 6ms/step - loss: 0.2151 - mae: 0.3653 - val_loss: 0.1898 - val_mae: 0.3582 - learning_rate: 0.0010\n",
      "Epoch 23/200\n",
      "\u001b[1m244/244\u001b[0m \u001b[32m━━━━━━━━━━━━━━━━━━━━\u001b[0m\u001b[37m\u001b[0m \u001b[1m1s\u001b[0m 5ms/step - loss: 0.1998 - mae: 0.3516 - val_loss: 0.1462 - val_mae: 0.3088 - learning_rate: 0.0010\n",
      "Epoch 24/200\n",
      "\u001b[1m244/244\u001b[0m \u001b[32m━━━━━━━━━━━━━━━━━━━━\u001b[0m\u001b[37m\u001b[0m \u001b[1m1s\u001b[0m 5ms/step - loss: 0.1975 - mae: 0.3457 - val_loss: 0.1459 - val_mae: 0.3095 - learning_rate: 0.0010\n",
      "Epoch 25/200\n",
      "\u001b[1m244/244\u001b[0m \u001b[32m━━━━━━━━━━━━━━━━━━━━\u001b[0m\u001b[37m\u001b[0m \u001b[1m2s\u001b[0m 6ms/step - loss: 0.1803 - mae: 0.3352 - val_loss: 0.1705 - val_mae: 0.3371 - learning_rate: 0.0010\n",
      "Epoch 26/200\n",
      "\u001b[1m244/244\u001b[0m \u001b[32m━━━━━━━━━━━━━━━━━━━━\u001b[0m\u001b[37m\u001b[0m \u001b[1m1s\u001b[0m 5ms/step - loss: 0.1899 - mae: 0.3435 - val_loss: 0.1480 - val_mae: 0.3117 - learning_rate: 0.0010\n",
      "Epoch 27/200\n",
      "\u001b[1m244/244\u001b[0m \u001b[32m━━━━━━━━━━━━━━━━━━━━\u001b[0m\u001b[37m\u001b[0m \u001b[1m3s\u001b[0m 6ms/step - loss: 0.1802 - mae: 0.3332 - val_loss: 0.1694 - val_mae: 0.3311 - learning_rate: 0.0010\n",
      "Epoch 28/200\n",
      "\u001b[1m244/244\u001b[0m \u001b[32m━━━━━━━━━━━━━━━━━━━━\u001b[0m\u001b[37m\u001b[0m \u001b[1m1s\u001b[0m 6ms/step - loss: 0.1703 - mae: 0.3273 - val_loss: 0.1638 - val_mae: 0.3257 - learning_rate: 0.0010\n",
      "Epoch 29/200\n",
      "\u001b[1m244/244\u001b[0m \u001b[32m━━━━━━━━━━━━━━━━━━━━\u001b[0m\u001b[37m\u001b[0m \u001b[1m1s\u001b[0m 5ms/step - loss: 0.1677 - mae: 0.3244 - val_loss: 0.1451 - val_mae: 0.3064 - learning_rate: 0.0010\n",
      "Epoch 30/200\n",
      "\u001b[1m244/244\u001b[0m \u001b[32m━━━━━━━━━━━━━━━━━━━━\u001b[0m\u001b[37m\u001b[0m \u001b[1m3s\u001b[0m 6ms/step - loss: 0.1544 - mae: 0.3055 - val_loss: 0.1267 - val_mae: 0.2878 - learning_rate: 0.0010\n",
      "Epoch 31/200\n",
      "\u001b[1m244/244\u001b[0m \u001b[32m━━━━━━━━━━━━━━━━━━━━\u001b[0m\u001b[37m\u001b[0m \u001b[1m1s\u001b[0m 5ms/step - loss: 0.1571 - mae: 0.3137 - val_loss: 0.1266 - val_mae: 0.2839 - learning_rate: 0.0010\n",
      "Epoch 32/200\n",
      "\u001b[1m244/244\u001b[0m \u001b[32m━━━━━━━━━━━━━━━━━━━━\u001b[0m\u001b[37m\u001b[0m \u001b[1m1s\u001b[0m 5ms/step - loss: 0.1562 - mae: 0.3107 - val_loss: 0.1254 - val_mae: 0.2837 - learning_rate: 0.0010\n",
      "Epoch 33/200\n",
      "\u001b[1m244/244\u001b[0m \u001b[32m━━━━━━━━━━━━━━━━━━━━\u001b[0m\u001b[37m\u001b[0m \u001b[1m1s\u001b[0m 6ms/step - loss: 0.1428 - mae: 0.2990 - val_loss: 0.1245 - val_mae: 0.2820 - learning_rate: 0.0010\n",
      "Epoch 34/200\n",
      "\u001b[1m244/244\u001b[0m \u001b[32m━━━━━━━━━━━━━━━━━━━━\u001b[0m\u001b[37m\u001b[0m \u001b[1m1s\u001b[0m 5ms/step - loss: 0.1440 - mae: 0.3004 - val_loss: 0.1074 - val_mae: 0.2594 - learning_rate: 0.0010\n",
      "Epoch 35/200\n",
      "\u001b[1m244/244\u001b[0m \u001b[32m━━━━━━━━━━━━━━━━━━━━\u001b[0m\u001b[37m\u001b[0m \u001b[1m2s\u001b[0m 6ms/step - loss: 0.1465 - mae: 0.3012 - val_loss: 0.1970 - val_mae: 0.3580 - learning_rate: 0.0010\n",
      "Epoch 36/200\n",
      "\u001b[1m244/244\u001b[0m \u001b[32m━━━━━━━━━━━━━━━━━━━━\u001b[0m\u001b[37m\u001b[0m \u001b[1m2s\u001b[0m 5ms/step - loss: 0.1366 - mae: 0.2916 - val_loss: 0.1326 - val_mae: 0.2899 - learning_rate: 0.0010\n",
      "Epoch 37/200\n",
      "\u001b[1m244/244\u001b[0m \u001b[32m━━━━━━━━━━━━━━━━━━━━\u001b[0m\u001b[37m\u001b[0m \u001b[1m1s\u001b[0m 5ms/step - loss: 0.1370 - mae: 0.2895 - val_loss: 0.1275 - val_mae: 0.2867 - learning_rate: 0.0010\n",
      "Epoch 38/200\n",
      "\u001b[1m244/244\u001b[0m \u001b[32m━━━━━━━━━━━━━━━━━━━━\u001b[0m\u001b[37m\u001b[0m \u001b[1m1s\u001b[0m 6ms/step - loss: 0.1352 - mae: 0.2899 - val_loss: 0.1317 - val_mae: 0.2900 - learning_rate: 0.0010\n",
      "Epoch 39/200\n",
      "\u001b[1m244/244\u001b[0m \u001b[32m━━━━━━━━━━━━━━━━━━━━\u001b[0m\u001b[37m\u001b[0m \u001b[1m2s\u001b[0m 5ms/step - loss: 0.1288 - mae: 0.2858 - val_loss: 0.1254 - val_mae: 0.2809 - learning_rate: 0.0010\n",
      "Epoch 40/200\n",
      "\u001b[1m244/244\u001b[0m \u001b[32m━━━━━━━━━━━━━━━━━━━━\u001b[0m\u001b[37m\u001b[0m \u001b[1m1s\u001b[0m 5ms/step - loss: 0.1303 - mae: 0.2860 - val_loss: 0.1069 - val_mae: 0.2587 - learning_rate: 0.0010\n",
      "Epoch 41/200\n",
      "\u001b[1m244/244\u001b[0m \u001b[32m━━━━━━━━━━━━━━━━━━━━\u001b[0m\u001b[37m\u001b[0m \u001b[1m1s\u001b[0m 5ms/step - loss: 0.1276 - mae: 0.2825 - val_loss: 0.1642 - val_mae: 0.3259 - learning_rate: 0.0010\n",
      "Epoch 42/200\n",
      "\u001b[1m244/244\u001b[0m \u001b[32m━━━━━━━━━━━━━━━━━━━━\u001b[0m\u001b[37m\u001b[0m \u001b[1m2s\u001b[0m 7ms/step - loss: 0.1253 - mae: 0.2822 - val_loss: 0.1309 - val_mae: 0.2903 - learning_rate: 0.0010\n",
      "Epoch 43/200\n",
      "\u001b[1m244/244\u001b[0m \u001b[32m━━━━━━━━━━━━━━━━━━━━\u001b[0m\u001b[37m\u001b[0m \u001b[1m1s\u001b[0m 5ms/step - loss: 0.1267 - mae: 0.2845 - val_loss: 0.1078 - val_mae: 0.2610 - learning_rate: 0.0010\n",
      "Epoch 44/200\n",
      "\u001b[1m244/244\u001b[0m \u001b[32m━━━━━━━━━━━━━━━━━━━━\u001b[0m\u001b[37m\u001b[0m \u001b[1m2s\u001b[0m 5ms/step - loss: 0.1257 - mae: 0.2810 - val_loss: 0.1204 - val_mae: 0.2751 - learning_rate: 0.0010\n",
      "Epoch 45/200\n",
      "\u001b[1m244/244\u001b[0m \u001b[32m━━━━━━━━━━━━━━━━━━━━\u001b[0m\u001b[37m\u001b[0m \u001b[1m1s\u001b[0m 5ms/step - loss: 0.1218 - mae: 0.2767 - val_loss: 0.1440 - val_mae: 0.3041 - learning_rate: 0.0010\n",
      "Epoch 46/200\n",
      "\u001b[1m244/244\u001b[0m \u001b[32m━━━━━━━━━━━━━━━━━━━━\u001b[0m\u001b[37m\u001b[0m \u001b[1m1s\u001b[0m 5ms/step - loss: 0.1194 - mae: 0.2763 - val_loss: 0.1040 - val_mae: 0.2555 - learning_rate: 0.0010\n",
      "Epoch 47/200\n",
      "\u001b[1m244/244\u001b[0m \u001b[32m━━━━━━━━━━━━━━━━━━━━\u001b[0m\u001b[37m\u001b[0m \u001b[1m2s\u001b[0m 7ms/step - loss: 0.1226 - mae: 0.2773 - val_loss: 0.1158 - val_mae: 0.2693 - learning_rate: 0.0010\n",
      "Epoch 48/200\n",
      "\u001b[1m244/244\u001b[0m \u001b[32m━━━━━━━━━━━━━━━━━━━━\u001b[0m\u001b[37m\u001b[0m \u001b[1m2s\u001b[0m 5ms/step - loss: 0.1193 - mae: 0.2737 - val_loss: 0.1337 - val_mae: 0.2903 - learning_rate: 0.0010\n",
      "Epoch 49/200\n",
      "\u001b[1m244/244\u001b[0m \u001b[32m━━━━━━━━━━━━━━━━━━━━\u001b[0m\u001b[37m\u001b[0m \u001b[1m1s\u001b[0m 5ms/step - loss: 0.1245 - mae: 0.2759 - val_loss: 0.1104 - val_mae: 0.2627 - learning_rate: 0.0010\n",
      "Epoch 50/200\n",
      "\u001b[1m244/244\u001b[0m \u001b[32m━━━━━━━━━━━━━━━━━━━━\u001b[0m\u001b[37m\u001b[0m \u001b[1m2s\u001b[0m 5ms/step - loss: 0.1250 - mae: 0.2813 - val_loss: 0.1068 - val_mae: 0.2606 - learning_rate: 0.0010\n",
      "Epoch 51/200\n",
      "\u001b[1m244/244\u001b[0m \u001b[32m━━━━━━━━━━━━━━━━━━━━\u001b[0m\u001b[37m\u001b[0m \u001b[1m3s\u001b[0m 5ms/step - loss: 0.1158 - mae: 0.2720 - val_loss: 0.1170 - val_mae: 0.2692 - learning_rate: 0.0010\n",
      "Epoch 52/200\n",
      "\u001b[1m244/244\u001b[0m \u001b[32m━━━━━━━━━━━━━━━━━━━━\u001b[0m\u001b[37m\u001b[0m \u001b[1m3s\u001b[0m 5ms/step - loss: 0.1170 - mae: 0.2703 - val_loss: 0.1111 - val_mae: 0.2630 - learning_rate: 0.0010\n",
      "Epoch 53/200\n",
      "\u001b[1m244/244\u001b[0m \u001b[32m━━━━━━━━━━━━━━━━━━━━\u001b[0m\u001b[37m\u001b[0m \u001b[1m1s\u001b[0m 5ms/step - loss: 0.1145 - mae: 0.2684 - val_loss: 0.1184 - val_mae: 0.2756 - learning_rate: 0.0010\n",
      "Epoch 54/200\n",
      "\u001b[1m244/244\u001b[0m \u001b[32m━━━━━━━━━━━━━━━━━━━━\u001b[0m\u001b[37m\u001b[0m \u001b[1m2s\u001b[0m 5ms/step - loss: 0.1141 - mae: 0.2691 - val_loss: 0.1113 - val_mae: 0.2633 - learning_rate: 0.0010\n",
      "Epoch 55/200\n",
      "\u001b[1m244/244\u001b[0m \u001b[32m━━━━━━━━━━━━━━━━━━━━\u001b[0m\u001b[37m\u001b[0m \u001b[1m1s\u001b[0m 5ms/step - loss: 0.1136 - mae: 0.2676 - val_loss: 0.1307 - val_mae: 0.2874 - learning_rate: 0.0010\n",
      "Epoch 56/200\n",
      "\u001b[1m244/244\u001b[0m \u001b[32m━━━━━━━━━━━━━━━━━━━━\u001b[0m\u001b[37m\u001b[0m \u001b[1m3s\u001b[0m 5ms/step - loss: 0.1121 - mae: 0.2670 - val_loss: 0.1187 - val_mae: 0.2755 - learning_rate: 0.0010\n",
      "Epoch 57/200\n",
      "\u001b[1m244/244\u001b[0m \u001b[32m━━━━━━━━━━━━━━━━━━━━\u001b[0m\u001b[37m\u001b[0m \u001b[1m3s\u001b[0m 5ms/step - loss: 0.1057 - mae: 0.2585 - val_loss: 0.1155 - val_mae: 0.2712 - learning_rate: 1.0000e-04\n",
      "Epoch 58/200\n",
      "\u001b[1m244/244\u001b[0m \u001b[32m━━━━━━━━━━━━━━━━━━━━\u001b[0m\u001b[37m\u001b[0m \u001b[1m1s\u001b[0m 5ms/step - loss: 0.1032 - mae: 0.2542 - val_loss: 0.1140 - val_mae: 0.2690 - learning_rate: 1.0000e-04\n",
      "Epoch 59/200\n",
      "\u001b[1m244/244\u001b[0m \u001b[32m━━━━━━━━━━━━━━━━━━━━\u001b[0m\u001b[37m\u001b[0m \u001b[1m1s\u001b[0m 6ms/step - loss: 0.1056 - mae: 0.2583 - val_loss: 0.1133 - val_mae: 0.2680 - learning_rate: 1.0000e-04\n",
      "Epoch 60/200\n",
      "\u001b[1m244/244\u001b[0m \u001b[32m━━━━━━━━━━━━━━━━━━━━\u001b[0m\u001b[37m\u001b[0m \u001b[1m2s\u001b[0m 7ms/step - loss: 0.1022 - mae: 0.2547 - val_loss: 0.1230 - val_mae: 0.2801 - learning_rate: 1.0000e-04\n",
      "Epoch 61/200\n",
      "\u001b[1m244/244\u001b[0m \u001b[32m━━━━━━━━━━━━━━━━━━━━\u001b[0m\u001b[37m\u001b[0m \u001b[1m1s\u001b[0m 5ms/step - loss: 0.1021 - mae: 0.2561 - val_loss: 0.1161 - val_mae: 0.2712 - learning_rate: 1.0000e-04\n",
      "Epoch 62/200\n",
      "\u001b[1m244/244\u001b[0m \u001b[32m━━━━━━━━━━━━━━━━━━━━\u001b[0m\u001b[37m\u001b[0m \u001b[1m1s\u001b[0m 5ms/step - loss: 0.1013 - mae: 0.2516 - val_loss: 0.1116 - val_mae: 0.2655 - learning_rate: 1.0000e-04\n",
      "Epoch 63/200\n",
      "\u001b[1m244/244\u001b[0m \u001b[32m━━━━━━━━━━━━━━━━━━━━\u001b[0m\u001b[37m\u001b[0m \u001b[1m2s\u001b[0m 8ms/step - loss: 0.1010 - mae: 0.2531 - val_loss: 0.1227 - val_mae: 0.2794 - learning_rate: 1.0000e-04\n",
      "Epoch 64/200\n",
      "\u001b[1m244/244\u001b[0m \u001b[32m━━━━━━━━━━━━━━━━━━━━\u001b[0m\u001b[37m\u001b[0m \u001b[1m2s\u001b[0m 5ms/step - loss: 0.0993 - mae: 0.2503 - val_loss: 0.1155 - val_mae: 0.2707 - learning_rate: 1.0000e-04\n",
      "Epoch 65/200\n",
      "\u001b[1m244/244\u001b[0m \u001b[32m━━━━━━━━━━━━━━━━━━━━\u001b[0m\u001b[37m\u001b[0m \u001b[1m1s\u001b[0m 5ms/step - loss: 0.1007 - mae: 0.2522 - val_loss: 0.1149 - val_mae: 0.2699 - learning_rate: 1.0000e-04\n",
      "Epoch 66/200\n",
      "\u001b[1m244/244\u001b[0m \u001b[32m━━━━━━━━━━━━━━━━━━━━\u001b[0m\u001b[37m\u001b[0m \u001b[1m1s\u001b[0m 5ms/step - loss: 0.1007 - mae: 0.2525 - val_loss: 0.1154 - val_mae: 0.2704 - learning_rate: 1.0000e-04\n"
     ]
    }
   ],
   "source": [
    "history = model.fit(\n",
    "    x=X_train,\n",
    "    y=y_train,\n",
    "    validation_data=(X_test, y_test),\n",
    "    epochs=200,\n",
    "    batch_size=16,\n",
    "    verbose=1,\n",
    "    callbacks=[\n",
    "        EarlyStopping(\n",
    "            monitor='val_loss',\n",
    "            patience=20,\n",
    "            restore_best_weights=True\n",
    "        ),\n",
    "        ReduceLROnPlateau(\n",
    "            monitor='val_loss',\n",
    "            factor=1e-1,\n",
    "            patience=10,\n",
    "            min_lr=1e-6\n",
    "        )\n",
    "    ],\n",
    ")"
   ]
  },
  {
   "cell_type": "code",
   "execution_count": 12,
   "id": "8bd2926e",
   "metadata": {},
   "outputs": [
    {
     "name": "stdout",
     "output_type": "stream",
     "text": [
      "Test Loss (MSE): 0.1040\n",
      "Test MAE: 0.2555\n"
     ]
    }
   ],
   "source": [
    "# valutazione \n",
    "loss, mae = model.evaluate(X_test, y_test, verbose=0)\n",
    "print(f\"Test Loss (MSE): {loss:.4f}\")\n",
    "print(f\"Test MAE: {mae:.4f}\")"
   ]
  },
  {
   "cell_type": "code",
   "execution_count": 13,
   "id": "a808dd78",
   "metadata": {},
   "outputs": [
    {
     "name": "stdout",
     "output_type": "stream",
     "text": [
      "\u001b[1m1/1\u001b[0m \u001b[32m━━━━━━━━━━━━━━━━━━━━\u001b[0m\u001b[37m\u001b[0m \u001b[1m0s\u001b[0m 97ms/step\n",
      "Predizioni vs Valori reali:\n",
      "Predetto: 7.40 kg, Reale: 7.14 kg\n",
      "Predetto: 5.17 kg, Reale: 4.98 kg\n",
      "Predetto: 4.81 kg, Reale: 4.86 kg\n",
      "Predetto: 5.37 kg, Reale: 5.70 kg\n",
      "Predetto: 6.56 kg, Reale: 6.54 kg\n"
     ]
    }
   ],
   "source": [
    "# Predizione di esempio\n",
    "predictions = model.predict(X_test[:5])\n",
    "print(\"Predizioni vs Valori reali:\")\n",
    "for i in range(5):\n",
    "    print(f\"Predetto: {predictions[i][0]:.2f} kg, Reale: {y_test[i]:.2f} kg\")"
   ]
  },
  {
   "cell_type": "code",
   "execution_count": 14,
   "id": "cf1f6456",
   "metadata": {},
   "outputs": [
    {
     "data": {
      "image/png": "[encoded data removed]",
      "text/plain": [
       "<Figure size 1200x400 with 2 Axes>"
      ]
     },
     "metadata": {},
     "output_type": "display_data"
    }
   ],
   "source": [
    "import matplotlib.pyplot as plt\n",
    "\n",
    "plt.figure(figsize=(12, 4))\n",
    "\n",
    "plt.subplot(1, 2, 1)\n",
    "plt.plot(history.history['loss'], label='Training Loss')\n",
    "plt.plot(history.history['val_loss'], label='Validation Loss')\n",
    "plt.title('Model Loss')\n",
    "plt.xlabel('Epoch')\n",
    "plt.ylabel('Loss')\n",
    "plt.legend()\n",
    "\n",
    "plt.subplot(1, 2, 2)\n",
    "plt.plot(history.history['mae'], label='Training MAE')\n",
    "plt.plot(history.history['val_mae'], label='Validation MAE')\n",
    "plt.title('Model MAE')\n",
    "plt.xlabel('Epoch')\n",
    "plt.ylabel('MAE')\n",
    "plt.legend()\n",
    "\n",
    "plt.tight_layout()\n",
    "plt.show()"
   ]
  },
  {
   "cell_type": "markdown",
   "id": "7c873b03",
   "metadata": {},
   "source": [
    "# Risultati\n",
    "Come possiamo osservare, sia la `training loss` che la `validation loss` scendono ad un buon ritmo fino a raggiungere un plateau intorno a `0.1040` per `MeanSquaredError` e `0.2555` per `MeanAbsoluteError`.\n",
    "\n",
    "Questo significa che in media `wrp-1` è in grado di predirre il peso del gatto con circa **250 grammi di errore**.\n",
    "\n",
    "Questi risultati sono molto promettenti tenendo conto della dimensione molto ridotta del modello, ma c'è ancora margine di miglioramento."
   ]
  },
  {
   "cell_type": "code",
   "execution_count": 16,
   "id": "744ef627",
   "metadata": {},
   "outputs": [
    {
     "data": {
      "text/html": [
       "<pre style=\"white-space:pre;overflow-x:auto;line-height:normal;font-family:Menlo,'DejaVu Sans Mono',consolas,'Courier New',monospace\"><span style=\"font-weight: bold\">Model: \"wrp-1\"</span>\n",
       "</pre>\n"
      ],
      "text/plain": [
       "\u001b[1mModel: \"wrp-1\"\u001b[0m\n"
      ]
     },
     "metadata": {},
     "output_type": "display_data"
    },
    {
     "data": {
      "text/html": [
       "<pre style=\"white-space:pre;overflow-x:auto;line-height:normal;font-family:Menlo,'DejaVu Sans Mono',consolas,'Courier New',monospace\">┏━━━━━━━━━━━━━━━━━━━━━━━━━━━━━━━━━┳━━━━━━━━━━━━━━━━━━━━━━━━┳━━━━━━━━━━━━━━━┓\n",
       "┃<span style=\"font-weight: bold\"> Layer (type)                    </span>┃<span style=\"font-weight: bold\"> Output Shape           </span>┃<span style=\"font-weight: bold\">       Param # </span>┃\n",
       "┡━━━━━━━━━━━━━━━━━━━━━━━━━━━━━━━━━╇━━━━━━━━━━━━━━━━━━━━━━━━╇━━━━━━━━━━━━━━━┩\n",
       "│ dense (<span style=\"color: #0087ff; text-decoration-color: #0087ff\">Dense</span>)                   │ (<span style=\"color: #00d7ff; text-decoration-color: #00d7ff\">None</span>, <span style=\"color: #00af00; text-decoration-color: #00af00\">256</span>)            │         <span style=\"color: #00af00; text-decoration-color: #00af00\">5,888</span> │\n",
       "├─────────────────────────────────┼────────────────────────┼───────────────┤\n",
       "│ dropout (<span style=\"color: #0087ff; text-decoration-color: #0087ff\">Dropout</span>)               │ (<span style=\"color: #00d7ff; text-decoration-color: #00d7ff\">None</span>, <span style=\"color: #00af00; text-decoration-color: #00af00\">256</span>)            │             <span style=\"color: #00af00; text-decoration-color: #00af00\">0</span> │\n",
       "├─────────────────────────────────┼────────────────────────┼───────────────┤\n",
       "│ dense_1 (<span style=\"color: #0087ff; text-decoration-color: #0087ff\">Dense</span>)                 │ (<span style=\"color: #00d7ff; text-decoration-color: #00d7ff\">None</span>, <span style=\"color: #00af00; text-decoration-color: #00af00\">128</span>)            │        <span style=\"color: #00af00; text-decoration-color: #00af00\">32,896</span> │\n",
       "├─────────────────────────────────┼────────────────────────┼───────────────┤\n",
       "│ dropout_1 (<span style=\"color: #0087ff; text-decoration-color: #0087ff\">Dropout</span>)             │ (<span style=\"color: #00d7ff; text-decoration-color: #00d7ff\">None</span>, <span style=\"color: #00af00; text-decoration-color: #00af00\">128</span>)            │             <span style=\"color: #00af00; text-decoration-color: #00af00\">0</span> │\n",
       "├─────────────────────────────────┼────────────────────────┼───────────────┤\n",
       "│ dense_2 (<span style=\"color: #0087ff; text-decoration-color: #0087ff\">Dense</span>)                 │ (<span style=\"color: #00d7ff; text-decoration-color: #00d7ff\">None</span>, <span style=\"color: #00af00; text-decoration-color: #00af00\">64</span>)             │         <span style=\"color: #00af00; text-decoration-color: #00af00\">8,256</span> │\n",
       "├─────────────────────────────────┼────────────────────────┼───────────────┤\n",
       "│ dropout_2 (<span style=\"color: #0087ff; text-decoration-color: #0087ff\">Dropout</span>)             │ (<span style=\"color: #00d7ff; text-decoration-color: #00d7ff\">None</span>, <span style=\"color: #00af00; text-decoration-color: #00af00\">64</span>)             │             <span style=\"color: #00af00; text-decoration-color: #00af00\">0</span> │\n",
       "├─────────────────────────────────┼────────────────────────┼───────────────┤\n",
       "│ dense_3 (<span style=\"color: #0087ff; text-decoration-color: #0087ff\">Dense</span>)                 │ (<span style=\"color: #00d7ff; text-decoration-color: #00d7ff\">None</span>, <span style=\"color: #00af00; text-decoration-color: #00af00\">32</span>)             │         <span style=\"color: #00af00; text-decoration-color: #00af00\">2,080</span> │\n",
       "├─────────────────────────────────┼────────────────────────┼───────────────┤\n",
       "│ dropout_3 (<span style=\"color: #0087ff; text-decoration-color: #0087ff\">Dropout</span>)             │ (<span style=\"color: #00d7ff; text-decoration-color: #00d7ff\">None</span>, <span style=\"color: #00af00; text-decoration-color: #00af00\">32</span>)             │             <span style=\"color: #00af00; text-decoration-color: #00af00\">0</span> │\n",
       "├─────────────────────────────────┼────────────────────────┼───────────────┤\n",
       "│ dense_4 (<span style=\"color: #0087ff; text-decoration-color: #0087ff\">Dense</span>)                 │ (<span style=\"color: #00d7ff; text-decoration-color: #00d7ff\">None</span>, <span style=\"color: #00af00; text-decoration-color: #00af00\">16</span>)             │           <span style=\"color: #00af00; text-decoration-color: #00af00\">528</span> │\n",
       "├─────────────────────────────────┼────────────────────────┼───────────────┤\n",
       "│ dense_5 (<span style=\"color: #0087ff; text-decoration-color: #0087ff\">Dense</span>)                 │ (<span style=\"color: #00d7ff; text-decoration-color: #00d7ff\">None</span>, <span style=\"color: #00af00; text-decoration-color: #00af00\">1</span>)              │            <span style=\"color: #00af00; text-decoration-color: #00af00\">17</span> │\n",
       "└─────────────────────────────────┴────────────────────────┴───────────────┘\n",
       "</pre>\n"
      ],
      "text/plain": [
       "┏━━━━━━━━━━━━━━━━━━━━━━━━━━━━━━━━━┳━━━━━━━━━━━━━━━━━━━━━━━━┳━━━━━━━━━━━━━━━┓\n",
       "┃\u001b[1m \u001b[0m\u001b[1mLayer (type)                   \u001b[0m\u001b[1m \u001b[0m┃\u001b[1m \u001b[0m\u001b[1mOutput Shape          \u001b[0m\u001b[1m \u001b[0m┃\u001b[1m \u001b[0m\u001b[1m      Param #\u001b[0m\u001b[1m \u001b[0m┃\n",
       "┡━━━━━━━━━━━━━━━━━━━━━━━━━━━━━━━━━╇━━━━━━━━━━━━━━━━━━━━━━━━╇━━━━━━━━━━━━━━━┩\n",
       "│ dense (\u001b[38;5;33mDense\u001b[0m)                   │ (\u001b[38;5;45mNone\u001b[0m, \u001b[38;5;34m256\u001b[0m)            │         \u001b[38;5;34m5,888\u001b[0m │\n",
       "├─────────────────────────────────┼────────────────────────┼───────────────┤\n",
       "│ dropout (\u001b[38;5;33mDropout\u001b[0m)               │ (\u001b[38;5;45mNone\u001b[0m, \u001b[38;5;34m256\u001b[0m)            │             \u001b[38;5;34m0\u001b[0m │\n",
       "├─────────────────────────────────┼────────────────────────┼───────────────┤\n",
       "│ dense_1 (\u001b[38;5;33mDense\u001b[0m)                 │ (\u001b[38;5;45mNone\u001b[0m, \u001b[38;5;34m128\u001b[0m)            │        \u001b[38;5;34m32,896\u001b[0m │\n",
       "├─────────────────────────────────┼────────────────────────┼───────────────┤\n",
       "│ dropout_1 (\u001b[38;5;33mDropout\u001b[0m)             │ (\u001b[38;5;45mNone\u001b[0m, \u001b[38;5;34m128\u001b[0m)            │             \u001b[38;5;34m0\u001b[0m │\n",
       "├─────────────────────────────────┼────────────────────────┼───────────────┤\n",
       "│ dense_2 (\u001b[38;5;33mDense\u001b[0m)                 │ (\u001b[38;5;45mNone\u001b[0m, \u001b[38;5;34m64\u001b[0m)             │         \u001b[38;5;34m8,256\u001b[0m │\n",
       "├─────────────────────────────────┼────────────────────────┼───────────────┤\n",
       "│ dropout_2 (\u001b[38;5;33mDropout\u001b[0m)             │ (\u001b[38;5;45mNone\u001b[0m, \u001b[38;5;34m64\u001b[0m)             │             \u001b[38;5;34m0\u001b[0m │\n",
       "├─────────────────────────────────┼────────────────────────┼───────────────┤\n",
       "│ dense_3 (\u001b[38;5;33mDense\u001b[0m)                 │ (\u001b[38;5;45mNone\u001b[0m, \u001b[38;5;34m32\u001b[0m)             │         \u001b[38;5;34m2,080\u001b[0m │\n",
       "├─────────────────────────────────┼────────────────────────┼───────────────┤\n",
       "│ dropout_3 (\u001b[38;5;33mDropout\u001b[0m)             │ (\u001b[38;5;45mNone\u001b[0m, \u001b[38;5;34m32\u001b[0m)             │             \u001b[38;5;34m0\u001b[0m │\n",
       "├─────────────────────────────────┼────────────────────────┼───────────────┤\n",
       "│ dense_4 (\u001b[38;5;33mDense\u001b[0m)                 │ (\u001b[38;5;45mNone\u001b[0m, \u001b[38;5;34m16\u001b[0m)             │           \u001b[38;5;34m528\u001b[0m │\n",
       "├─────────────────────────────────┼────────────────────────┼───────────────┤\n",
       "│ dense_5 (\u001b[38;5;33mDense\u001b[0m)                 │ (\u001b[38;5;45mNone\u001b[0m, \u001b[38;5;34m1\u001b[0m)              │            \u001b[38;5;34m17\u001b[0m │\n",
       "└─────────────────────────────────┴────────────────────────┴───────────────┘\n"
      ]
     },
     "metadata": {},
     "output_type": "display_data"
    },
    {
     "data": {
      "text/html": [
       "<pre style=\"white-space:pre;overflow-x:auto;line-height:normal;font-family:Menlo,'DejaVu Sans Mono',consolas,'Courier New',monospace\"><span style=\"font-weight: bold\"> Total params: </span><span style=\"color: #00af00; text-decoration-color: #00af00\">148,997</span> (582.02 KB)\n",
       "</pre>\n"
      ],
      "text/plain": [
       "\u001b[1m Total params: \u001b[0m\u001b[38;5;34m148,997\u001b[0m (582.02 KB)\n"
      ]
     },
     "metadata": {},
     "output_type": "display_data"
    },
    {
     "data": {
      "text/html": [
       "<pre style=\"white-space:pre;overflow-x:auto;line-height:normal;font-family:Menlo,'DejaVu Sans Mono',consolas,'Courier New',monospace\"><span style=\"font-weight: bold\"> Trainable params: </span><span style=\"color: #00af00; text-decoration-color: #00af00\">49,665</span> (194.00 KB)\n",
       "</pre>\n"
      ],
      "text/plain": [
       "\u001b[1m Trainable params: \u001b[0m\u001b[38;5;34m49,665\u001b[0m (194.00 KB)\n"
      ]
     },
     "metadata": {},
     "output_type": "display_data"
    },
    {
     "data": {
      "text/html": [
       "<pre style=\"white-space:pre;overflow-x:auto;line-height:normal;font-family:Menlo,'DejaVu Sans Mono',consolas,'Courier New',monospace\"><span style=\"font-weight: bold\"> Non-trainable params: </span><span style=\"color: #00af00; text-decoration-color: #00af00\">0</span> (0.00 B)\n",
       "</pre>\n"
      ],
      "text/plain": [
       "\u001b[1m Non-trainable params: \u001b[0m\u001b[38;5;34m0\u001b[0m (0.00 B)\n"
      ]
     },
     "metadata": {},
     "output_type": "display_data"
    },
    {
     "data": {
      "text/html": [
       "<pre style=\"white-space:pre;overflow-x:auto;line-height:normal;font-family:Menlo,'DejaVu Sans Mono',consolas,'Courier New',monospace\"><span style=\"font-weight: bold\"> Optimizer params: </span><span style=\"color: #00af00; text-decoration-color: #00af00\">99,332</span> (388.02 KB)\n",
       "</pre>\n"
      ],
      "text/plain": [
       "\u001b[1m Optimizer params: \u001b[0m\u001b[38;5;34m99,332\u001b[0m (388.02 KB)\n"
      ]
     },
     "metadata": {},
     "output_type": "display_data"
    }
   ],
   "source": [
    "# Architettura del modello\n",
    "model.summary()"
   ]
  },
  {
   "cell_type": "code",
   "execution_count": null,
   "id": "90de0e92",
   "metadata": {},
   "outputs": [
    {
     "data": {
      "text/plain": [
       "['models/wrp-1/wrp-1-encoder.pkl']"
      ]
     },
     "execution_count": 30,
     "metadata": {},
     "output_type": "execute_result"
    }
   ],
   "source": [
    "class DataEncoder:\n",
    "    \"\"\"Helper che permette di processare i dati in entrata con una sola chamata a funzione\"\"\"\n",
    "\n",
    "    def __init__(self, preprocessor: ColumnTransformer | None = None):\n",
    "        self.preprocessor: ColumnTransformer = preprocessor or self._create_preprocessor()\n",
    "\n",
    "    def __call__(self, df: pd.DataFrame):\n",
    "        return self.process(df)\n",
    "\n",
    "    def process(self, df: pd.DataFrame, adjust_columns: bool = False):\n",
    "        features, ids = self._preprocess_data(df)\n",
    "        X_processed = self.preprocessor.transform(features)\n",
    "\n",
    "        if adjust_columns:\n",
    "            # Se ci sono meno features, aggiungiamo zeri,\n",
    "            # se ce ne sono troppe, tronchiamo i dati\n",
    "            # (Nota: meglio non usare questa funzionalità se non costretti,\n",
    "            # visto che il modello otterrà dati fasulli o incompleti)\n",
    "            \n",
    "            expected_features = model.input_shape[1]\n",
    "            actual_features = X_processed.shape[1]\n",
    "            \n",
    "            if actual_features < expected_features:\n",
    "                print(f\"⚠️  Padding aggiunto: da {actual_features} a {expected_features} features (risultato potrebbe non esere giusto)\")\n",
    "                # Aggiungi colonne di zeri\n",
    "                padding = np.zeros((X_processed.shape[0], expected_features - actual_features))\n",
    "                X_processed = np.hstack([X_processed, padding])\n",
    "            elif actual_features > expected_features:\n",
    "                print(f\"⚠️  Troncamento: da {actual_features} a {expected_features} features (risultato potrebbe non esere giusto)\")\n",
    "                X_processed = X_processed[:, :expected_features]\n",
    "\n",
    "        return X_processed, ids\n",
    "\n",
    "    def _preprocess_data(self, df: pd.DataFrame):\n",
    "        df_clean = df.copy()\n",
    "        \n",
    "        # Rimuovi id_gatto\n",
    "        if 'id_gatto' in df_clean.columns:\n",
    "            ids = df_clean['id_gatto'].astype(int)\n",
    "            df_clean = df_clean.drop(columns=['id_gatto'])\n",
    "        else:\n",
    "            ids = range(len(df_clean))\n",
    "        \n",
    "        # Gestisci valori mancanti numerici\n",
    "        numeric_cols = ['eta_mesi', 'peso_nascita_kg', 'lunghezza_cm', 'altezza_spalla_cm', \n",
    "                    'attivita_giornaliera', 'quantita_cibo_giorno_g', 'temperatura_media_zona']\n",
    "        \n",
    "        for col in numeric_cols:\n",
    "            if col in df_clean.columns:\n",
    "                df_clean[col] = pd.to_numeric(df_clean[col], errors='coerce')\n",
    "                df_clean[col] = df_clean[col].fillna(df_clean[col].median() if not df_clean[col].isna().all() else 0)\n",
    "        \n",
    "        # Gestisci valori mancanti binari\n",
    "        binary_cols = ['pelo_lungo', 'sterilizzato', 'vive_interno']\n",
    "        for col in binary_cols:\n",
    "            if col in df_clean.columns:\n",
    "                df_clean[col] = pd.to_numeric(df_clean[col], errors='coerce')\n",
    "                df_clean[col] = df_clean[col].fillna(0)\n",
    "                df_clean[col] = df_clean[col].apply(lambda x: 1 if x == 1 else 0)\n",
    "        \n",
    "        # Gestisci categorie sconosciute\n",
    "        categorical_cols = ['razza', 'sesso', 'tipo_cibo']\n",
    "        for col in categorical_cols:\n",
    "            if col in df_clean.columns:\n",
    "                df_clean[col] = df_clean[col].fillna('Unknown')\n",
    "                # Converti a stringa per sicurezza\n",
    "                df_clean[col] = df_clean[col].astype(str)\n",
    "        \n",
    "        return df_clean, ids\n",
    "    \n",
    "    def _ensure_binary(col: pd.Series) -> pd.Series:\n",
    "        \"\"\"\n",
    "        Nelle colonne dove i dati sono binari,\n",
    "        potrebbero essere presenti dei \"Si\" e \"No\"\n",
    "        o il datatype sbagliato, questa funzione si occupa\n",
    "        di assicurare che il valore in queste colonne sia sempre e solo 0/1\n",
    "        \"\"\"\n",
    "        binary_map = {\n",
    "            1: 1,       0: 0,\n",
    "            '1': 1,     '0': 0,\n",
    "            'Si': 1,    'No': 0\n",
    "        }\n",
    "        return col.map(binary_map)\n",
    "    \n",
    "    def _create_preprocessor(self):\n",
    "        # Definizione colonne\n",
    "        categorical_columns = ['razza', 'sesso', 'tipo_cibo'] # puramente stringe di testo\n",
    "        binary_columns = ['pelo_lungo', 'sterilizzato', 'vive_interno']  # valori 0/1\n",
    "        numerical_columns = self.df.columns.drop(categorical_columns + binary_columns).tolist() # valori numerici\n",
    "\n",
    "        # Assicurati che binary_columns abbia solo 0 e 1\n",
    "        for col in binary_columns:\n",
    "            self.df[col] = ensure_binary(self.df[col])\n",
    "\n",
    "        return ColumnTransformer(\n",
    "            transformers=[\n",
    "                ('num', StandardScaler(), numerical_columns),\n",
    "                ('bin', 'passthrough', binary_columns),\n",
    "                ('cat', OneHotEncoder(handle_unknown='ignore'), categorical_columns)\n",
    "            ])\n",
    "\n",
    "    def _fit_preprocessor(self,df: pd.DataFrame):\n",
    "        self.preprocessor.fit_transform(df)\n",
    "\n",
    "encoder = DataEncoder(preprocessor)"
   ]
  },
  {
   "cell_type": "code",
   "execution_count": null,
   "id": "0663465c",
   "metadata": {},
   "outputs": [],
   "source": [
    "def save_model(model: Sequential, preprocessor: ColumnTransformer, data_encoder: DataEncoder):\n",
    "    dir_path = Path(\"..\") / \"models\" / model.name\n",
    "    model_path = dir_path / (str(model.name) + \".keras\")\n",
    "    preprocessor_path = dir_path / \"preprocessor.pkl\"\n",
    "    encoder_path = str(model.name) + \"-encoder.pkl\"\n",
    "    os.makedirs(model_path.parent, exist_ok=True)\n",
    "\n",
    "    model.save(model_path)\n",
    "    joblib.dump(preprocessor, preprocessor_path)\n",
    "    joblib.dump(data_encoder,encoder_path)\n",
    "\n",
    "\n",
    "save_model(model, preprocessor, encoder)"
   ]
  },
  {
   "cell_type": "markdown",
   "id": "600fa8c4",
   "metadata": {},
   "source": [
    "# Come usare `wrp-1`\n",
    "Come puoi vedere, `wrp-1` richiede diversi step di preprocessing dei dati, per questo abbiamo creato `DataEncoder`, una classe helper che permette di saltare tutta la parte di normalizzazione e filtraggio dei dati e passare direttamente ad utilizzare dati gia processati per prevedere il peso del gatto.\n",
    "\n",
    "`DataEncoder` viene salvato assieme al modello con il nome `wrp-{versione}-encoder.pkl` e dispone di un metodo `process()` che si occuperà di tutta la parte descritta sopra. \n",
    "\n",
    "Esempio di come usare wrp-1 e wrp-1-encoder per determinare il peso di un gatto.  \n",
    "I risultati verranno salvati in `out/risultati-wrp-1.csv`"
   ]
  },
  {
   "cell_type": "code",
   "execution_count": 33,
   "id": "53557ae0",
   "metadata": {},
   "outputs": [
    {
     "name": "stdout",
     "output_type": "stream",
     "text": [
      "\u001b[1m4/4\u001b[0m \u001b[32m━━━━━━━━━━━━━━━━━━━━\u001b[0m\u001b[37m\u001b[0m \u001b[1m0s\u001b[0m 36ms/step\n",
      "✅ Predizioni completate!\n"
     ]
    }
   ],
   "source": [
    "\n",
    "model: Sequential = keras.models.load_model(\"models/wrp-1/wrp-1.keras\")\n",
    "encoder = joblib.load(\"models/wrp-1/wrp-1-encoder.pkl\")\n",
    "\n",
    "# Carica test set\n",
    "test_df = pd.read_csv(\"data/test_set.csv\")\n",
    "\n",
    "try:\n",
    "    # processa i dati\n",
    "    X_processed, ids = encoder(test_df)\n",
    "    \n",
    "    # determina il peso del gatto\n",
    "    predictions = model.predict(X_processed)\n",
    "    \n",
    "    # Salva risultati\n",
    "    os.makedirs(\"out\", exist_ok=True)\n",
    "    with open(\"out/risultati-wrp-1.csv\", \"w\") as out:\n",
    "        out.write(\"id_gatto,peso_previsto_kg\\n\")\n",
    "        for id_gatto, peso in zip(ids, predictions):\n",
    "            out.write(f\"{id_gatto},{peso[0]:.2f}\\n\")\n",
    "\n",
    "    print(\"✅ Predizioni completate!\")\n",
    "except Exception as e:\n",
    "    print(f\"❌ Errore finale: {e}\")"
   ]
  },
  {
   "cell_type": "code",
   "execution_count": 32,
   "id": "211bed1f",
   "metadata": {},
   "outputs": [
    {
     "name": "stdout",
     "output_type": "stream",
     "text": [
      "Preprocessor e info salvati correttamente!\n"
     ]
    }
   ],
   "source": [
    "# Salva anche le colonne per riferimento per il preprocessor (solo per debug)\n",
    "feature_info = {\n",
    "    'columns': X.columns.tolist(),\n",
    "    'categorical': categorical_columns,\n",
    "    'numerical': numerical_columns,\n",
    "    'binary': binary_columns\n",
    "}\n",
    "joblib.dump(feature_info, 'models/wrp-1/feature_info.pkl')\n",
    "\n",
    "print(\"Preprocessor e info salvati correttamente!\")"
   ]
  }
 ],
 "metadata": {
  "kernelspec": {
   "display_name": "project15",
   "language": "python",
   "name": "python3"
  },
  "language_info": {
   "codemirror_mode": {
    "name": "ipython",
    "version": 3
   },
   "file_extension": ".py",
   "mimetype": "text/x-python",
   "name": "python",
   "nbconvert_exporter": "python",
   "pygments_lexer": "ipython3",
   "version": "3.13.5"
  }
 },
 "nbformat": 4,
 "nbformat_minor": 5
}
